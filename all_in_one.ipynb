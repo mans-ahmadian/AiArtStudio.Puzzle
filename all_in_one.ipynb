{
 "cells": [
  {
   "cell_type": "code",
   "execution_count": 1,
   "id": "92bce612",
   "metadata": {},
   "outputs": [
    {
     "name": "stdout",
     "output_type": "stream",
     "text": [
      "Note: you may need to restart the kernel to use updated packages.\n"
     ]
    }
   ],
   "source": [
    "#Require Python 3.12.3\n",
    "%pip freeze > requirements.txt"
   ]
  },
  {
   "cell_type": "markdown",
   "id": "9a1f53fc",
   "metadata": {},
   "source": [
    "# Setup"
   ]
  },
  {
   "cell_type": "code",
   "execution_count": 2,
   "id": "ccdbb796",
   "metadata": {},
   "outputs": [],
   "source": [
    "import cv2\n",
    "import numpy as np\n",
    "from PIL import Image\n",
    "from moviepy.editor import VideoFileClip, AudioFileClip, CompositeAudioClip\n",
    "import tempfile\n",
    "import os\n",
    "\n",
    "from transformers import CLIPFeatureExtractor\n",
    "from diffusers import StableDiffusionPipeline\n",
    "from diffusers.pipelines.stable_diffusion.safety_checker import StableDiffusionSafetyChecker\n",
    "import torch\n",
    "from pathlib import Path\n",
    "\n",
    "import numpy as np\n",
    "import datetime\n",
    "import random\n",
    "from transformers import pipeline, AutoTokenizer, AutoModelForCausalLM\n",
    "\n",
    "import pandas as pd\n",
    "import glob\n",
    "\n",
    "import ollama\n",
    "import json\n",
    "import time\n",
    "\n",
    "from pydantic import BaseModel, Field, ValidationError\n",
    "import sys\n",
    "\n"
   ]
  },
  {
   "cell_type": "code",
   "execution_count": 3,
   "id": "f0eaa39b",
   "metadata": {},
   "outputs": [
    {
     "data": {
      "text/plain": [
       "True"
      ]
     },
     "execution_count": 3,
     "metadata": {},
     "output_type": "execute_result"
    }
   ],
   "source": [
    "torch.cuda.is_available()"
   ]
  },
  {
   "cell_type": "code",
   "execution_count": 4,
   "id": "5edc07eb",
   "metadata": {},
   "outputs": [],
   "source": [
    "assts_dir= Path(os.getcwd())/\"assets\"\n",
    "propmt_dir = Path(os.getcwd())/\"Prompts\"\n",
    "GDrive_dir = Path(\"run/user/1000/gvfs/google-drive:host=gmail.com,user=aiartstudio.ai/0AOT4cSJ5oKlpUk9PVA/1cBJcIkDKKJziO4CPcNyoIBUOQ6n_MshJ\")\n"
   ]
  },
  {
   "cell_type": "markdown",
   "id": "c5ee1f25",
   "metadata": {},
   "source": [
    "# classes"
   ]
  },
  {
   "cell_type": "code",
   "execution_count": 5,
   "id": "0566db85",
   "metadata": {},
   "outputs": [
    {
     "name": "stdout",
     "output_type": "stream",
     "text": [
      "--- Connecting to local Ollama server ---\n",
      "\n",
      "--- Generating First Output with a random seed and style ---\n",
      "\n",
      "Generated content for 'cherry blossom tree':\n",
      "{\n",
      "  \"prompt\": \"A single, ancient cherry blossom tree, laden with vibrant pink blossoms, stands silhouetted against a stormy, sunset sky. Rain glistens on the petals, creating a bokeh effect. Cinematic, dramatic lighting, hyperrealistic, 8k, detailed foliage, volumetric light, depth of field, photorealistic, epic scale, warm and cool color contrast, Fujifilm Provia film stock.\",\n",
      "  \"negative_prompt\": \"blurry, oversaturated, cartoon, drawing, painting, illustration, low quality, deformed, unrealistic, ugly, text, watermark, signature, people, animals\",\n",
      "  \"fact\": \"Cherry blossoms (Sakura) symbolize renewal & the ephemeral nature of life in Japanese culture. They bloom for only a short time!\"\n",
      "}\n",
      "\n",
      "--- Generating Second Output (should be significantly different) ---\n",
      "\n",
      "Generated content for 'cherry blossom tree':\n",
      "{\n",
      "  \"prompt\": \"A single, colossal cherry blossom tree, its branches interwoven with threads of moonlight and clockwork gears, blooms in a silent, lavender desert. Blossoms drift upwards like luminous jellyfish, each petal a tiny portrait of a sleeping face. Dreamlike, surreal, hyperdetailed, octane render, volumetric lighting, 8k, art nouveau influence.\",\n",
      "  \"negative_prompt\": \"photorealistic, realistic, people, blurry, noisy, low quality, watermark, signature, text, harsh lighting, oversaturated, dull colors, simple background\",\n",
      "  \"fact\": \"Sakura petals briefly contain chlorophyll, giving them a faint green hue before turning pink  a fleeting, hidden surprise!\"\n",
      "}\n"
     ]
    }
   ],
   "source": [
    "from pydantic import BaseModel, Field, ValidationError\n",
    "import ollama\n",
    "import json\n",
    "import time\n",
    "import sys\n",
    "import random\n",
    "\n",
    "# 1. Define a Pydantic BaseModel with a max_length constraint\n",
    "class ConceptPrompt(BaseModel):\n",
    "    \"\"\"\n",
    "    Schema for the model's structured output.\n",
    "    The 'fact' field is constrained to a maximum of 150 characters.\n",
    "    \"\"\"\n",
    "    prompt: str\n",
    "    negative_prompt: str\n",
    "    fact: str = Field(max_length=150)\n",
    "\n",
    "class OllamaConceptPromptGenerator:\n",
    "    \"\"\"\n",
    "    A class to generate prompts and facts using an Ollama-hosted language model.\n",
    "    This version uses the `ollama.chat` function with a Pydantic schema to\n",
    "    enforce reliable JSON output, and post-processes the output to be ASCII-only.\n",
    "    \"\"\"\n",
    "\n",
    "    def __init__(self, model_name=\"gemma3:12b\", host=None):\n",
    "        \"\"\"\n",
    "        Initializes the Ollama client and sets up model parameters.\n",
    "        Automatically downloads the specified model if it's not found on the server.\n",
    "\n",
    "        Args:\n",
    "            model_name (str): The name of the model to use from Ollama.\n",
    "                              Defaults to \"gemma3:12b\".\n",
    "            host (str, optional): The URL of the Ollama server to connect to.\n",
    "                                  e.g., 'http://192.168.1.100:11434'. If None,\n",
    "                                  it connects to the default local server.\n",
    "        \"\"\"\n",
    "        self.client = ollama.Client(host=host)\n",
    "        self.model_name = model_name\n",
    "        \n",
    "        try:\n",
    "            # FIX: The ollama.list() method returns an object, not a dictionary.\n",
    "            # We must access its 'models' attribute and then the 'model' attribute of each item.\n",
    "            available_models = [m.model for m in self.client.list().models]\n",
    "            \n",
    "            if self.model_name not in available_models:\n",
    "                print(f\"Model '{self.model_name}' not found on the server. Downloading...\")\n",
    "                \n",
    "                is_terminal = sys.stdout.isatty()\n",
    "                for progress_info in self.client.pull(self.model_name, stream=True):\n",
    "                    if is_terminal and 'total' in progress_info and 'completed' in progress_info:\n",
    "                        total = progress_info['total']\n",
    "                        completed = progress_info['completed']\n",
    "                        if total > 0:\n",
    "                            percent = int(completed / total * 100)\n",
    "                            print(f\"\\rDownloading... {percent}% ({completed}/{total})\", end=\"\", flush=True)\n",
    "                    elif is_terminal and 'status' in progress_info:\n",
    "                        print(f\"\\rStatus: {progress_info['status']}\", end=\"\", flush=True)\n",
    "                    \n",
    "                    time.sleep(0.1)\n",
    "                \n",
    "                print(\"\\nDownload complete.\")\n",
    "        except Exception as e:\n",
    "            print(f\"Error: Could not connect to Ollama server at '{self.client.host}'.\")\n",
    "            print(f\"Details: {e}\")\n",
    "            raise\n",
    "\n",
    "    def _sanitize_to_ascii(self, text: str) -> str:\n",
    "        \"\"\"Removes any non-ASCII characters from a string.\"\"\"\n",
    "        return text.encode('ascii', 'ignore').decode('ascii')\n",
    "\n",
    "    def generate(self, concept: str, category: str) -> dict:\n",
    "        \"\"\"\n",
    "        Generates a Stable Diffusion prompt, a negative prompt, and a new, random fact \n",
    "        based on a given concept and category using the Ollama model.\n",
    "        The output is guaranteed to be new with each call due to the `temperature` setting,\n",
    "        a random seed, and a random prompt modifier.\n",
    "\n",
    "        Args:\n",
    "            concept (str): The main concept for the generation.\n",
    "            category (str): The category of the concept.\n",
    "\n",
    "        Returns:\n",
    "            dict: A dictionary containing the generated \"prompt\", \"negative_prompt\",\n",
    "                  and \"fact\", with all characters guaranteed to be ASCII.\n",
    "        \"\"\"\n",
    "        modifiers = [\n",
    "            \"in a watercolor style\",\n",
    "            \"in the style of a vintage painting\",\n",
    "            \"at dawn with a soft, ethereal glow\",\n",
    "            \"in a cinematic, dramatic lighting\",\n",
    "            \"as a vibrant digital painting\",\n",
    "            \"in a surrealist style with a dreamlike quality\",\n",
    "            \"with a clean, minimalist aesthetic\",\n",
    "            \"in a cyberpunk style with neon highlights\",\n",
    "            \"at night under a full moon\",\n",
    "            \"with a painterly, oil-on-canvas texture\"\n",
    "        ]\n",
    "        \n",
    "        random_modifier = random.choice(modifiers)\n",
    "        random_seed = random.randint(0, 100000000)\n",
    "\n",
    "        messages = [\n",
    "            {\n",
    "                'role': 'user',\n",
    "                'content': f\"Given the concept '{concept}' and category '{category}', generate a vivid prompt for Stable Diffusion 1.5, a negative prompt, and a new, unique, short fact (not more than 150 characters) about the concept, {random_modifier}.\",\n",
    "            }\n",
    "        ]\n",
    "        \n",
    "        options = {\n",
    "            \"temperature\": 0.8,\n",
    "            \"top_p\": 0.9,\n",
    "            \"seed\": random_seed\n",
    "        }\n",
    "\n",
    "        try:\n",
    "            response = self.client.chat(\n",
    "                model=self.model_name,\n",
    "                messages=messages,\n",
    "                format=ConceptPrompt.model_json_schema(),\n",
    "                options=options\n",
    "            )\n",
    "            \n",
    "            generated_data = ConceptPrompt.model_validate_json(response['message']['content'])\n",
    "            \n",
    "            sanitized_output = {\n",
    "                \"prompt\": self._sanitize_to_ascii(generated_data.prompt),\n",
    "                \"negative_prompt\": self._sanitize_to_ascii(generated_data.negative_prompt),\n",
    "                \"fact\": self._sanitize_to_ascii(generated_data.fact)\n",
    "            }\n",
    "            \n",
    "            return sanitized_output\n",
    "        \n",
    "        except ValidationError as e:\n",
    "            print(f\"Error: Model output did not match the Pydantic schema. Details: {e}\")\n",
    "            print(f\"Problematic output: {response['message']['content']}\")\n",
    "        except Exception as e:\n",
    "            print(f\"Error during generation or parsing. Details: {e}\")\n",
    "        \n",
    "        return {\"prompt\": \"\", \"negative_prompt\": \"\", \"fact\": \"\"}\n",
    "\n",
    "# Example Usage:\n",
    "if __name__ == '__main__':\n",
    "    try:\n",
    "        print(\"--- Connecting to local Ollama server ---\")\n",
    "        generator = OllamaConceptPromptGenerator(model_name=\"gemma3:12b\")\n",
    "        \n",
    "        concept_to_generate = \"cherry blossom tree\"\n",
    "        category_of_concept = \"plant\"\n",
    "        \n",
    "        print(\"\\n--- Generating First Output with a random seed and style ---\")\n",
    "        generated_content_1 = generator.generate(concept_to_generate, category_of_concept)\n",
    "        print(f\"\\nGenerated content for '{concept_to_generate}':\")\n",
    "        print(json.dumps(generated_content_1, indent=2))\n",
    "        \n",
    "        print(\"\\n--- Generating Second Output (should be significantly different) ---\")\n",
    "        generated_content_2 = generator.generate(concept_to_generate, category_of_concept)\n",
    "        print(f\"\\nGenerated content for '{concept_to_generate}':\")\n",
    "        print(json.dumps(generated_content_2, indent=2))\n",
    "\n",
    "    except Exception as e:\n",
    "        print(f\"An error occurred: {e}\")\n"
   ]
  },
  {
   "cell_type": "code",
   "execution_count": 6,
   "id": "a2713a57",
   "metadata": {},
   "outputs": [],
   "source": [
    "\n",
    "class VideoEditor:\n",
    "    def __init__(self, fps=30, fourcc='mp4v', frame_size=(640, 480)):\n",
    "        self.fps = fps\n",
    "        self.frame_size = frame_size\n",
    "        self.fourcc = cv2.VideoWriter_fourcc(*fourcc)\n",
    "        self.temp_video_path = tempfile.mktemp(suffix='.mp4')\n",
    "        self.video_writer = cv2.VideoWriter(self.temp_video_path, self.fourcc, self.fps, self.frame_size)\n",
    "        self.current_time = 0  # in seconds, tracks the actual current duration of the video content\n",
    "        self.audio_clips = []\n",
    "\n",
    "        # Default settings for time text overlay\n",
    "        self.default_show_time_text = False\n",
    "        self.default_time_text_position = (50, 50)  # Default top-left corner\n",
    "        self.default_time_text_color = (0, 255, 0)  # Default Green (B, G, R)\n",
    "        self.default_time_text_font_scale = 1.0\n",
    "        self.default_time_text_thickness = 2\n",
    "        self.default_time_text_font = cv2.FONT_HERSHEY_SIMPLEX\n",
    "        self.default_time_display_format = \"HH:MM:SS.MS\"\n",
    "\n",
    "        # New class-level parameter for global display time offset\n",
    "        # If None, the displayed time will default to the actual video current_time.\n",
    "        # If set, it overrides the default behavior for all subsequent additions\n",
    "        # where display_time_start_offset is not explicitly provided.\n",
    "        self.global_display_time_offset_start = None\n",
    "        # New: Counter for the displayed time when global_display_time_offset_start is active\n",
    "        self.display_time_counter = 0.0\n",
    "\n",
    "    def set_global_display_time_offset_start(self, offset_time):\n",
    "        \"\"\"\n",
    "        Sets a global offset for the time displayed on the video.\n",
    "        Any subsequent images added with show_time_text enabled and without\n",
    "        an explicit display_time_start_offset will use this value as their base.\n",
    "\n",
    "        Args:\n",
    "            offset_time (float): The starting time (in seconds) to display on the video.\n",
    "                                 Set to None to revert to using the actual video's current_time.\n",
    "        \"\"\"\n",
    "        if not isinstance(offset_time, (int, float)) and offset_time is not None:\n",
    "            raise TypeError(\"offset_time must be a number (int or float) or None.\")\n",
    "        if offset_time is not None and offset_time < 0:\n",
    "            raise ValueError(\"offset_time cannot be negative.\")\n",
    "        self.global_display_time_offset_start = offset_time\n",
    "        # Initialize the display_time_counter when the global offset is set\n",
    "        self.display_time_counter = offset_time if offset_time is not None else 0.0\n",
    "\n",
    "\n",
    "    def set_default_time_display_format(self, format_string):\n",
    "        \"\"\"\n",
    "        Sets the default format for displaying time on frames.\n",
    "\n",
    "        Args:\n",
    "            format_string (str): The desired format string using placeholders:\n",
    "                                 HH (hours), MM (minutes), SS (seconds), MS (milliseconds).\n",
    "                                 Placeholders are case-insensitive (e.g., \"hh\", \"mm\", \"ss\", \"ms\" also work).\n",
    "                                 Example: \"HH:MM:SS.MS\", \"ss.ms\", \"MM:SS\".\n",
    "        \"\"\"\n",
    "        self.default_time_display_format = format_string\n",
    "\n",
    "    def _resize_frame(self, frame):\n",
    "        \"\"\"\n",
    "        Resizes an image frame to the video's frame_size.\n",
    "        \"\"\"\n",
    "        return cv2.resize(frame, self.frame_size)\n",
    "\n",
    "    def _convert_to_cv2(self, image):\n",
    "        \"\"\"\n",
    "        Converts various image types (path, Pillow, NumPy array) to an OpenCV image (NumPy array)\n",
    "        and resizes it.\n",
    "        \"\"\"\n",
    "        if isinstance(image, str):\n",
    "            img = cv2.imread(image)\n",
    "            if img is None:\n",
    "                raise FileNotFoundError(f\"Image file not found or could not be read: {image}\")\n",
    "        elif isinstance(image, Image.Image):\n",
    "            img = cv2.cvtColor(np.array(image), cv2.COLOR_RGB2BGR)\n",
    "        elif isinstance(image, np.ndarray):\n",
    "            img = image\n",
    "        else:\n",
    "            raise ValueError(\"Unsupported image type. Must be a file path (string), Pillow Image, or NumPy array.\")\n",
    "        return self._resize_frame(img)\n",
    "\n",
    "    def _draw_time_on_frame(self, frame, time_in_sec, position, color, font_scale, thickness, font, time_format):\n",
    "        \"\"\"\n",
    "        Draws the current time onto a video frame with a specified format.\n",
    "\n",
    "        Args:\n",
    "            frame (np.ndarray): The OpenCV image frame.\n",
    "            time_in_sec (float): The time in seconds to display.\n",
    "            position (tuple): (x, y) coordinates for the text.\n",
    "            color (tuple): (B, G, R) color for the text.\n",
    "            font_scale (float): Font scale factor.\n",
    "            thickness (int): Line thickness for the text.\n",
    "            font (int): OpenCV font type (e.g., cv2.FONT_HERSHEY_SIMPLEX).\n",
    "            time_format (str): The format string using placeholders (HH, MM, SS, MS).\n",
    "                               Placeholders are case-insensitive.\n",
    "        \"\"\"\n",
    "        total_seconds_int = int(time_in_sec)\n",
    "        milliseconds = int((time_in_sec - total_seconds_int) * 10)\n",
    "        seconds = total_seconds_int % 60\n",
    "        minutes = (total_seconds_int // 60) % 60\n",
    "        hours = total_seconds_int // 3600\n",
    "\n",
    "        replacements = {\n",
    "            \"HH\": f\"{hours:02}\", \"hh\": f\"{hours:02}\",\n",
    "            \"MM\": f\"{minutes:02}\", \"mm\": f\"{minutes:02}\",\n",
    "            \"SS\": f\"{seconds:02}\", \"ss\": f\"{seconds:02}\",\n",
    "            \"MS\": f\"{milliseconds:01}\", \"ms\": f\"{milliseconds:01}\"\n",
    "        }\n",
    "\n",
    "        time_str = time_format\n",
    "        for placeholder, value in replacements.items():\n",
    "            time_str = time_str.replace(placeholder, value)\n",
    "\n",
    "        cv2.putText(frame, time_str, position, font, font_scale, color, thickness, cv2.LINE_AA)\n",
    "        return frame\n",
    "\n",
    "    def add_image(self, image, duration_sec,\n",
    "                  show_time_text=None, time_text_position=None, time_text_color=None,\n",
    "                  time_text_font_scale=None, time_text_thickness=None, time_text_font=None,\n",
    "                  display_time_start_offset=None, time_display_format=None):\n",
    "        \"\"\"\n",
    "        Adds a single image to the video for a specified duration, with optional time display.\n",
    "\n",
    "        Args:\n",
    "            image: The image to add. Can be a file path (string), a Pillow Image object,\n",
    "                   or an OpenCV image (NumPy array).\n",
    "            duration_sec (float): The duration (in seconds) for which the image should be displayed.\n",
    "            show_time_text (bool, optional): Whether to show the current time on the image.\n",
    "                                              Defaults to self.default_show_time_text.\n",
    "            time_text_position (tuple, optional): (x, y) coordinates for the text.\n",
    "                                                  Defaults to self.default_time_text_position.\n",
    "            time_text_color (tuple, optional): (B, G, R) color for the text.\n",
    "                                               Defaults to self.default_time_text_color.\n",
    "            time_text_font_scale (float, optional): Font scale factor.\n",
    "                                                    Defaults to self.default_time_text_font_scale.\n",
    "            time_text_thickness (int, optional): Line thickness for the text.\n",
    "                                                 Defaults to self.default_time_text_thickness.\n",
    "            time_text_font (int, optional): OpenCV font type.\n",
    "                                            Defaults to self.default_time_text_font.\n",
    "            display_time_start_offset (float, optional): The starting time (in seconds) to display\n",
    "                                                         on the video for this segment.\n",
    "                                                         Precedence: local param > global param > actual video current time.\n",
    "            time_display_format (str, optional): The format for the time string (e.g., \"HH:MM:SS.MS\").\n",
    "                                                 Placeholders are case-insensitive.\n",
    "                                                 Precedence: local param > default class param.\n",
    "        \"\"\"\n",
    "        frame = self._convert_to_cv2(image)\n",
    "        frame_count = int(self.fps * duration_sec)\n",
    "\n",
    "        # Resolve text display parameters\n",
    "        _show_text = self.default_show_time_text if show_time_text is None else show_time_text\n",
    "        _position = self.default_time_text_position if time_text_position is None else time_text_position\n",
    "        _color = self.default_time_text_color if time_text_color is None else time_text_color\n",
    "        _font_scale = self.default_time_text_font_scale if time_text_font_scale is None else time_text_font_scale\n",
    "        _thickness = self.default_time_text_thickness if time_text_thickness is None else time_text_thickness\n",
    "        _font = self.default_time_text_font if time_text_font is None else time_text_font\n",
    "        _time_format = self.default_time_display_format if time_display_format is None else time_display_format\n",
    "\n",
    "        # Determine the base time for display based on precedence\n",
    "        _base_display_time_for_this_segment = self.current_time # Default fallback: actual video time\n",
    "\n",
    "        if display_time_start_offset is not None:\n",
    "            # Local override takes highest precedence\n",
    "            _base_display_time_for_this_segment = display_time_start_offset\n",
    "        elif self.global_display_time_offset_start is not None:\n",
    "            # Global override applies if no local override. Use the continuous display_time_counter.\n",
    "            _base_display_time_for_this_segment = self.display_time_counter\n",
    "\n",
    "        for i in range(frame_count):\n",
    "            # Calculate the time to display for the current frame\n",
    "            current_display_time = _base_display_time_for_this_segment + (i / self.fps)\n",
    "            frame_to_write = frame.copy() # Use a copy to avoid drawing on the original frame for next iteration\n",
    "            if _show_text:\n",
    "                frame_to_write = self._draw_time_on_frame(\n",
    "                    frame_to_write, current_display_time, _position, _color, _font_scale, _thickness, _font, _time_format\n",
    "                )\n",
    "            self.video_writer.write(frame_to_write)\n",
    "\n",
    "        # Always update the actual video time\n",
    "        self.current_time += duration_sec\n",
    "\n",
    "        # Only update display_time_counter if global offset is active AND no local offset was used\n",
    "        if display_time_start_offset is None and self.global_display_time_offset_start is not None:\n",
    "            self.display_time_counter += duration_sec\n",
    "\n",
    "\n",
    "    def add_images_from_list(self, images, total_duration_sec,\n",
    "                             show_time_text=None, time_text_position=None, time_text_color=None,\n",
    "                             time_text_font_scale=None, time_text_thickness=None, time_text_font=None,\n",
    "                             display_time_start_offset=None, time_display_format=None):\n",
    "        \"\"\"\n",
    "        Adds several images to the video, distributing them evenly over a total duration,\n",
    "        with optional time display on each image.\n",
    "\n",
    "        Args:\n",
    "            images: Can be a string (directory path), a list of strings (image file paths),\n",
    "                    a list of OpenCV images (numpy arrays), or a list of Pillow images.\n",
    "            total_duration_sec (float): The total duration (in seconds) that these images\n",
    "                                        should occupy in the video.\n",
    "            show_time_text (bool, optional): Whether to show the current time on the image.\n",
    "                                              Defaults to self.default_show_time_text.\n",
    "            time_text_position (tuple, optional): (x, y) coordinates for the text.\n",
    "                                                  Defaults to self.default_time_text_position.\n",
    "            time_text_color (tuple, optional): (B, G, R) color for the text.\n",
    "                                               Defaults to self.default_time_text_color.\n",
    "            time_text_font_scale (float, optional): Font scale factor.\n",
    "                                                    Defaults to self.default_time_text_font_scale.\n",
    "            time_text_thickness (int, optional): Line thickness for the text.\n",
    "                                                 Defaults to self.default_time_text_thickness.\n",
    "            time_text_font (int, optional): OpenCV font type.\n",
    "                                            Defaults to self.default_time_text_font.\n",
    "            display_time_start_offset (float, optional): The starting time (in seconds) to display\n",
    "                                                         on the video for this segment.\n",
    "                                                         Precedence: local param > global param > actual video current time.\n",
    "            time_display_format (str, optional): The format for the time string (e.g., \"HH:MM:SS.MS\").\n",
    "                                                 Placeholders are case-insensitive.\n",
    "                                                 Precedence: local param > default class param.\n",
    "        \"\"\"\n",
    "        image_list = []\n",
    "\n",
    "        if isinstance(images, str) and os.path.isdir(images):\n",
    "            for filename in sorted(os.listdir(images)):\n",
    "                if filename.lower().endswith(('.png', '.jpg', '.jpeg', '.gif', '.bmp')):\n",
    "                    image_list.append(os.path.join(images, filename))\n",
    "        elif isinstance(images, list):\n",
    "            if all(isinstance(img, str) for img in images):\n",
    "                image_list = images\n",
    "            elif all(isinstance(img, (np.ndarray, Image.Image)) for img in images):\n",
    "                image_list = images\n",
    "            else:\n",
    "                raise ValueError(\"List must contain only strings (paths), OpenCV images, or Pillow images.\")\n",
    "        else:\n",
    "            raise ValueError(\"Unsupported 'images' type. Must be a directory path (string), a list of paths, a list of OpenCV images, or a list of Pillow images.\")\n",
    "\n",
    "        if not image_list:\n",
    "            print(\"No images found to add.\")\n",
    "            return\n",
    "\n",
    "        single_image_duration = total_duration_sec / len(image_list)\n",
    "\n",
    "        for i, img in enumerate(image_list):\n",
    "            # The display_time_start_offset passed to add_image needs to be carefully managed.\n",
    "            # If the user provided a display_time_start_offset to add_images_from_list,\n",
    "            # we calculate the offset for each individual image within that batch.\n",
    "            # If not, we pass None, allowing add_image to use the global_display_time_offset_start\n",
    "            # and its internal display_time_counter, which is the desired behavior for continuous time.\n",
    "            effective_display_offset_for_image_batch = None\n",
    "            if display_time_start_offset is not None:\n",
    "                effective_display_offset_for_image_batch = display_time_start_offset + (i * single_image_duration)\n",
    "\n",
    "            self.add_image(img, single_image_duration,\n",
    "                           show_time_text=show_time_text,\n",
    "                           time_text_position=time_text_position,\n",
    "                           time_text_color=time_text_color,\n",
    "                           time_text_font_scale=time_text_font_scale,\n",
    "                           time_text_thickness=time_text_thickness,\n",
    "                           time_text_font=time_text_font,\n",
    "                           display_time_start_offset=effective_display_offset_for_image_batch, # Pass the calculated offset or None\n",
    "                           time_display_format=time_display_format)\n",
    "\n",
    "    def add_text_below_image(self, image, text, duration_sec,\n",
    "                             text_box_height_ratio=0.2,\n",
    "                             background_color=(0, 0, 0),\n",
    "                             text_color=(255, 255, 255),\n",
    "                             text_horizontal_alignment=\"center\",\n",
    "                             text_vertical_alignment=\"center\",\n",
    "                             font_scale=0.7, thickness=2, font=cv2.FONT_HERSHEY_SIMPLEX,\n",
    "                             show_time_text=None, time_text_position=None, time_text_color=None,\n",
    "                             time_text_font_scale=None, time_text_thickness=None, time_text_font=None,\n",
    "                             display_time_start_offset=None, time_display_format=None):\n",
    "        \"\"\"\n",
    "        Adds an image with text displayed in a box below it for a given duration.\n",
    "        The combined content fits within the video's frame_size.\n",
    "\n",
    "        Args:\n",
    "            image: The input image (path, Pillow, or NumPy array).\n",
    "            text (str): The text string to display.\n",
    "            duration_sec (float): The duration (in seconds) for which this combined frame should be displayed.\n",
    "            text_box_height_ratio (float): Ratio (0.0 to 1.0) of the frame height allocated to the text box.\n",
    "            background_color (tuple): (B, G, R) color for the text box background.\n",
    "            text_color (tuple): (B, G, R) color for the text.\n",
    "            text_horizontal_alignment (str): Horizontal alignment of text (\"left\", \"center\", \"right\").\n",
    "            text_vertical_alignment (str): Vertical alignment of text (\"top\", \"center\", \"bottom\").\n",
    "            font_scale (float): Font scale factor for the text.\n",
    "            thickness (int): Line thickness for the text.\n",
    "            font (int): OpenCV font type (e.g., cv2.FONT_HERSHEY_SIMPLEX).\n",
    "            # Parameters for optional time display (same as add_image)\n",
    "            show_time_text (bool, optional): Whether to show the current time on the image.\n",
    "            time_text_position (tuple, optional): (x, y) coordinates for the time text.\n",
    "            time_text_color (tuple, optional): (B, G, R) color for the time text.\n",
    "            time_text_font_scale (float, optional): Font scale factor for time text.\n",
    "            time_text_thickness (int, optional): Line thickness for time text.\n",
    "            time_text_font (int, optional): OpenCV font type for time text.\n",
    "            display_time_start_offset (float, optional): The starting time to display.\n",
    "            time_display_format (str, optional): The format for the time string.\n",
    "        \"\"\"\n",
    "        if not (0.0 <= text_box_height_ratio <= 1.0):\n",
    "            raise ValueError(\"text_box_height_ratio must be between 0.0 and 1.0.\")\n",
    "\n",
    "        original_img_frame = self._convert_to_cv2(image)\n",
    "        \n",
    "        video_width, video_height = self.frame_size\n",
    "        text_box_height = int(video_height * text_box_height_ratio)\n",
    "        image_display_height = video_height - text_box_height\n",
    "\n",
    "        if image_display_height <= 0:\n",
    "            raise ValueError(\"Image display height is zero or negative. Reduce text_box_height_ratio or increase frame_size.\")\n",
    "\n",
    "        resized_img_for_top = cv2.resize(original_img_frame, (video_width, image_display_height))\n",
    "\n",
    "        text_section = np.full((text_box_height, video_width, 3), background_color, dtype=np.uint8)\n",
    "\n",
    "        text_size = cv2.getTextSize(text, font, font_scale, thickness)[0]\n",
    "        text_width, text_height_actual = text_size\n",
    "\n",
    "        text_x, text_y = 0, 0\n",
    "\n",
    "        if text_horizontal_alignment.lower() == \"center\":\n",
    "            text_x = (video_width - text_width) // 2\n",
    "        elif text_horizontal_alignment.lower() == \"right\":\n",
    "            text_x = video_width - text_width - 10\n",
    "        else: # Default to \"left\"\n",
    "            text_x = 10\n",
    "\n",
    "        if text_vertical_alignment.lower() == \"center\":\n",
    "            text_y = (text_box_height + text_height_actual) // 2\n",
    "        elif text_vertical_alignment.lower() == \"bottom\":\n",
    "            text_y = text_box_height - 10\n",
    "        else: # Default to \"top\"\n",
    "            text_y = text_height_actual + 10\n",
    "\n",
    "        cv2.putText(text_section, text, (text_x, text_y), font, font_scale, text_color, thickness, cv2.LINE_AA)\n",
    "\n",
    "        final_frame = np.vstack((resized_img_for_top, text_section))\n",
    "\n",
    "        frame_count = int(self.fps * duration_sec)\n",
    "\n",
    "        _show_text = self.default_show_time_text if show_time_text is None else show_time_text\n",
    "        _time_position = self.default_time_text_position if time_text_position is None else time_text_position\n",
    "        _time_color = self.default_time_text_color if time_text_color is None else time_text_color\n",
    "        _time_font_scale = self.default_time_text_font_scale if time_text_font_scale is None else time_text_font_scale\n",
    "        _time_thickness = self.default_time_text_thickness if time_text_thickness is None else time_text_thickness\n",
    "        _time_font = self.default_time_text_font if time_text_font is None else time_text_font\n",
    "        _time_format = self.default_time_display_format if time_display_format is None else time_display_format\n",
    "\n",
    "        _base_display_time_for_this_segment = self.current_time\n",
    "        if display_time_start_offset is not None:\n",
    "            _base_display_time_for_this_segment = display_time_start_offset\n",
    "        elif self.global_display_time_offset_start is not None:\n",
    "            _base_display_time_for_this_segment = self.display_time_counter\n",
    "\n",
    "\n",
    "        for i in range(frame_count):\n",
    "            current_display_time = _base_display_time_for_this_segment + (i / self.fps)\n",
    "            frame_to_write = final_frame.copy()\n",
    "            if _show_text:\n",
    "                frame_to_write = self._draw_time_on_frame(\n",
    "                    frame_to_write, current_display_time, _time_position, _time_color, _time_font_scale, _time_thickness, _time_font, _time_format\n",
    "                )\n",
    "            self.video_writer.write(frame_to_write)\n",
    "        \n",
    "        self.current_time += duration_sec\n",
    "\n",
    "        if display_time_start_offset is None and self.global_display_time_offset_start is not None:\n",
    "            self.display_time_counter += duration_sec\n",
    "\n",
    "    def add_video(self, video_path):\n",
    "        \"\"\"\n",
    "        Adds another video clip to the current video. The added video retains its original duration.\n",
    "\n",
    "        Args:\n",
    "            video_path (str): Path to the video file to be added.\n",
    "        \"\"\"\n",
    "        cap = cv2.VideoCapture(video_path)\n",
    "        if not cap.isOpened():\n",
    "            raise FileNotFoundError(f\"Video file not found or could not be opened: {video_path}\")\n",
    "\n",
    "        video_fps = cap.get(cv2.CAP_PROP_FPS)\n",
    "        if video_fps == 0:\n",
    "            video_fps = self.fps\n",
    "\n",
    "        while True:\n",
    "            ret, frame = cap.read()\n",
    "            if not ret:\n",
    "                break\n",
    "            frame = self._resize_frame(frame)\n",
    "            self.video_writer.write(frame)\n",
    "\n",
    "        duration = cap.get(cv2.CAP_PROP_FRAME_COUNT) / video_fps\n",
    "        cap.release()\n",
    "        self.current_time += duration\n",
    "        # If global display offset is active, and we are adding a video (which doesn't have its own\n",
    "        # display_time_start_offset parameter), we should also advance the display_time_counter.\n",
    "        if self.global_display_time_offset_start is not None:\n",
    "            self.display_time_counter += duration\n",
    "\n",
    "\n",
    "    def add_audio(self, audio_path, audio_clip_start=None, audio_clip_end=None, video_start_offset=None):\n",
    "        \"\"\"\n",
    "        Adds an audio clip to the video timeline.\n",
    "\n",
    "        Args:\n",
    "            audio_path (str): Path to the audio file.\n",
    "            audio_clip_start (float, optional): The start time (in seconds) within the audio file itself.\n",
    "                                                Defaults to 0 (beginning of the audio file).\n",
    "            audio_clip_end (float, optional): The end time (in seconds) within the audio file itself.\n",
    "                                              Defaults to the end of the audio clip.\n",
    "            video_start_offset (float, optional): The time (in seconds) on the video timeline where this\n",
    "                                                  audio should start. If None, it starts at the current\n",
    "                                                  end time of the video (`self.current_time`).\n",
    "        \"\"\"\n",
    "        try:\n",
    "            audio_clip = AudioFileClip(audio_path)\n",
    "        except Exception as e:\n",
    "            raise ValueError(f\"Could not load audio file {audio_path}: {e}\")\n",
    "\n",
    "        if audio_clip_start is not None or audio_clip_end is not None:\n",
    "            if audio_clip_start is not None and audio_clip_end is not None and audio_clip_start > audio_clip_end:\n",
    "                raise ValueError(\"audio_clip_start cannot be greater than audio_clip_end.\")\n",
    "            \n",
    "            start_subclip = audio_clip_start if audio_clip_start is not None else 0\n",
    "            end_subclip = audio_clip_end if audio_clip_end is not None else audio_clip.duration\n",
    "            \n",
    "            audio_clip = audio_clip.subclip(start_subclip, end_subclip)\n",
    "\n",
    "        offset_on_video = video_start_offset if video_start_offset is not None else self.current_time\n",
    "\n",
    "        self.audio_clips.append((audio_clip, offset_on_video))\n",
    "\n",
    "    def get_video_duration(self):\n",
    "        \"\"\"\n",
    "        Returns the current duration of the video content in seconds.\n",
    "        \"\"\"\n",
    "        return self.current_time\n",
    "\n",
    "    def save(self, output_path):\n",
    "        \"\"\"\n",
    "        Finalizes the video and merges audio if present.\n",
    "        \"\"\"\n",
    "        self.video_writer.release()\n",
    "\n",
    "        final_clip = VideoFileClip(self.temp_video_path)\n",
    "\n",
    "        if self.audio_clips:\n",
    "            all_audios = []\n",
    "            for audio, offset in self.audio_clips:\n",
    "                all_audios.append(audio.set_start(offset))\n",
    "            \n",
    "            composite_audio = CompositeAudioClip(all_audios)\n",
    "            \n",
    "            final_clip = final_clip.set_audio(composite_audio)\n",
    "\n",
    "        print(f\"Saving video to {output_path}...\")\n",
    "        final_clip.write_videofile(output_path, codec='libx264', audio_codec='aac')\n",
    "        final_clip.close()\n",
    "        os.remove(self.temp_video_path)\n",
    "        print(\"Video saved successfully and temporary file removed.\")\n",
    "\n"
   ]
  },
  {
   "cell_type": "code",
   "execution_count": 7,
   "id": "3de60dbc",
   "metadata": {},
   "outputs": [],
   "source": [
    "class SD15ImageGenerator:\n",
    "    def __init__(self, model_id=\"runwayml/stable-diffusion-v1-5\", use_cuda=True, num_inference_steps=25):\n",
    "        \"\"\"\n",
    "        Initialize the Stable Diffusion 1.5 pipeline and inference settings.\n",
    "        \"\"\"\n",
    "        self.device = \"cuda\" if use_cuda and torch.cuda.is_available() else \"cpu\"\n",
    "        self.num_inference_steps = num_inference_steps\n",
    "        self.intermediate_images = []\n",
    "\n",
    "        # Load the safety checker and feature extractor\n",
    "        # You might need to specify the subfolder if they are not at the top level of the model_id\n",
    "        safety_checker = StableDiffusionSafetyChecker.from_pretrained(\"CompVis/stable-diffusion-safety-checker\")\n",
    "        feature_extractor = CLIPFeatureExtractor.from_pretrained(\"CompVis/stable-diffusion-safety-checker\")\n",
    "        self.negative_prompt = \"\"\"deformed, distorted, disfigured, bad anatomy, ugly, tiling, poorly drawn hands, poorly drawn face, \n",
    "                                  out of frame, low quality, jpeg artifacts, duplicate, morbid, mutilated, extra fingers, mutated hands,  mutation, blurry, dehydrated, \n",
    "                                  bad proportions, extra limbs, cloned face, gross proportions, malformed limbs, missing arms, missing legs, extra hands, fused fingers, wrong hand, \n",
    "                                  long neck, worst quality, watermark, signature, text, error, cropped, username, logo, lowres, oversaturated, washed out, \n",
    "                                  cloned, bad composition, crosseyed , squint, lazy eye , bad eyes, wrong eyes, missing teeth, bad teeth, ugly teeth, open mouth, too many teeth,\n",
    "                                  extra tongue, wrong mouth, ugly mouth, bad mouth, bad nose, ugly nose, wrong nose, missing nose, bad ear, ugly ear, wrong ear, missing ear,\n",
    "                                  extra ear, double ear, three ears, mutated ear, long ear, short ear, big ear, small ear,\n",
    "                                  bad hair, ugly hair, wrong hair, missing hair, bad skin, ugly skin, wrong skin, \n",
    "                                  missing skin, extra skin, mutated skin, bad clothing, ugly clothing, wrong clothing,missing clothing, mutated clothing, \n",
    "                                  big clothing, small clothing, bad background, ugly background, wrong background, bad lighting, ugly lighting, wrong lighting\"\"\"\n",
    "        self.pipe = StableDiffusionPipeline.from_pretrained(\n",
    "            model_id,\n",
    "            torch_dtype=torch.float16 if self.device == \"cuda\" else torch.float32,\n",
    "             safety_checker=safety_checker,\n",
    "            feature_extractor=feature_extractor # Don't forget the feature_extractor\n",
    "        ).to(self.device)\n",
    "\n",
    "    def _capture_step(self, step, timestep, latents):\n",
    "        \"\"\"\n",
    "        Internal callback to capture the image at each step.\n",
    "        \"\"\"\n",
    "        # Decode latent to image at this step\n",
    "        with torch.no_grad():\n",
    "            image = self.pipe.vae.decode(latents / self.pipe.vae.config.scaling_factor).sample\n",
    "            image = (image / 2 + 0.5).clamp(0, 1)\n",
    "            image = image.cpu().permute(0, 2, 3, 1).numpy()[0]\n",
    "            image_pil = Image.fromarray((image * 255).astype(\"uint8\"))\n",
    "            self.intermediate_images.append(image_pil)\n",
    "\n",
    "    def generate_image(self, prompt, negative_prompt=None, guidance_scale=7.5):\n",
    "        \"\"\"\n",
    "        Generate image and collect intermediate steps.\n",
    "        Returns a list of PIL images (one per step).\n",
    "        \"\"\"\n",
    "        self.intermediate_images = []\n",
    "        negative_prompt = negative_prompt or self.negative_prompt\n",
    "\n",
    "        with torch.autocast(self.device) if self.device == \"cuda\" else torch.no_grad():\n",
    "            _ = self.pipe(\n",
    "                prompt=\"high resolution image of: \"+prompt +\" ,8K, best quality, masterpiece, photorealistic, ultra-detailed, sharp focus\",\n",
    "                negative_prompt=negative_prompt,\n",
    "                guidance_scale=guidance_scale,\n",
    "                num_inference_steps=self.num_inference_steps,\n",
    "                callback=self._capture_step,\n",
    "                callback_steps=1  # capture every step\n",
    "            )\n",
    "\n",
    "        return self.intermediate_images\n",
    "\n",
    "    def save_image(self, image: Image.Image, output_path: str):\n",
    "        \"\"\"\n",
    "        Save a single PIL image to the specified path.\n",
    "        \"\"\"\n",
    "        os.makedirs(os.path.dirname(output_path), exist_ok=True)\n",
    "        image.save(output_path)\n",
    "        print(f\"Image saved to {output_path}\")\n",
    "    def save_images(self, images, directory=\"generated\"):\n",
    "        \"\"\"\n",
    "        Save a list of images to the given directory.\n",
    "        \"\"\"\n",
    "        os.makedirs(directory, exist_ok=True)\n",
    "        for i, img in enumerate(images):\n",
    "            path = os.path.join(directory, f\"step_{i:02d}.png\")\n",
    "            img.save(path)\n",
    "        print(f\"Saved {len(images)} images to '{directory}/'\")\n"
   ]
  },
  {
   "cell_type": "markdown",
   "id": "bf7fea56",
   "metadata": {},
   "source": [
    "# Functions\n"
   ]
  },
  {
   "cell_type": "code",
   "execution_count": 8,
   "id": "9a5f139d",
   "metadata": {},
   "outputs": [],
   "source": [
    "\n",
    "\n",
    "def generate_evenly_distributed_values(data):\n",
    "    \"\"\"\n",
    "    Generates evenly distributed values for each tuple (number, start, end) in a list.\n",
    "\n",
    "    Args:\n",
    "        data (list): A list of tuples, where each tuple is (number, start, end).\n",
    "                     'number' is the count of values to generate, 'start' is the\n",
    "                     beginning of the range, and 'end' is the end of the range.\n",
    "\n",
    "    Returns:\n",
    "        list: A single list containing all the generated evenly distributed values.\n",
    "    \"\"\"\n",
    "    all_values = []\n",
    "    for num, start, end in data:\n",
    "        # Generate 'num' evenly distributed values between 'start' and 'end'\n",
    "        # np.linspace includes both start and end points\n",
    "        if num > 0:\n",
    "            generated_values = np.linspace(start, end, num).tolist()\n",
    "            all_values.extend(generated_values)\n",
    "    return all_values\n",
    "\n",
    "# Example Usage:\n",
    "# data1 = [(5, 0, 10), (3, 100, 102)]\n",
    "# result1 = generate_evenly_distributed_values(data1)\n",
    "# print(f\"Result for data1: {result1}\")\n",
    "# # Expected output for data1: [0.0, 2.5, 5.0, 7.5, 10.0, 100.0, 101.0, 102.0]\n",
    "\n",
    "# data2 = [(1, 5, 5), (4, -2, 2)]\n",
    "# result2 = generate_evenly_distributed_values(data2)\n",
    "# print(f\"Result for data2: {result2}\")\n",
    "# # Expected output for data2: [5.0, -2.0, -0.6666666666666666, 0.6666666666666666, 2.0]\n",
    "\n",
    "# data3 = []\n",
    "# result3 = generate_evenly_distributed_values(data3)\n",
    "# print(f\"Result for data3: {result3}\")\n",
    "# # Expected output for data3: []\n",
    "\n",
    "# data4 = [(0, 1, 10)]\n",
    "# result4 = generate_evenly_distributed_values(data4)\n",
    "# print(f\"Result for data4: {result4}\")\n",
    "# # Expected output for data4: []\n"
   ]
  },
  {
   "cell_type": "code",
   "execution_count": 9,
   "id": "9cf975f1",
   "metadata": {},
   "outputs": [],
   "source": [
    "\n",
    "def generate_filename_by_datetime(postfix:str, extension: str) -> str:\n",
    "    \"\"\"\n",
    "    Generates a filename based on the current date and time with a specified extension.\n",
    "\n",
    "    The format of the filename will be 'YYYY-MM-DD-HH-MM-SS.extension'.\n",
    "\n",
    "    Args:\n",
    "        extension (str): The file extension (e.g., 'mp4', 'txt', 'jpg').\n",
    "                         It should not include the leading dot.\n",
    "\n",
    "    Returns:\n",
    "        str: The generated filename.\n",
    "    \"\"\"\n",
    "    # Get the current date and time\n",
    "    now = datetime.datetime.now()\n",
    "\n",
    "    # Format the datetime object into a string\n",
    "    # YYYY: Year with century\n",
    "    # MM: Month as a zero-padded decimal number\n",
    "    # DD: Day of the month as a zero-padded decimal number\n",
    "    # HH: Hour (24-hour clock) as a zero-padded decimal number\n",
    "    # MM: Minute as a zero-padded decimal number\n",
    "    # SS: Second as a zero-padded decimal number\n",
    "    timestamp_str = now.strftime(\"%Y-%m-%d-%H-%M-%S\")\n",
    "\n",
    "    # Construct the full filename\n",
    "    filename = f\"{timestamp_str}_{postfix}.{extension}\"\n",
    "\n",
    "    return filename\n"
   ]
  },
  {
   "cell_type": "code",
   "execution_count": 10,
   "id": "11b626cc",
   "metadata": {},
   "outputs": [],
   "source": [
    "\n",
    "def add_text_to_image(\n",
    "    image,\n",
    "    text: str,\n",
    "    org: tuple[int | None, int | None] = (10, 30),  # Bottom-left corner of the text string\n",
    "    font_face: int = cv2.FONT_HERSHEY_SIMPLEX,\n",
    "    font_scale: float = 1.0,\n",
    "    color: tuple[int, int, int] = (0, 0, 0),  # BGR color (Black by default)\n",
    "    thickness: int = 2,\n",
    "    background_color: tuple[int, int, int] = (255, 255, 255), # White background for new canvas\n",
    "    text_background_color: tuple[int, int, int] = (255, 255, 255), # White background for text by default\n",
    "    text_background_transparency: float = 0.8, # 80% transparency by default\n",
    "    padding_x: int = 20, # Horizontal padding for text background\n",
    "    padding_y: int = 20, # Vertical padding for text background\n",
    "    wordwrap: bool = False # New parameter: if True, wraps text to fit image width\n",
    ") -> np.ndarray:\n",
    "    \"\"\"\n",
    "    Adds text to an image, extending the image size if the text falls outside\n",
    "    the original boundaries. Supports word wrapping.\n",
    "\n",
    "    Args:\n",
    "        image: The input image. Can be an OpenCV (numpy.ndarray) or Pillow (PIL.Image.Image) image.\n",
    "        text (str): The text string to add.\n",
    "        org (tuple[int | None, int | None]): The bottom-left corner of the text string in (x, y) coordinates.\n",
    "                               Defaults to (10, 30). If x or y is None, it will be centered in that direction.\n",
    "        font_face (int): Font type. See cv2.FONT_HERSHEY_* for options.\n",
    "                         Defaults to cv2.FONT_HERSHEY_SIMPLEX.\n",
    "        font_scale (float): Font scale factor multiplied by the font-specific base size.\n",
    "                            Defaults to 1.0.\n",
    "        color (tuple[int, int, int]): Text color in BGR format. Defaults to (0, 0, 0) (Black).\n",
    "        thickness (int): Thickness of the text lines. Defaults to 2.\n",
    "        background_color (tuple[int, int, int]): Color to fill the extended canvas if the image\n",
    "                                                  needs to be resized. Defaults to (255, 255, 255) (White).\n",
    "        text_background_color (tuple[int, int, int]): Color of the text's background in BGR format.\n",
    "                                                       Defaults to (255, 255, 255) (White).\n",
    "        text_background_transparency (float): Transparency of the text background.\n",
    "                                              Value between 0.0 (fully transparent) and 1.0 (fully opaque).\n",
    "                                              Defaults to 0.8 (80% transparent).\n",
    "        padding_x (int): Horizontal padding to add around the text background. Defaults to 5 pixels.\n",
    "        padding_y (int): Vertical padding to add around the text background. Defaults to 5 pixels.\n",
    "        wordwrap (bool): If True, wraps text to fit within the image width, breaking at spaces.\n",
    "                         Defaults to False.\n",
    "\n",
    "    Returns:\n",
    "        numpy.ndarray: The image with the added text, in OpenCV (BGR) format.\n",
    "    \"\"\"\n",
    "\n",
    "    # 1. Handle Image Input: Convert Pillow image to OpenCV format if necessary\n",
    "    if isinstance(image, Image.Image):\n",
    "        img_np = np.array(image)\n",
    "        if img_np.ndim == 2: # Grayscale image\n",
    "            img_cv = cv2.cvtColor(img_np, cv2.COLOR_GRAY2BGR)\n",
    "        elif img_np.shape[2] == 4: # RGBA image\n",
    "            img_cv = cv2.cvtColor(img_np, cv2.COLOR_RGBA2BGR)\n",
    "        else: # RGB image\n",
    "            img_cv = cv2.cvtColor(img_np, cv2.COLOR_RGB2BGR)\n",
    "    elif isinstance(image, np.ndarray):\n",
    "        img_cv = image\n",
    "        # Ensure the image is BGR (3 channels) if it's grayscale\n",
    "        if img_cv.ndim == 2:\n",
    "            img_cv = cv2.cvtColor(img_cv, cv2.COLOR_GRAY2BGR)\n",
    "        elif img_cv.shape[2] == 4: # Handle RGBA if passed as numpy array\n",
    "            img_cv = cv2.cvtColor(img_cv, cv2.COLOR_RGBA2BGR)\n",
    "    else:\n",
    "        raise TypeError(\"Input image must be a PIL Image or a NumPy array (OpenCV format).\")\n",
    "\n",
    "    # Get original image dimensions\n",
    "    h_orig, w_orig = img_cv.shape[:2]\n",
    "\n",
    "    # Calculate representative text height and baseline for a single line.\n",
    "    # This is used for consistent line spacing and overall text block height calculations.\n",
    "    (text_w_dummy, text_h_single_line), baseline_single_line = cv2.getTextSize(\n",
    "        \"Tg\", font_face, font_scale, thickness\n",
    "    )\n",
    "    # A reasonable spacing between lines, often a percentage of the font height.\n",
    "    line_spacing = int(text_h_single_line * 0.5)\n",
    "\n",
    "    # --- Word Wrapping Logic ---\n",
    "    wrapped_lines_info = [] # This list will store tuples of (line_text, line_width, line_height, line_baseline) for each line.\n",
    "    max_overall_text_width = 0 # Stores the width of the widest line\n",
    "    \n",
    "    if wordwrap:\n",
    "        # Determine the maximum available width for wrapping the text within the image.\n",
    "        # This considers the initial x-position and padding.\n",
    "        if org[0] is None: # If horizontally centered, available width is image width minus double padding.\n",
    "            available_width_for_wrapping = w_orig - (2 * padding_x)\n",
    "        else: # If a specific x-coordinate is provided, available width is from that point to the right edge.\n",
    "            available_width_for_wrapping = w_orig - org[0] - padding_x\n",
    "        \n",
    "        # Ensure the available width is not negative or too small to avoid issues.\n",
    "        available_width_for_wrapping = max(10, available_width_for_wrapping)\n",
    "\n",
    "        words = text.split(' ')\n",
    "        current_line_words = []\n",
    "        current_line_text = \"\"\n",
    "\n",
    "        for word in words:\n",
    "            # Construct a test line by adding the current word (with a space if not the first word).\n",
    "            test_line_text = (current_line_text + \" \" + word).strip()\n",
    "            # Get the size of this potential line.\n",
    "            (test_w, _), _ = cv2.getTextSize(\n",
    "                test_line_text, font_face, font_scale, thickness\n",
    "            )\n",
    "\n",
    "            # If adding the word makes the line too long AND there are already words in the current line,\n",
    "            # then the current line is complete and the new word starts a new line.\n",
    "            if test_w > available_width_for_wrapping and len(current_line_words) > 0:\n",
    "                # Calculate the actual size of the completed line.\n",
    "                (line_w, line_h), line_baseline = cv2.getTextSize(\n",
    "                    current_line_text, font_face, font_scale, thickness\n",
    "                )\n",
    "                wrapped_lines_info.append((current_line_text, line_w, line_h, line_baseline))\n",
    "                max_overall_text_width = max(max_overall_text_width, line_w)\n",
    "\n",
    "                # Start a new line with the current word.\n",
    "                current_line_words = [word]\n",
    "                current_line_text = word\n",
    "            else:\n",
    "                # The word fits, so add it to the current line.\n",
    "                current_line_words.append(word)\n",
    "                current_line_text = \" \".join(current_line_words)\n",
    "        \n",
    "        # After the loop, add any remaining text in the current_line_text as the last line.\n",
    "        if current_line_text:\n",
    "            (line_w, line_h), line_baseline = cv2.getTextSize(\n",
    "                current_line_text, font_face, font_scale, thickness\n",
    "            )\n",
    "            wrapped_lines_info.append((current_line_text, line_w, line_h, line_baseline))\n",
    "            max_overall_text_width = max(max_overall_text_width, line_w)\n",
    "\n",
    "    else: # If word wrapping is not enabled, treat the entire text as a single line.\n",
    "        (text_w, text_h), baseline = cv2.getTextSize(text, font_face, font_scale, thickness)\n",
    "        wrapped_lines_info.append((text, text_w, text_h, baseline))\n",
    "        max_overall_text_width = text_w\n",
    "    \n",
    "    # Calculate the total height required by the entire block of wrapped text.\n",
    "    # This is the height from the top of the first line's ascenders to the bottom of the last line's descenders.\n",
    "    total_text_block_content_height = 0\n",
    "    if wrapped_lines_info:\n",
    "        # Top of the first line relative to its baseline (negative value)\n",
    "        first_line_top_offset_from_baseline = -(wrapped_lines_info[0][2] - wrapped_lines_info[0][3])\n",
    "        \n",
    "        # Baseline of the last line relative to the first line's baseline\n",
    "        last_line_baseline_offset_from_first_baseline = 0\n",
    "        if len(wrapped_lines_info) > 1:\n",
    "            last_line_baseline_offset_from_first_baseline = (len(wrapped_lines_info) - 1) * \\\n",
    "                                                              (text_h_single_line + line_spacing)\n",
    "        \n",
    "        # Bottom of the last line relative to its own baseline\n",
    "        last_line_bottom_offset_from_its_baseline = wrapped_lines_info[-1][3]\n",
    "\n",
    "        # Total content height = (last line's baseline + its bottom offset) - (first line's baseline + its top offset)\n",
    "        # We assume the first line's baseline is at y=0 for this calculation of the *span*.\n",
    "        total_text_block_content_height = (last_line_baseline_offset_from_first_baseline + last_line_bottom_offset_from_its_baseline) - \\\n",
    "                                          (first_line_top_offset_from_baseline)\n",
    "\n",
    "    # --- Determine Canvas Extension (Pre-calculation of text block position for extension check) ---\n",
    "    new_w, new_h = w_orig, h_orig\n",
    "    offset_x_canvas, offset_y_canvas = 0, 0\n",
    "\n",
    "    # Calculate the *desired* top-left corner of the text block's content area (without padding)\n",
    "    # relative to the original image's (0,0) if no canvas extension happens.\n",
    "    temp_text_block_x_content_start = org[0] if org[0] is not None else int((w_orig - max_overall_text_width) / 2)\n",
    "    \n",
    "    # temp_text_block_y_content_top represents the Y-coordinate of the *visual top* of the entire text block.\n",
    "    if org[1] is not None: # org[1] is the baseline of the first line\n",
    "        temp_text_block_y_content_top = org[1] + first_line_top_offset_from_baseline\n",
    "    else: # Vertical centering\n",
    "        temp_text_block_y_content_top = int((h_orig - total_text_block_content_height) / 2)\n",
    "\n",
    "    # Calculate bounding box for text block with padding for extension check\n",
    "    padded_x1 = temp_text_block_x_content_start - padding_x\n",
    "    padded_y1 = temp_text_block_y_content_top - padding_y \n",
    "    padded_x2 = temp_text_block_x_content_start + max_overall_text_width + padding_x\n",
    "    padded_y2 = temp_text_block_y_content_top + total_text_block_content_height + padding_y\n",
    "\n",
    "    # Check for left extension\n",
    "    if padded_x1 < 0:\n",
    "        offset_x_canvas = -padded_x1\n",
    "        new_w += offset_x_canvas\n",
    "\n",
    "    # Check for top extension\n",
    "    if padded_y1 < 0:\n",
    "        offset_y_canvas = -padded_y1\n",
    "        new_h += offset_y_canvas\n",
    "\n",
    "    # Recalculate padded coordinates based on potentially adjusted new_w/new_h\n",
    "    # This is needed to check for right/bottom extension against the *potential* new size.\n",
    "    # The new_w/new_h might have increased due to left/top extensions.\n",
    "    # The text block's position on this *potential* new canvas:\n",
    "    current_text_block_x_on_potential_canvas = temp_text_block_x_content_start + offset_x_canvas\n",
    "    current_text_block_y_top_on_potential_canvas = temp_text_block_y_content_top + offset_y_canvas\n",
    "\n",
    "    padded_x2_after_offset = current_text_block_x_on_potential_canvas + max_overall_text_width + padding_x\n",
    "    padded_y2_after_offset = current_text_block_y_top_on_potential_canvas + total_text_block_content_height + padding_y\n",
    "\n",
    "    # Check for right extension\n",
    "    if padded_x2_after_offset > new_w:\n",
    "        new_w = padded_x2_after_offset\n",
    "\n",
    "    # Check for bottom extension\n",
    "    if padded_y2_after_offset > new_h:\n",
    "        new_h = padded_y2_after_offset\n",
    "\n",
    "    # 4. Create new canvas if needed and paste original image.\n",
    "    if new_w > w_orig or new_h > h_orig:\n",
    "        # Create a new blank canvas with the specified background color.\n",
    "        new_image_canvas = np.full((new_h, new_w, 3), background_color, dtype=np.uint8)\n",
    "        # Paste the original image onto the new canvas at the calculated offset.\n",
    "        new_image_canvas[offset_y_canvas : offset_y_canvas + h_orig,\n",
    "                         offset_x_canvas : offset_x_canvas + w_orig] = img_cv\n",
    "        img_cv = new_image_canvas\n",
    "    \n",
    "    # Calculate the FINAL position of the text block's *content area* top-left corner on the (potentially new) canvas.\n",
    "    final_text_block_x_content_on_canvas = 0\n",
    "    final_text_block_y_content_top_on_canvas = 0\n",
    "\n",
    "    if org[0] is None: # Horizontal centering\n",
    "        # Center the entire text block (based on its widest line) horizontally on the new canvas.\n",
    "        final_text_block_x_content_on_canvas = int((img_cv.shape[1] - max_overall_text_width) / 2)\n",
    "    else: # Specific x-coordinate provided\n",
    "        final_text_block_x_content_on_canvas = temp_text_block_x_content_start + offset_x_canvas\n",
    "\n",
    "    if org[1] is None: # Vertical centering\n",
    "        # Center the entire text block vertically on the new canvas.\n",
    "        final_text_block_y_content_top_on_canvas = int((img_cv.shape[0] - total_text_block_content_height) / 2)\n",
    "    else: # Specific y-coordinate provided (baseline)\n",
    "        final_text_block_y_content_top_on_canvas = temp_text_block_y_content_top + offset_y_canvas\n",
    "\n",
    "    # 5. Place Text Background (before text) for the entire block.\n",
    "    # This is drawn only if transparency is greater than 0 and there is text to draw.\n",
    "    if text_background_transparency > 0 and wrapped_lines_info:\n",
    "        # Calculate the top-left and bottom-right corners of the entire text block's background.\n",
    "        # These are relative to the final position on the canvas.\n",
    "        x1_bg = final_text_block_x_content_on_canvas - padding_x\n",
    "        y1_bg = final_text_block_y_content_top_on_canvas - padding_y\n",
    "        x2_bg = final_text_block_x_content_on_canvas + max_overall_text_width + padding_x\n",
    "        y2_bg = final_text_block_y_content_top_on_canvas + total_text_block_content_height + padding_y\n",
    "\n",
    "        # Ensure background coordinates are within the image bounds to prevent drawing outside.\n",
    "        x1_bg = max(0, x1_bg)\n",
    "        y1_bg = max(0, y1_bg)\n",
    "        x2_bg = min(img_cv.shape[1], x2_bg)\n",
    "        y2_bg = min(img_cv.shape[0], y2_bg)\n",
    "\n",
    "        # Only draw the rectangle if the bounding box is valid (positive width and height).\n",
    "        if x2_bg > x1_bg and y2_bg > y1_bg:\n",
    "            overlay = img_cv.copy() # Create a copy to draw the background on.\n",
    "            # Draw a filled rectangle for the background.\n",
    "            cv2.rectangle(overlay, (x1_bg, y1_bg), (x2_bg, y2_bg), text_background_color, -1)\n",
    "            # Blend the overlay with the original image using the specified transparency.\n",
    "            alpha = text_background_transparency\n",
    "            cv2.addWeighted(overlay, alpha, img_cv, 1 - alpha, 0, img_cv)\n",
    "\n",
    "    # 6. Place Text (loop through each wrapped line).\n",
    "    # Calculate the baseline of the first line from the top of the text content block.\n",
    "    # The baseline of the first line is the top of the text content block + the distance from its top to its baseline.\n",
    "    current_line_y_baseline = final_text_block_y_content_top_on_canvas - first_line_top_offset_from_baseline\n",
    "\n",
    "    for i, (line_text, line_w, line_h, line_baseline) in enumerate(wrapped_lines_info):\n",
    "        line_org_x = final_text_block_x_content_on_canvas # Default to block's left edge\n",
    "        \n",
    "        # If the original request was for horizontal centering, recalculate x-origin for each line\n",
    "        # to ensure each line is individually centered within the *new* canvas.\n",
    "        if org[0] is None:\n",
    "            line_org_x = int((img_cv.shape[1] - line_w) / 2)\n",
    "\n",
    "        # Put the text on the image.\n",
    "        cv2.putText(img_cv, line_text, (line_org_x, current_line_y_baseline),\n",
    "                    font_face, font_scale, color, thickness, cv2.LINE_AA)\n",
    "        \n",
    "        # Move the y-coordinate down to the baseline of the next line.\n",
    "        # The height of the line itself is line_h, but we use text_h_single_line for consistent spacing.\n",
    "        if i < len(wrapped_lines_info) - 1: # Don't add spacing after the last line\n",
    "            current_line_y_baseline += (text_h_single_line + line_spacing)\n",
    "\n",
    "    # 7. Return the modified image.\n",
    "    return img_cv\n"
   ]
  },
  {
   "cell_type": "code",
   "execution_count": 11,
   "id": "2a4333d9",
   "metadata": {},
   "outputs": [],
   "source": [
    "\n",
    "def get_random_prompt(folder_path):\n",
    "    \"\"\"\n",
    "    Looks for all CSV files in a specified folder, processes them, updates a random row \n",
    "    with the minimum count, and returns the subject and filename.\n",
    "    The function assumes that the first row of each CSV file contains headers.\n",
    "\n",
    "    Args:\n",
    "        folder_path (str): The path to the folder containing the CSV files.\n",
    "    \"\"\"\n",
    "\n",
    "    all_data = []\n",
    "    \n",
    "    # 1. Look for all CSV files in the specified folder\n",
    "    csv_files = glob.glob(os.path.join(folder_path, \"*.csv\"))\n",
    "    if not csv_files:\n",
    "        return \"No CSV files found in the specified directory.\"\n",
    "\n",
    "    # 2. Read them into dataframes and process them\n",
    "    for filename in csv_files:\n",
    "        try:\n",
    "            # Read the CSV assuming the first row is the header\n",
    "            df = pd.read_csv(filename)\n",
    "            \n",
    "            # Standardize column names to 'subject' and 'count' for consistency\n",
    "            if 'subject' not in df.columns or 'count' not in df.columns:\n",
    "                print(f\"File {filename} does not have 'subject' and 'count' columns. Skipping.\")\n",
    "                continue\n",
    "\n",
    "            # 2.b If count is blank, set it to 0 and ensure the column is int type\n",
    "            df['count'] = pd.to_numeric(df['count'], errors='coerce').fillna(0).astype(int)\n",
    "\n",
    "            # 3. Remove rows where the first character of 'subject' is '#'\n",
    "            df = df[~df['subject'].astype(str).str.startswith('#')]\n",
    "            \n",
    "            # Add a column to store the original filename\n",
    "            df['original_file'] = filename\n",
    "            \n",
    "            all_data.append(df)\n",
    "            \n",
    "        except Exception as e:\n",
    "            print(f\"Error processing file {filename}: {e}\")\n",
    "            continue\n",
    "\n",
    "    if not all_data:\n",
    "        return \"No valid data could be read from the CSV files.\"\n",
    "\n",
    "    # 4. Merge all dataframes into one\n",
    "    merged_df = pd.concat(all_data, ignore_index=True)\n",
    "\n",
    "    # 5. Sort them based on the count column\n",
    "    merged_df = merged_df.sort_values(by='count')\n",
    "\n",
    "    # 6. Select the set of rows that has the minimum value of count\n",
    "    min_count = merged_df['count'].min()\n",
    "    min_count_rows = merged_df[merged_df['count'] == min_count]\n",
    "    \n",
    "    if min_count_rows.empty:\n",
    "        return \"No rows with a minimum count were found.\"\n",
    "\n",
    "    # 7. Use a random row from this list\n",
    "    selected_row = min_count_rows.sample(n=1).iloc[0]\n",
    "    selected_subject = selected_row['subject']\n",
    "    selected_file = selected_row['original_file']\n",
    "\n",
    "    # 8. Update the original CSV value for this row and add one to its count\n",
    "    # 9. Save the original CSV\n",
    "    try:\n",
    "        # Read the original file again to ensure we are modifying the correct data\n",
    "        original_df = pd.read_csv(selected_file)\n",
    "        \n",
    "        # FIX: Ensure the count column is numeric with blank values as 0, \n",
    "        # so the comparison with min_count works correctly.\n",
    "        original_df['count'] = pd.to_numeric(original_df['count'], errors='coerce').fillna(0).astype(int)\n",
    "\n",
    "        # Find the row to update\n",
    "        # Using a more robust way to find the row to avoid issues with duplicates\n",
    "        # We'll match on both subject and the count before updating\n",
    "        original_df.loc[\n",
    "            (original_df['subject'] == selected_subject) & (original_df['count'] == min_count),\n",
    "            'count'\n",
    "        ] += 1\n",
    "        \n",
    "        # Save the updated dataframe back to the original CSV file\n",
    "        original_df.to_csv(selected_file, index=False)\n",
    "        \n",
    "    except Exception as e:\n",
    "        return f\"Error updating and saving file {selected_file}: {e}\"\n",
    "\n",
    "    # 10. Return the subject and the filename (without extension)\n",
    "    filename_without_ext = os.path.splitext(os.path.basename(selected_file))[0]\n",
    "    return  filename_without_ext,selected_subject"
   ]
  },
  {
   "cell_type": "code",
   "execution_count": 12,
   "id": "1e754a62",
   "metadata": {},
   "outputs": [],
   "source": [
    "def read_and_increment(file_path=\"counter.txt\"):\n",
    "    \"\"\"\n",
    "    Reads a number from a file, returns it, and updates the file content with the number incremented by one.\n",
    "\n",
    "    Args:\n",
    "        file_path (str): Path to the file containing the number.\n",
    "\n",
    "    Returns:\n",
    "        int: The number read from the file.\n",
    "    \"\"\"\n",
    "    try:\n",
    "        # Read the current number from the file\n",
    "        with open(file_path, 'r') as file:\n",
    "            number = int(file.read().strip())\n",
    "    except FileNotFoundError:\n",
    "        # If the file does not exist, start with 0\n",
    "        number = 0\n",
    "    except ValueError:\n",
    "        # If the file content is invalid, raise an error\n",
    "        raise ValueError(f\"The file {file_path} does not contain a valid integer.\")\n",
    "\n",
    "    # Increment the number\n",
    "    incremented_number = number + 1\n",
    "\n",
    "    # Write the incremented number back to the file\n",
    "    with open(file_path, 'w') as file:\n",
    "        file.write(str(incremented_number))\n",
    "\n",
    "    return number"
   ]
  },
  {
   "cell_type": "code",
   "execution_count": 13,
   "id": "4550df59",
   "metadata": {},
   "outputs": [],
   "source": [
    "# logo=Image.open(str(assts_dir/\"aiartstudio_logo.png\"))\n",
    "# puzzel_no_text = f\"Puzzle No: {read_and_increment()}\"\n",
    "# logo1 = add_text_to_image(logo, puzzel_no_text, org=(None, 1800), font_scale=4, color=(0, 0, 255), thickness=10, wordwrap=True)\n",
    "# logo1_image = Image.fromarray(cv2.cvtColor(logo1, cv2.COLOR_BGR2RGB))\n",
    "# logo1_image.show()"
   ]
  },
  {
   "cell_type": "markdown",
   "id": "2f3b44ab",
   "metadata": {},
   "source": [
    "# run"
   ]
  },
  {
   "cell_type": "code",
   "execution_count": 14,
   "id": "ae56ed7d",
   "metadata": {},
   "outputs": [
    {
     "data": {
      "application/vnd.jupyter.widget-view+json": {
       "model_id": "44ff529b3d934401b7b2b164b9a77d28",
       "version_major": 2,
       "version_minor": 0
      },
      "text/plain": [
       "Loading pipeline components...:   0%|          | 0/7 [00:00<?, ?it/s]"
      ]
     },
     "metadata": {},
     "output_type": "display_data"
    },
    {
     "name": "stderr",
     "output_type": "stream",
     "text": [
      "You have passed a non-standard module StableDiffusionSafetyChecker(\n",
      "  (vision_model): CLIPVisionModel(\n",
      "    (vision_model): CLIPVisionTransformer(\n",
      "      (embeddings): CLIPVisionEmbeddings(\n",
      "        (patch_embedding): Conv2d(3, 1024, kernel_size=(14, 14), stride=(14, 14), bias=False)\n",
      "        (position_embedding): Embedding(257, 1024)\n",
      "      )\n",
      "      (pre_layrnorm): LayerNorm((1024,), eps=1e-05, elementwise_affine=True)\n",
      "      (encoder): CLIPEncoder(\n",
      "        (layers): ModuleList(\n",
      "          (0-23): 24 x CLIPEncoderLayer(\n",
      "            (self_attn): CLIPAttention(\n",
      "              (k_proj): Linear(in_features=1024, out_features=1024, bias=True)\n",
      "              (v_proj): Linear(in_features=1024, out_features=1024, bias=True)\n",
      "              (q_proj): Linear(in_features=1024, out_features=1024, bias=True)\n",
      "              (out_proj): Linear(in_features=1024, out_features=1024, bias=True)\n",
      "            )\n",
      "            (layer_norm1): LayerNorm((1024,), eps=1e-05, elementwise_affine=True)\n",
      "            (mlp): CLIPMLP(\n",
      "              (activation_fn): QuickGELUActivation()\n",
      "              (fc1): Linear(in_features=1024, out_features=4096, bias=True)\n",
      "              (fc2): Linear(in_features=4096, out_features=1024, bias=True)\n",
      "            )\n",
      "            (layer_norm2): LayerNorm((1024,), eps=1e-05, elementwise_affine=True)\n",
      "          )\n",
      "        )\n",
      "      )\n",
      "      (post_layernorm): LayerNorm((1024,), eps=1e-05, elementwise_affine=True)\n",
      "    )\n",
      "  )\n",
      "  (visual_projection): Linear(in_features=1024, out_features=768, bias=False)\n",
      "). We cannot verify whether it has the correct type\n"
     ]
    }
   ],
   "source": [
    "generator = SD15ImageGenerator(num_inference_steps=100)\n"
   ]
  },
  {
   "cell_type": "code",
   "execution_count": 15,
   "id": "639094d0",
   "metadata": {},
   "outputs": [],
   "source": [
    "\n",
    "conceptPromptGenerator=OllamaConceptPromptGenerator()\n",
    "\n"
   ]
  },
  {
   "cell_type": "code",
   "execution_count": 16,
   "id": "088ce93b",
   "metadata": {},
   "outputs": [
    {
     "name": "stdout",
     "output_type": "stream",
     "text": [
      "Result for data1: [0.03333333333333333, 0.03333333333333333, 0.03333333333333333, 0.03333333333333333, 0.03333333333333333, 0.03333333333333333, 0.03333333333333333, 0.03333333333333333, 0.03333333333333333, 0.03333333333333333, 0.03333333333333333, 0.03333333333333333, 0.03333333333333333, 0.03333333333333333, 0.03333333333333333, 0.03333333333333333, 0.03333333333333333, 0.03333333333333333, 0.03333333333333333, 0.03333333333333333, 0.03333333333333333, 0.03333333333333333, 0.03333333333333333, 0.03333333333333333, 0.03333333333333333, 0.03333333333333333, 0.03333333333333333, 0.03333333333333333, 0.03333333333333333, 0.03333333333333333, 0.03333333333333333, 0.04942528735632184, 0.06551724137931034, 0.08160919540229886, 0.09770114942528735, 0.11379310344827587, 0.12988505747126436, 0.14597701149425288, 0.16206896551724137, 0.1781609195402299, 0.19425287356321838, 0.21034482758620687, 0.2264367816091954, 0.2425287356321839, 0.25862068965517243, 0.2747126436781609, 0.2908045977011494, 0.30689655172413793, 0.32298850574712645, 0.3390804597701149, 0.35517241379310344, 0.37126436781609196, 0.3873563218390804, 0.40344827586206894, 0.41954022988505746, 0.435632183908046, 0.4517241379310345, 0.46781609195402296, 0.4839080459770115, 0.5, 0.5, 0.5, 0.5, 0.5, 0.5, 0.5, 0.5, 0.5, 0.5, 0.5, 0.5, 0.5, 0.5, 0.5, 0.5, 0.5, 0.5, 0.5, 0.5, 0.5, 0.5, 0.5, 0.5, 0.5, 0.5, 0.5, 0.5, 0.5, 0.5, 0.5, 0.5, 0.44166666666666665, 0.3833333333333333, 0.325, 0.26666666666666666, 0.20833333333333331, 0.15000000000000002, 0.09166666666666667, 0.03333333333333333, 5.202]\n",
      "len 100, sum 31.602\n"
     ]
    }
   ],
   "source": [
    "\n",
    "# Example Usage:\n",
    "speed_stop=0.5\n",
    "#speed_distribution = [(40, 1/30, speed_stop), (40, speed_stop, speed_stop), (19, speed_stop, 1/30)]\n",
    "speed_distribution = [(30, 1/30, 1/30), (30,1/30, speed_stop),(30, speed_stop, speed_stop), (9, speed_stop, 1/30)]\n",
    "result1 = generate_evenly_distributed_values(speed_distribution)\n",
    "result1.append(5.202)\n",
    "print(f\"Result for data1: {result1}\")\n",
    "print(f\"len {len(result1)}, sum {sum(result1)}\" )\n",
    "# # Expected output for data1: [0.0, 2.5, 5.0, 7.5, 10.0, 100.0, 101.0, 102.0]"
   ]
  },
  {
   "cell_type": "code",
   "execution_count": 17,
   "id": "70851b3b",
   "metadata": {},
   "outputs": [
    {
     "name": "stdout",
     "output_type": "stream",
     "text": [
      "Object Lamp\n",
      "{'prompt': 'A single, elegant brass floor lamp, minimalist design, soft warm light illuminating a plain white wall. Photorealistic, 8k, volumetric lighting, clean lines, shallow depth of field. Inspired by Dieter Rams.', 'negative_prompt': 'clutter, ornate, shadows, darkness, multiple lamps, complex background, photobashing, noisy, blurry, cartoon, 3D render', 'fact': 'Early oil lamps used animal bladders to hold the oil! '}\n"
     ]
    },
    {
     "data": {
      "application/vnd.jupyter.widget-view+json": {
       "model_id": "c9d4ba09394b4dd887b8f0fe20111d1d",
       "version_major": 2,
       "version_minor": 0
      },
      "text/plain": [
       "  0%|          | 0/100 [00:00<?, ?it/s]"
      ]
     },
     "metadata": {},
     "output_type": "display_data"
    },
    {
     "name": "stdout",
     "output_type": "stream",
     "text": [
      "Saving video to videos/2025-08-04-15-09-55_Object.mp4...\n",
      "Moviepy - Building video videos/2025-08-04-15-09-55_Object.mp4.\n",
      "MoviePy - Writing audio in 2025-08-04-15-09-55_ObjectTEMP_MPY_wvf_snd.mp4\n"
     ]
    },
    {
     "name": "stderr",
     "output_type": "stream",
     "text": [
      "                                                                     \r"
     ]
    },
    {
     "name": "stdout",
     "output_type": "stream",
     "text": [
      "MoviePy - Done.\n",
      "Moviepy - Writing video videos/2025-08-04-15-09-55_Object.mp4\n",
      "\n"
     ]
    },
    {
     "name": "stderr",
     "output_type": "stream",
     "text": [
      "                                                                 \r"
     ]
    },
    {
     "name": "stdout",
     "output_type": "stream",
     "text": [
      "Moviepy - Done !\n",
      "Moviepy - video ready videos/2025-08-04-15-09-55_Object.mp4\n",
      "Video saved successfully and temporary file removed.\n"
     ]
    }
   ],
   "source": [
    "def gen_one_video():\n",
    "    subscribe_msg= \"Think you're a fast problem-solver? Subscribe for fresh puzzles and fascinating facts! Cracked the code? Prove it! Share your answer AND your solve time in the comments below!\"\n",
    "    Subscribe_position = (None, 580)  # Position for the subscribe message\n",
    "    category,subject = get_random_prompt(propmt_dir)\n",
    "    #category=\"testing\"\n",
    "    #subject=\"Louvre Abu Dhabi a longsubject name that is very long and should be wrapped properly in the image\"\n",
    "    print(category, subject)\n",
    "    #prompt_dic={'Prompt': 'a detailed view of Louvre Abu Dhabi, architectural marvel, modern design, glass dome, sun rays, reflection, desert backdrop', 'Negative Prompt': 'no details, wrong architecture, generic buildings, low resolution, no dome', 'Fact': 'Louvre Abu Dhabi fuses French art with Middle Eastern influences.'}\n",
    "    prompt_dic=conceptPromptGenerator.generate(subject,category)\n",
    "    print(prompt_dic)    \n",
    "    images = generator.generate_image(prompt_dic['prompt'],prompt_dic['negative_prompt'] , guidance_scale=7.5)\n",
    "    editor = VideoEditor(fps=30, frame_size=(512, 512))\n",
    "    #generator.save_images(images, directory=\"generated\")\n",
    "    #editor.add_images_from_list(images, duration_sec=30)\n",
    "    if(len(result1) != len(images   )):\n",
    "        print(\"time_duration and number of images are not matched.\")\n",
    "    logo=Image.open(str(assts_dir/\"aiartstudio_logo.png\"))\n",
    "    puzzel_no_text = f\"Puzzle No: {read_and_increment()}\"\n",
    "    logo1 = add_text_to_image(logo, puzzel_no_text, org=(None, 1800), font_scale=4, color=(0, 0, 255), thickness=10, wordwrap=True)\n",
    "    editor.add_image(logo1, 3)  # Add logo for 3 seconds\n",
    "\n",
    "    editor.set_global_display_time_offset_start(0)  # Set global offset to 0 seconds\n",
    "    total_duration = 0\n",
    "    for index, duration in enumerate(result1):\n",
    "        img = images[index] \n",
    "        img1=add_text_to_image(img, f\"Guess what AI painting now?!\",org=(25,540),font_scale=0.8)\n",
    "        total_duration += duration\n",
    "        if int(total_duration)%2 == 0:\n",
    "            img1 = add_text_to_image(img1, subscribe_msg, org=Subscribe_position, font_scale=0.8,color=(0, 0, 255),wordwrap=True)\n",
    "        else:\n",
    "            img1 = add_text_to_image(img1, subscribe_msg, org=Subscribe_position, font_scale=0.8,color=(255, 0, 255),wordwrap=True)\n",
    "        editor.add_image(img1, duration,show_time_text=True,time_display_format=\"SS.MS\",time_text_position=(400, 373),time_text_font_scale=0.8)\n",
    "    img_final = add_text_to_image(images[-1], subscribe_msg, org=Subscribe_position, font_scale=0.8,color=(0, 0, 255),wordwrap=True)\n",
    "    img=add_text_to_image(img_final.copy(), \"Time Up, AI draw:\",org=(None,250))\n",
    "    img=add_text_to_image(img, subject,org=(None,350),color=(0, 0, 255), font_scale=1.2, thickness=3,wordwrap=True)\n",
    "    editor.add_image(img, 5,show_time_text=False)\n",
    "\n",
    "    img=add_text_to_image(img_final, \"Fact:\",org=(None,50))\n",
    "    img=add_text_to_image(img,prompt_dic['fact'] ,org=(None,150),color=(0, 0, 255), font_scale=1.2, thickness=3,wordwrap=True)\n",
    "    editor.add_image(img, 10,show_time_text=False)\n",
    "    editor.add_audio(str(assts_dir/\"Long Distance.mp3\"),audio_clip_end=editor.get_video_duration(),video_start_offset=0)  # Add audio starting at the beginning of the video\n",
    "    #editor.add_image(images[-1],3)  # Add last image for 3 seconds\n",
    "    fileName=generate_filename_by_datetime(category, \"mp4\")\n",
    "    #full_path_filename = str(GDrive_dir/fileName)\n",
    "    #print(full_path_filename)\n",
    "    editor.save(f\"videos/{fileName}\")\n",
    "\n",
    "gen_one_video()"
   ]
  },
  {
   "cell_type": "code",
   "execution_count": 20,
   "id": "222490ec",
   "metadata": {},
   "outputs": [
    {
     "name": "stdout",
     "output_type": "stream",
     "text": [
      "Animal Newt\n"
     ]
    },
    {
     "name": "stderr",
     "output_type": "stream",
     "text": [
      "The following part of your input was truncated because CLIP can only handle sequences up to 77 tokens: ['. 8 k , highly detailed , octane render , art by greg rutkowski and alphonse mucha . , 8 k , best quality , masterpiece , photorealistic , ultra - detailed , sharp focus']\n"
     ]
    },
    {
     "name": "stdout",
     "output_type": "stream",
     "text": [
      "{'prompt': \"A hyperrealistic digital painting of a vibrant, iridescent newt, *Pleurodeles waltl*, emerging from a misty, ancient Roman ruin. Bioluminescent moss clings to the stonework, illuminating the newt's orange belly and intricately patterned skin. Soft, dappled light filters through crumbling arches. Dramatic, cinematic lighting. 8k, highly detailed, octane render, art by Greg Rutkowski and Alphonse Mucha.\", 'negative_prompt': 'cartoon, sketch, drawing, anime, blurry, lowres, text, watermark, signature, deformed, unrealistic, bad anatomy, duplicate, tiling, grainy, oversaturated', 'fact': 'Fire newts, like *Pleurodeles waltl*, can regenerate lost limbs and even parts of their hearts! '}\n"
     ]
    },
    {
     "data": {
      "application/vnd.jupyter.widget-view+json": {
       "model_id": "237041005f5f49648b2a22b6cd8f0def",
       "version_major": 2,
       "version_minor": 0
      },
      "text/plain": [
       "  0%|          | 0/100 [00:00<?, ?it/s]"
      ]
     },
     "metadata": {},
     "output_type": "display_data"
    },
    {
     "name": "stdout",
     "output_type": "stream",
     "text": [
      "Saving video to videos/2025-08-04-15-59-32_Animal.mp4...\n",
      "Moviepy - Building video videos/2025-08-04-15-59-32_Animal.mp4.\n",
      "MoviePy - Writing audio in 2025-08-04-15-59-32_AnimalTEMP_MPY_wvf_snd.mp4\n"
     ]
    },
    {
     "name": "stderr",
     "output_type": "stream",
     "text": [
      "                                                                     \r"
     ]
    },
    {
     "name": "stdout",
     "output_type": "stream",
     "text": [
      "MoviePy - Done.\n",
      "Moviepy - Writing video videos/2025-08-04-15-59-32_Animal.mp4\n",
      "\n"
     ]
    },
    {
     "name": "stderr",
     "output_type": "stream",
     "text": [
      "                                                                 \r"
     ]
    },
    {
     "name": "stdout",
     "output_type": "stream",
     "text": [
      "Moviepy - Done !\n",
      "Moviepy - video ready videos/2025-08-04-15-59-32_Animal.mp4\n",
      "Video saved successfully and temporary file removed.\n",
      "Building Persepolis (Iran)\n"
     ]
    },
    {
     "name": "stderr",
     "output_type": "stream",
     "text": [
      "The following part of your input was truncated because CLIP can only handle sequences up to 77 tokens: ['lighting , cinematic , warm color palette , intricate details , early morning mist clinging to the terraces . , 8 k , best quality , masterpiece , photorealistic , ultra - detailed , sharp focus']\n"
     ]
    },
    {
     "name": "stdout",
     "output_type": "stream",
     "text": [
      "{'prompt': 'A breathtaking panoramic view of Persepolis, Iran, at dawn. Soft, ethereal golden light bathes the ancient ruins, highlighting the intricate carvings on the Apadana Palace and Gate of All Nations. Dust motes dance in the light beams. Ancient Persian architecture, monumental scale, detailed stonework, realistic, photorealistic, 8k, volumetric lighting, cinematic, warm color palette, intricate details, early morning mist clinging to the terraces.', 'negative_prompt': 'cartoon, anime, painting, drawing, sketch, blurry, noisy, oversaturated, vibrant colors, modern architecture, people, text, signature, watermark, bad anatomy, distorted, unrealistic', 'fact': \"Persepolis' name, meaning 'City of the Persians', was given by the Greeks, not the Persians themselves!\"}\n"
     ]
    },
    {
     "data": {
      "application/vnd.jupyter.widget-view+json": {
       "model_id": "116c406dab4e4ff1b184a7db288f841d",
       "version_major": 2,
       "version_minor": 0
      },
      "text/plain": [
       "  0%|          | 0/100 [00:00<?, ?it/s]"
      ]
     },
     "metadata": {},
     "output_type": "display_data"
    },
    {
     "name": "stdout",
     "output_type": "stream",
     "text": [
      "Saving video to videos/2025-08-04-16-01-26_Building.mp4...\n",
      "Moviepy - Building video videos/2025-08-04-16-01-26_Building.mp4.\n",
      "MoviePy - Writing audio in 2025-08-04-16-01-26_BuildingTEMP_MPY_wvf_snd.mp4\n"
     ]
    },
    {
     "name": "stderr",
     "output_type": "stream",
     "text": [
      "                                                                     \r"
     ]
    },
    {
     "name": "stdout",
     "output_type": "stream",
     "text": [
      "MoviePy - Done.\n",
      "Moviepy - Writing video videos/2025-08-04-16-01-26_Building.mp4\n",
      "\n"
     ]
    },
    {
     "name": "stderr",
     "output_type": "stream",
     "text": [
      "                                                                 \r"
     ]
    },
    {
     "name": "stdout",
     "output_type": "stream",
     "text": [
      "Moviepy - Done !\n",
      "Moviepy - video ready videos/2025-08-04-16-01-26_Building.mp4\n",
      "Video saved successfully and temporary file removed.\n",
      "Animal Bat\n"
     ]
    },
    {
     "name": "stderr",
     "output_type": "stream",
     "text": [
      "The following part of your input was truncated because CLIP can only handle sequences up to 77 tokens: ['k , best quality , masterpiece , photorealistic , ultra - detailed , sharp focus']\n"
     ]
    },
    {
     "name": "stdout",
     "output_type": "stream",
     "text": [
      "{'prompt': 'A majestic, charcoal-and-ochre painted bat, wings outstretched, clinging to a gnarled oak branch under a full, luminous moon. Dramatic chiaroscuro lighting, reminiscent of Rembrandt, with subtle textures of fur and bark. Detailed, realistic rendering, vintage aesthetic, oil on canvas, 18th century.', 'negative_prompt': 'cartoon, illustration, digital art, smooth, blurry, modern, abstract, unrealistic, bright colors, multiple bats, daytime, flat lighting', 'fact': 'Bats are the only mammals capable of true, sustained flight. Their wings are made of skin, not feathers! '}\n"
     ]
    },
    {
     "data": {
      "application/vnd.jupyter.widget-view+json": {
       "model_id": "d98dbcbe799a4fa7b05656fcef0c35d6",
       "version_major": 2,
       "version_minor": 0
      },
      "text/plain": [
       "  0%|          | 0/100 [00:00<?, ?it/s]"
      ]
     },
     "metadata": {},
     "output_type": "display_data"
    },
    {
     "name": "stdout",
     "output_type": "stream",
     "text": [
      "Saving video to videos/2025-08-04-16-03-09_Animal.mp4...\n",
      "Moviepy - Building video videos/2025-08-04-16-03-09_Animal.mp4.\n",
      "MoviePy - Writing audio in 2025-08-04-16-03-09_AnimalTEMP_MPY_wvf_snd.mp4\n"
     ]
    },
    {
     "name": "stderr",
     "output_type": "stream",
     "text": [
      "                                                                     \r"
     ]
    },
    {
     "name": "stdout",
     "output_type": "stream",
     "text": [
      "MoviePy - Done.\n",
      "Moviepy - Writing video videos/2025-08-04-16-03-09_Animal.mp4\n",
      "\n"
     ]
    },
    {
     "name": "stderr",
     "output_type": "stream",
     "text": [
      "                                                                 \r"
     ]
    },
    {
     "name": "stdout",
     "output_type": "stream",
     "text": [
      "Moviepy - Done !\n",
      "Moviepy - video ready videos/2025-08-04-16-03-09_Animal.mp4\n",
      "Video saved successfully and temporary file removed.\n",
      "Place Bologna (Italy)\n"
     ]
    },
    {
     "name": "stderr",
     "output_type": "stream",
     "text": [
      "The following part of your input was truncated because CLIP can only handle sequences up to 77 tokens: ['dramatic lighting , volumetric fog , gritty texture , 8 k , octane render , cyberpunk aesthetic , neon pink and electric blue highlights . , 8 k , best quality , masterpiece , photorealistic , ultra - detailed , sharp focus']\n"
     ]
    },
    {
     "name": "stdout",
     "output_type": "stream",
     "text": [
      "{'prompt': 'Hyperrealistic, cinematic still. Bologna, Italy, 2077. Rain-slicked cobblestone streets reflecting neon signs in Italian and Japanese. Ancient porticoes overlaid with holographic advertisements for cybernetic enhancements and noodle bars. A lone figure in a data-jack jacket walks past a bioluminescent fountain. Dramatic lighting, volumetric fog, gritty texture, 8k, octane render, cyberpunk aesthetic, neon pink and electric blue highlights.', 'negative_prompt': 'photorealistic, blurry, low resolution, painting, drawing, sketch, anime, cartoon, unrealistic, dull colors, overcast, daytime, soft lighting, people, crowds, text, watermark, signature', 'fact': 'Bolognas Finestrella (little window) offers a breathtaking view of the Two Towers  now digitally enhanced with vibrant neon projections.'}\n"
     ]
    },
    {
     "data": {
      "application/vnd.jupyter.widget-view+json": {
       "model_id": "1fa20751ec8c46cd8e807add131f8e7e",
       "version_major": 2,
       "version_minor": 0
      },
      "text/plain": [
       "  0%|          | 0/100 [00:00<?, ?it/s]"
      ]
     },
     "metadata": {},
     "output_type": "display_data"
    },
    {
     "name": "stderr",
     "output_type": "stream",
     "text": [
      "Potential NSFW content was detected in one or more images. A black image will be returned instead. Try again with a different prompt and/or seed.\n"
     ]
    },
    {
     "name": "stdout",
     "output_type": "stream",
     "text": [
      "Saving video to videos/2025-08-04-16-05-08_Place.mp4...\n",
      "Moviepy - Building video videos/2025-08-04-16-05-08_Place.mp4.\n",
      "MoviePy - Writing audio in 2025-08-04-16-05-08_PlaceTEMP_MPY_wvf_snd.mp4\n"
     ]
    },
    {
     "name": "stderr",
     "output_type": "stream",
     "text": [
      "                                                                     \r"
     ]
    },
    {
     "name": "stdout",
     "output_type": "stream",
     "text": [
      "MoviePy - Done.\n",
      "Moviepy - Writing video videos/2025-08-04-16-05-08_Place.mp4\n",
      "\n"
     ]
    },
    {
     "name": "stderr",
     "output_type": "stream",
     "text": [
      "                                                                 \r"
     ]
    },
    {
     "name": "stdout",
     "output_type": "stream",
     "text": [
      "Moviepy - Done !\n",
      "Moviepy - video ready videos/2025-08-04-16-05-08_Place.mp4\n",
      "Video saved successfully and temporary file removed.\n",
      "Animal Goat\n"
     ]
    },
    {
     "name": "stderr",
     "output_type": "stream",
     "text": [
      "The following part of your input was truncated because CLIP can only handle sequences up to 77 tokens: ['. , 8 k , best quality , masterpiece , photorealistic , ultra - detailed , sharp focus']\n"
     ]
    },
    {
     "name": "stdout",
     "output_type": "stream",
     "text": [
      "{'prompt': 'A bioluminescent goat, chrome horns spiraling from its head, stands amidst a rain-slicked neo-Tokyo alleyway. Holographic advertisements flicker across its flank, displaying glitching ramen deals. Rain reflects neon pink and electric blue light. Detailed fur, realistic eyes. Cyberpunk aesthetic, gritty, 8k, photorealistic.', 'negative_prompt': 'cartoon, drawing, painting, illustration, blurry, deformed, low resolution, human, people, text, signature, watermark, unrealistic, smooth skin', 'fact': 'Goats can climb vertically! They use their hooves to grip surfaces, even concrete walls, in the neon-drenched cityscapes.'}\n"
     ]
    },
    {
     "data": {
      "application/vnd.jupyter.widget-view+json": {
       "model_id": "723e095db294485a806af3ce54021e6a",
       "version_major": 2,
       "version_minor": 0
      },
      "text/plain": [
       "  0%|          | 0/100 [00:00<?, ?it/s]"
      ]
     },
     "metadata": {},
     "output_type": "display_data"
    },
    {
     "name": "stdout",
     "output_type": "stream",
     "text": [
      "Saving video to videos/2025-08-04-16-06-46_Animal.mp4...\n",
      "Moviepy - Building video videos/2025-08-04-16-06-46_Animal.mp4.\n",
      "MoviePy - Writing audio in 2025-08-04-16-06-46_AnimalTEMP_MPY_wvf_snd.mp4\n"
     ]
    },
    {
     "name": "stderr",
     "output_type": "stream",
     "text": [
      "                                                                     \r"
     ]
    },
    {
     "name": "stdout",
     "output_type": "stream",
     "text": [
      "MoviePy - Done.\n",
      "Moviepy - Writing video videos/2025-08-04-16-06-46_Animal.mp4\n",
      "\n"
     ]
    },
    {
     "name": "stderr",
     "output_type": "stream",
     "text": [
      "                                                                 \r"
     ]
    },
    {
     "name": "stdout",
     "output_type": "stream",
     "text": [
      "Moviepy - Done !\n",
      "Moviepy - video ready videos/2025-08-04-16-06-46_Animal.mp4\n",
      "Video saved successfully and temporary file removed.\n",
      "Object Towel\n",
      "{'prompt': 'A single, luxuriously folded white towel, resting on a smooth, gray concrete surface. Soft, diffused lighting, minimalist composition, high-resolution, photorealistic, shallow depth of field, 8k.', 'negative_prompt': 'busy background, clutter, wrinkled, stained, pattern, texture, cartoon, drawing, painting, illustration, multiple towels, people, furniture, shadows', 'fact': 'Ancient Egyptians used linen towels, often perfumed, to dry themselves after bathing in the Nile. '}\n"
     ]
    },
    {
     "data": {
      "application/vnd.jupyter.widget-view+json": {
       "model_id": "6cbd1997a32147d39a9c9ebd771e006c",
       "version_major": 2,
       "version_minor": 0
      },
      "text/plain": [
       "  0%|          | 0/100 [00:00<?, ?it/s]"
      ]
     },
     "metadata": {},
     "output_type": "display_data"
    },
    {
     "name": "stdout",
     "output_type": "stream",
     "text": [
      "Saving video to videos/2025-08-04-16-08-26_Object.mp4...\n",
      "Moviepy - Building video videos/2025-08-04-16-08-26_Object.mp4.\n",
      "MoviePy - Writing audio in 2025-08-04-16-08-26_ObjectTEMP_MPY_wvf_snd.mp4\n"
     ]
    },
    {
     "name": "stderr",
     "output_type": "stream",
     "text": [
      "                                                                     \r"
     ]
    },
    {
     "name": "stdout",
     "output_type": "stream",
     "text": [
      "MoviePy - Done.\n",
      "Moviepy - Writing video videos/2025-08-04-16-08-26_Object.mp4\n",
      "\n"
     ]
    },
    {
     "name": "stderr",
     "output_type": "stream",
     "text": [
      "                                                                 \r"
     ]
    },
    {
     "name": "stdout",
     "output_type": "stream",
     "text": [
      "Moviepy - Done !\n",
      "Moviepy - video ready videos/2025-08-04-16-08-26_Object.mp4\n",
      "Video saved successfully and temporary file removed.\n",
      "Place Lima (Peru)\n"
     ]
    },
    {
     "name": "stderr",
     "output_type": "stream",
     "text": [
      "The following part of your input was truncated because CLIP can only handle sequences up to 77 tokens: [', soft focus , golden hour . , 8 k , best quality , masterpiece , photorealistic , ultra - detailed , sharp focus']\n"
     ]
    },
    {
     "name": "stdout",
     "output_type": "stream",
     "text": [
      "{'prompt': 'A breathtaking panoramic view of Lima, Peru at dawn. The Miraflores district glows with a soft, ethereal light, reflecting off the Pacific Ocean. Ancient colonial architecture blends seamlessly with modern skyscrapers. Mist hangs delicately in the valleys, creating a dreamlike atmosphere. Photorealistic, 8k, cinematic lighting, volumetric light, detailed textures, soft focus, golden hour.', 'negative_prompt': 'blurry, noisy, oversaturated, cartoon, anime, painting, drawing, illustration, bad anatomy, deformed, unrealistic, harsh shadows, nighttime, artificial light, text, watermark', 'fact': \"Lima's historic center is a UNESCO World Heritage site, showcasing stunning Spanish colonial architecture from the 16th-19th centuries.\"}\n"
     ]
    },
    {
     "data": {
      "application/vnd.jupyter.widget-view+json": {
       "model_id": "656493d34b4442d68dac5080d8880fcf",
       "version_major": 2,
       "version_minor": 0
      },
      "text/plain": [
       "  0%|          | 0/100 [00:00<?, ?it/s]"
      ]
     },
     "metadata": {},
     "output_type": "display_data"
    },
    {
     "name": "stdout",
     "output_type": "stream",
     "text": [
      "Saving video to videos/2025-08-04-16-10-21_Place.mp4...\n",
      "Moviepy - Building video videos/2025-08-04-16-10-21_Place.mp4.\n",
      "MoviePy - Writing audio in 2025-08-04-16-10-21_PlaceTEMP_MPY_wvf_snd.mp4\n"
     ]
    },
    {
     "name": "stderr",
     "output_type": "stream",
     "text": [
      "                                                                     \r"
     ]
    },
    {
     "name": "stdout",
     "output_type": "stream",
     "text": [
      "MoviePy - Done.\n",
      "Moviepy - Writing video videos/2025-08-04-16-10-21_Place.mp4\n",
      "\n"
     ]
    },
    {
     "name": "stderr",
     "output_type": "stream",
     "text": [
      "                                                                 \r"
     ]
    },
    {
     "name": "stdout",
     "output_type": "stream",
     "text": [
      "Moviepy - Done !\n",
      "Moviepy - video ready videos/2025-08-04-16-10-21_Place.mp4\n",
      "Video saved successfully and temporary file removed.\n",
      "Object Hand sanitizer\n"
     ]
    },
    {
     "name": "stderr",
     "output_type": "stream",
     "text": [
      "The following part of your input was truncated because CLIP can only handle sequences up to 77 tokens: ['detailed , octane render , photorealistic . , 8 k , best quality , masterpiece , photorealistic , ultra - detailed , sharp focus']\n"
     ]
    },
    {
     "name": "stdout",
     "output_type": "stream",
     "text": [
      "{'prompt': 'A hyperrealistic, close-up photograph of a small, elegant hand sanitizer bottle, illuminated by the ethereal glow of a full moon. The bottle is frosted glass, with subtle silver lettering. Dewdrops cling to the surface, reflecting the moonlight. Background is a blurred, dark garden with blooming night-blooming jasmine. Cinematic lighting, 8k, detailed, octane render, photorealistic.', 'negative_prompt': 'cartoon, drawing, illustration, painting, blurry, low resolution, watermark, signature, text, deformed, plastic, cheap, ugly, daytime, bright sunlight, crowded, multiple hands', 'fact': 'Did you know? Some hand sanitizers use aloe vera to moisturize while killing germs! '}\n"
     ]
    },
    {
     "data": {
      "application/vnd.jupyter.widget-view+json": {
       "model_id": "b2f7e19af0ee442da25566fc1797ee41",
       "version_major": 2,
       "version_minor": 0
      },
      "text/plain": [
       "  0%|          | 0/100 [00:00<?, ?it/s]"
      ]
     },
     "metadata": {},
     "output_type": "display_data"
    },
    {
     "name": "stdout",
     "output_type": "stream",
     "text": [
      "Saving video to videos/2025-08-04-16-12-13_Object.mp4...\n",
      "Moviepy - Building video videos/2025-08-04-16-12-13_Object.mp4.\n",
      "MoviePy - Writing audio in 2025-08-04-16-12-13_ObjectTEMP_MPY_wvf_snd.mp4\n"
     ]
    },
    {
     "name": "stderr",
     "output_type": "stream",
     "text": [
      "                                                                     \r"
     ]
    },
    {
     "name": "stdout",
     "output_type": "stream",
     "text": [
      "MoviePy - Done.\n",
      "Moviepy - Writing video videos/2025-08-04-16-12-13_Object.mp4\n",
      "\n"
     ]
    },
    {
     "name": "stderr",
     "output_type": "stream",
     "text": [
      "                                                                 \r"
     ]
    },
    {
     "name": "stdout",
     "output_type": "stream",
     "text": [
      "Moviepy - Done !\n",
      "Moviepy - video ready videos/2025-08-04-16-12-13_Object.mp4\n",
      "Video saved successfully and temporary file removed.\n",
      "Animal Wolf\n"
     ]
    },
    {
     "name": "stderr",
     "output_type": "stream",
     "text": [
      "The following part of your input was truncated because CLIP can only handle sequences up to 77 tokens: ['best quality , masterpiece , photorealistic , ultra - detailed , sharp focus']\n"
     ]
    },
    {
     "name": "stdout",
     "output_type": "stream",
     "text": [
      "{'prompt': 'A lone wolf, rendered in swirling, iridescent oil paints, stands silhouetted against a sky of melting clocks and lavender clouds. Its fur is composed of blooming orchids, eyes pools of liquid moonlight. Dreamlike, surreal, highly detailed, octane render, 8k, art by Salvador Dali and Remedios Varo.', 'negative_prompt': 'photorealistic, realistic, photograph, blurry, low quality, cropped, human, people, text, signature, watermark, cartoon, anime, dull colors, desaturated, flat lighting, noisy', 'fact': 'Wolves can howl to alert their pack over distances up to 10 miles! A lonely, echoing dream.'}\n"
     ]
    },
    {
     "data": {
      "application/vnd.jupyter.widget-view+json": {
       "model_id": "6da5ed1fce84453aa3e5e5b7bf9e052a",
       "version_major": 2,
       "version_minor": 0
      },
      "text/plain": [
       "  0%|          | 0/100 [00:00<?, ?it/s]"
      ]
     },
     "metadata": {},
     "output_type": "display_data"
    },
    {
     "name": "stdout",
     "output_type": "stream",
     "text": [
      "Saving video to videos/2025-08-04-16-14-03_Animal.mp4...\n",
      "Moviepy - Building video videos/2025-08-04-16-14-03_Animal.mp4.\n",
      "MoviePy - Writing audio in 2025-08-04-16-14-03_AnimalTEMP_MPY_wvf_snd.mp4\n"
     ]
    },
    {
     "name": "stderr",
     "output_type": "stream",
     "text": [
      "                                                                     \r"
     ]
    },
    {
     "name": "stdout",
     "output_type": "stream",
     "text": [
      "MoviePy - Done.\n",
      "Moviepy - Writing video videos/2025-08-04-16-14-03_Animal.mp4\n",
      "\n"
     ]
    },
    {
     "name": "stderr",
     "output_type": "stream",
     "text": [
      "                                                                 \r"
     ]
    },
    {
     "name": "stdout",
     "output_type": "stream",
     "text": [
      "Moviepy - Done !\n",
      "Moviepy - video ready videos/2025-08-04-16-14-03_Animal.mp4\n",
      "Video saved successfully and temporary file removed.\n",
      "Place Antwerp (Belgium)\n"
     ]
    },
    {
     "name": "stderr",
     "output_type": "stream",
     "text": [
      "The following part of your input was truncated because CLIP can only handle sequences up to 77 tokens: [', masterpiece , photorealistic , ultra - detailed , sharp focus']\n"
     ]
    },
    {
     "name": "stdout",
     "output_type": "stream",
     "text": [
      "{'prompt': 'A bustling Antwerp, Belgium, dusk. Cobblestone streets reflect golden lamplight. The Grote Markt is alive with people in period clothing, merchants hawking wares. Flemish Renaissance architecture, rich detail, dramatic lighting, oil painting, canvas texture, warm color palette, inspired by Pieter Bruegel the Elder.', 'negative_prompt': 'photorealistic, modern, digital art, smooth, blurry, low resolution, overly bright, cartoon, anime, futuristic, minimalist, abstract', 'fact': \"Antwerp diamonds account for 84% of the world's cut diamonds! \"}\n"
     ]
    },
    {
     "data": {
      "application/vnd.jupyter.widget-view+json": {
       "model_id": "c74ad628c5b0492aabb5b4ecc4cfe8f3",
       "version_major": 2,
       "version_minor": 0
      },
      "text/plain": [
       "  0%|          | 0/100 [00:00<?, ?it/s]"
      ]
     },
     "metadata": {},
     "output_type": "display_data"
    },
    {
     "name": "stdout",
     "output_type": "stream",
     "text": [
      "Saving video to videos/2025-08-04-16-15-50_Place.mp4...\n",
      "Moviepy - Building video videos/2025-08-04-16-15-50_Place.mp4.\n",
      "MoviePy - Writing audio in 2025-08-04-16-15-50_PlaceTEMP_MPY_wvf_snd.mp4\n"
     ]
    },
    {
     "name": "stderr",
     "output_type": "stream",
     "text": [
      "                                                                     \r"
     ]
    },
    {
     "name": "stdout",
     "output_type": "stream",
     "text": [
      "MoviePy - Done.\n",
      "Moviepy - Writing video videos/2025-08-04-16-15-50_Place.mp4\n",
      "\n"
     ]
    },
    {
     "name": "stderr",
     "output_type": "stream",
     "text": [
      "                                                                 \r"
     ]
    },
    {
     "name": "stdout",
     "output_type": "stream",
     "text": [
      "Moviepy - Done !\n",
      "Moviepy - video ready videos/2025-08-04-16-15-50_Place.mp4\n",
      "Video saved successfully and temporary file removed.\n",
      "Object Chair\n",
      "{'prompt': 'A single, modern, Eames-style chair, rendered in soft, diffused light. Clean white background. Minimalist composition, focus on form and texture. Photorealistic, 8k resolution, octane render. Subtle shadow play.', 'negative_prompt': 'Clutter, people, background details, ornate, busy, low resolution, cartoon, painting, sketch, unrealistic, blurry, text, watermark', 'fact': \"The word 'chair' comes from the Old French 'chaire,' meaning 'seat of authority,' like a bishop's throne.\"}\n"
     ]
    },
    {
     "data": {
      "application/vnd.jupyter.widget-view+json": {
       "model_id": "3a59bacc667e44e0b476cbce9efb77a8",
       "version_major": 2,
       "version_minor": 0
      },
      "text/plain": [
       "  0%|          | 0/100 [00:00<?, ?it/s]"
      ]
     },
     "metadata": {},
     "output_type": "display_data"
    },
    {
     "name": "stdout",
     "output_type": "stream",
     "text": [
      "Saving video to videos/2025-08-04-16-17-31_Object.mp4...\n",
      "Moviepy - Building video videos/2025-08-04-16-17-31_Object.mp4.\n",
      "MoviePy - Writing audio in 2025-08-04-16-17-31_ObjectTEMP_MPY_wvf_snd.mp4\n"
     ]
    },
    {
     "name": "stderr",
     "output_type": "stream",
     "text": [
      "                                                                     \r"
     ]
    },
    {
     "name": "stdout",
     "output_type": "stream",
     "text": [
      "MoviePy - Done.\n",
      "Moviepy - Writing video videos/2025-08-04-16-17-31_Object.mp4\n",
      "\n"
     ]
    },
    {
     "name": "stderr",
     "output_type": "stream",
     "text": [
      "                                                                 \r"
     ]
    },
    {
     "name": "stdout",
     "output_type": "stream",
     "text": [
      "Moviepy - Done !\n",
      "Moviepy - video ready videos/2025-08-04-16-17-31_Object.mp4\n",
      "Video saved successfully and temporary file removed.\n",
      "Celeb The Beatles\n"
     ]
    },
    {
     "name": "stderr",
     "output_type": "stream",
     "text": [
      "The following part of your input was truncated because CLIP can only handle sequences up to 77 tokens: ['and raw energy of their early years . warm color palette , thick brushstrokes , impasto technique . 8 k , highly detailed , masterpiece . , 8 k , best quality , masterpiece , photorealistic , ultra - detailed , sharp focus']\n"
     ]
    },
    {
     "name": "stdout",
     "output_type": "stream",
     "text": [
      "{'prompt': 'A vibrant, oil-on-canvas painting in the style of John Singer Sargent, depicting The Beatles (John Lennon, Paul McCartney, George Harrison, Ringo Starr) mid-performance at the Cavern Club, Liverpool, 1961. Dynamic stage lighting, energetic poses, a hazy, smoky atmosphere. Focus on capturing the youthful exuberance and raw energy of their early years. Warm color palette, thick brushstrokes, impasto technique. 8k, highly detailed, masterpiece.', 'negative_prompt': 'Photorealistic, modern, digital art, CGI, blurry, low resolution, poorly drawn hands, disfigured faces, static pose, sterile, overly clean, dull colors, flat lighting, multiple people, cartoon, anime.', 'fact': \"Did you know? Paul McCartney initially wanted The Beatles to be called 'The Quarrymen,' referencing his childhood home!\"}\n"
     ]
    },
    {
     "data": {
      "application/vnd.jupyter.widget-view+json": {
       "model_id": "34517ef1e93646ac82888af29f601cb8",
       "version_major": 2,
       "version_minor": 0
      },
      "text/plain": [
       "  0%|          | 0/100 [00:00<?, ?it/s]"
      ]
     },
     "metadata": {},
     "output_type": "display_data"
    },
    {
     "name": "stdout",
     "output_type": "stream",
     "text": [
      "Saving video to videos/2025-08-04-16-19-34_Celeb.mp4...\n",
      "Moviepy - Building video videos/2025-08-04-16-19-34_Celeb.mp4.\n",
      "MoviePy - Writing audio in 2025-08-04-16-19-34_CelebTEMP_MPY_wvf_snd.mp4\n"
     ]
    },
    {
     "name": "stderr",
     "output_type": "stream",
     "text": [
      "                                                                     \r"
     ]
    },
    {
     "name": "stdout",
     "output_type": "stream",
     "text": [
      "MoviePy - Done.\n",
      "Moviepy - Writing video videos/2025-08-04-16-19-34_Celeb.mp4\n",
      "\n"
     ]
    },
    {
     "name": "stderr",
     "output_type": "stream",
     "text": [
      "                                                                 \r"
     ]
    },
    {
     "name": "stdout",
     "output_type": "stream",
     "text": [
      "Moviepy - Done !\n",
      "Moviepy - video ready videos/2025-08-04-16-19-34_Celeb.mp4\n",
      "Video saved successfully and temporary file removed.\n",
      "Celeb Pablo Picasso\n",
      "{'prompt': 'Watercolor portrait of Pablo Picasso, age 40, intense gaze, holding a paintbrush, surrounded by swirling colors and abstract shapes reminiscent of Cubism, soft light, loose brushstrokes, expressive, warm palette, vintage paper texture, high detail.', 'negative_prompt': 'photorealistic, hyperrealistic, digital art, 3D render, smooth, sharp focus, symmetrical, perfect anatomy, clean lines, cartoon, low resolution, blurry, plain background.', 'fact': \"Picasso's real name was Pablo Diego Jos Francisco de Paula Juan Nepomuceno Mara de los Remedios Cipriano de la Santsima Trinidad Ruiz y Picasso!\"}\n"
     ]
    },
    {
     "data": {
      "application/vnd.jupyter.widget-view+json": {
       "model_id": "ce825b17046649c3907d73f1db492859",
       "version_major": 2,
       "version_minor": 0
      },
      "text/plain": [
       "  0%|          | 0/100 [00:00<?, ?it/s]"
      ]
     },
     "metadata": {},
     "output_type": "display_data"
    },
    {
     "name": "stdout",
     "output_type": "stream",
     "text": [
      "Saving video to videos/2025-08-04-16-21-15_Celeb.mp4...\n",
      "Moviepy - Building video videos/2025-08-04-16-21-15_Celeb.mp4.\n",
      "MoviePy - Writing audio in 2025-08-04-16-21-15_CelebTEMP_MPY_wvf_snd.mp4\n"
     ]
    },
    {
     "name": "stderr",
     "output_type": "stream",
     "text": [
      "                                                                     \r"
     ]
    },
    {
     "name": "stdout",
     "output_type": "stream",
     "text": [
      "MoviePy - Done.\n",
      "Moviepy - Writing video videos/2025-08-04-16-21-15_Celeb.mp4\n",
      "\n"
     ]
    },
    {
     "name": "stderr",
     "output_type": "stream",
     "text": [
      "                                                                 \r"
     ]
    },
    {
     "name": "stdout",
     "output_type": "stream",
     "text": [
      "Moviepy - Done !\n",
      "Moviepy - video ready videos/2025-08-04-16-21-15_Celeb.mp4\n",
      "Video saved successfully and temporary file removed.\n",
      "Celeb George Clooney\n"
     ]
    },
    {
     "name": "stderr",
     "output_type": "stream",
     "text": [
      "The following part of your input was truncated because CLIP can only handle sequences up to 77 tokens: ['photorealistic , ultra - detailed , sharp focus']\n"
     ]
    },
    {
     "name": "stdout",
     "output_type": "stream",
     "text": [
      "{'prompt': 'George Clooney, distinguished, silver hair, intense gaze, wearing a classic black suit, standing in a dimly lit, opulent library filled with antique books and a globe, cinematic lighting, dramatic shadows, oil painting, thick brushstrokes, warm color palette, Rembrandt lighting, 16th century aesthetic.', 'negative_prompt': 'cartoon, anime, 3d render, photorealistic, plastic, smooth skin, blurry, low resolution, text, watermark, signature, modern, bright colors, oversaturated, poorly drawn hands, distorted features', 'fact': \"George Clooney owns a lake in Italy! Lago di Como is his tranquil escape from Hollywood's hustle.\"}\n"
     ]
    },
    {
     "data": {
      "application/vnd.jupyter.widget-view+json": {
       "model_id": "0163a68b2af44ccab4d253898b6e0c7e",
       "version_major": 2,
       "version_minor": 0
      },
      "text/plain": [
       "  0%|          | 0/100 [00:00<?, ?it/s]"
      ]
     },
     "metadata": {},
     "output_type": "display_data"
    },
    {
     "name": "stdout",
     "output_type": "stream",
     "text": [
      "Saving video to videos/2025-08-04-16-22-57_Celeb.mp4...\n",
      "Moviepy - Building video videos/2025-08-04-16-22-57_Celeb.mp4.\n",
      "MoviePy - Writing audio in 2025-08-04-16-22-57_CelebTEMP_MPY_wvf_snd.mp4\n"
     ]
    },
    {
     "name": "stderr",
     "output_type": "stream",
     "text": [
      "                                                                     \r"
     ]
    },
    {
     "name": "stdout",
     "output_type": "stream",
     "text": [
      "MoviePy - Done.\n",
      "Moviepy - Writing video videos/2025-08-04-16-22-57_Celeb.mp4\n",
      "\n"
     ]
    },
    {
     "name": "stderr",
     "output_type": "stream",
     "text": [
      "                                                                 \r"
     ]
    },
    {
     "name": "stdout",
     "output_type": "stream",
     "text": [
      "Moviepy - Done !\n",
      "Moviepy - video ready videos/2025-08-04-16-22-57_Celeb.mp4\n",
      "Video saved successfully and temporary file removed.\n",
      "Animal Pig\n"
     ]
    },
    {
     "name": "stderr",
     "output_type": "stream",
     "text": [
      "The following part of your input was truncated because CLIP can only handle sequences up to 77 tokens: ['vibrant colors . , 8 k , best quality , masterpiece , photorealistic , ultra - detailed , sharp focus']\n"
     ]
    },
    {
     "name": "stdout",
     "output_type": "stream",
     "text": [
      "{'prompt': \"A hyperrealistic digital painting of a rosy-cheeked piglet, wallowing joyfully in a muddy puddle bathed in dappled sunlight. Lush green foliage and wildflowers surround it. Focus on the texture of the mud, the piglet's curly fur, and a sense of playful contentment. Cinematic lighting, 8k resolution, octane render, vibrant colors.\", 'negative_prompt': 'cartoon, illustration, drawing, sketch, blurry, deformed, unnatural, unrealistic, low resolution, text, watermark, signature, bad anatomy, extra limbs, ugly', 'fact': 'Piglets can swim! They instinctively paddle with their feet, often enjoying a refreshing dip.'}\n"
     ]
    },
    {
     "data": {
      "application/vnd.jupyter.widget-view+json": {
       "model_id": "dafd7be0bcc34f7c93e27c3218f91c20",
       "version_major": 2,
       "version_minor": 0
      },
      "text/plain": [
       "  0%|          | 0/100 [00:00<?, ?it/s]"
      ]
     },
     "metadata": {},
     "output_type": "display_data"
    },
    {
     "name": "stdout",
     "output_type": "stream",
     "text": [
      "Saving video to videos/2025-08-04-16-24-36_Animal.mp4...\n",
      "Moviepy - Building video videos/2025-08-04-16-24-36_Animal.mp4.\n",
      "MoviePy - Writing audio in 2025-08-04-16-24-36_AnimalTEMP_MPY_wvf_snd.mp4\n"
     ]
    },
    {
     "name": "stderr",
     "output_type": "stream",
     "text": [
      "                                                                     \r"
     ]
    },
    {
     "name": "stdout",
     "output_type": "stream",
     "text": [
      "MoviePy - Done.\n",
      "Moviepy - Writing video videos/2025-08-04-16-24-36_Animal.mp4\n",
      "\n"
     ]
    },
    {
     "name": "stderr",
     "output_type": "stream",
     "text": [
      "                                                                 \r"
     ]
    },
    {
     "name": "stdout",
     "output_type": "stream",
     "text": [
      "Moviepy - Done !\n",
      "Moviepy - video ready videos/2025-08-04-16-24-36_Animal.mp4\n",
      "Video saved successfully and temporary file removed.\n",
      "Place Helsinki (Finland)\n"
     ]
    },
    {
     "name": "stderr",
     "output_type": "stream",
     "text": [
      "The following part of your input was truncated because CLIP can only handle sequences up to 77 tokens: ['k , best quality , masterpiece , photorealistic , ultra - detailed , sharp focus']\n"
     ]
    },
    {
     "name": "stdout",
     "output_type": "stream",
     "text": [
      "{'prompt': 'A breathtaking dawn view of Helsinki, Finland. The Helsinki Senate Square bathed in a soft, ethereal golden light. Neoclassical architecture glows, reflections shimmer on the Esplanadi park, a gentle mist hangs over the Baltic Sea. Hyperrealistic, detailed, volumetric lighting, atmospheric perspective, cinematic composition, 8k resolution, photorealistic.', 'negative_prompt': 'blurry, noisy, oversaturated, cartoonish, anime, illustration, painting, sketch, deformed, unrealistic, low resolution, artifacts, people, text, watermark', 'fact': \"Helsinki's 'Sibelius Monument' resembles a giant, abstract organ pipe, honoring the famed Finnish composer.\"}\n"
     ]
    },
    {
     "data": {
      "application/vnd.jupyter.widget-view+json": {
       "model_id": "a0e6bd5ed871435689cb265aeb7e4f8b",
       "version_major": 2,
       "version_minor": 0
      },
      "text/plain": [
       "  0%|          | 0/100 [00:00<?, ?it/s]"
      ]
     },
     "metadata": {},
     "output_type": "display_data"
    },
    {
     "name": "stdout",
     "output_type": "stream",
     "text": [
      "Saving video to videos/2025-08-04-16-26-12_Place.mp4...\n",
      "Moviepy - Building video videos/2025-08-04-16-26-12_Place.mp4.\n",
      "MoviePy - Writing audio in 2025-08-04-16-26-12_PlaceTEMP_MPY_wvf_snd.mp4\n"
     ]
    },
    {
     "name": "stderr",
     "output_type": "stream",
     "text": [
      "                                                                     \r"
     ]
    },
    {
     "name": "stdout",
     "output_type": "stream",
     "text": [
      "MoviePy - Done.\n",
      "Moviepy - Writing video videos/2025-08-04-16-26-12_Place.mp4\n",
      "\n"
     ]
    },
    {
     "name": "stderr",
     "output_type": "stream",
     "text": [
      "                                                                 \r"
     ]
    },
    {
     "name": "stdout",
     "output_type": "stream",
     "text": [
      "Moviepy - Done !\n",
      "Moviepy - video ready videos/2025-08-04-16-26-12_Place.mp4\n",
      "Video saved successfully and temporary file removed.\n",
      "Building Palace of Culture and Science (Poland)\n"
     ]
    },
    {
     "name": "stderr",
     "output_type": "stream",
     "text": [
      "The following part of your input was truncated because CLIP can only handle sequences up to 77 tokens: ['detailed , sharp focus']\n"
     ]
    },
    {
     "name": "stdout",
     "output_type": "stream",
     "text": [
      "{'prompt': 'Hyperrealistic architectural photograph, Palace of Culture and Science, Warsaw, Poland. Dramatic late afternoon lighting, golden hour. Minimalist composition, sharp focus, symmetrical perspective, overcast sky subtly reflecting on the facade. Clean lines, detailed ornamentation. 8k resolution, professional photography.', 'negative_prompt': 'Blurry, distorted, cartoon, painting, sketch, photorealistic, people, crowds, graffiti, vibrant colors, chaotic, night, low resolution, watermark, signature.', 'fact': \"Originally gifted by Stalin, the Palace's spire reaches 237m, making it the tallest structure in Warsaw.\"}\n"
     ]
    },
    {
     "data": {
      "application/vnd.jupyter.widget-view+json": {
       "model_id": "b67e307375ed4119be797acc34e9faad",
       "version_major": 2,
       "version_minor": 0
      },
      "text/plain": [
       "  0%|          | 0/100 [00:00<?, ?it/s]"
      ]
     },
     "metadata": {},
     "output_type": "display_data"
    },
    {
     "name": "stdout",
     "output_type": "stream",
     "text": [
      "Saving video to videos/2025-08-04-16-27-44_Building.mp4...\n",
      "Moviepy - Building video videos/2025-08-04-16-27-44_Building.mp4.\n",
      "MoviePy - Writing audio in 2025-08-04-16-27-44_BuildingTEMP_MPY_wvf_snd.mp4\n"
     ]
    },
    {
     "name": "stderr",
     "output_type": "stream",
     "text": [
      "                                                                     \r"
     ]
    },
    {
     "name": "stdout",
     "output_type": "stream",
     "text": [
      "MoviePy - Done.\n",
      "Moviepy - Writing video videos/2025-08-04-16-27-44_Building.mp4\n",
      "\n"
     ]
    },
    {
     "name": "stderr",
     "output_type": "stream",
     "text": [
      "                                                                 \r"
     ]
    },
    {
     "name": "stdout",
     "output_type": "stream",
     "text": [
      "Moviepy - Done !\n",
      "Moviepy - video ready videos/2025-08-04-16-27-44_Building.mp4\n",
      "Video saved successfully and temporary file removed.\n",
      "Animal Horse\n",
      "{'prompt': 'A majestic, wild Mustang stallion, rearing up on a windswept prairie, sunset light dappling his coat, detailed musculature, flowing mane and tail, watercolor painting, vibrant colors, loose brushstrokes, realistic, atmospheric perspective, detailed eyes.', 'negative_prompt': 'cartoon, sketch, drawing, low quality, blurry, unrealistic, abstract, text, signature, watermark, people, buildings, digital art, smooth, plastic', 'fact': 'Horses can sleep both standing and lying down! Standing sleep prevents them from predators.'}\n"
     ]
    },
    {
     "data": {
      "application/vnd.jupyter.widget-view+json": {
       "model_id": "bbf0e46202d440de9814efe3ba33c3e1",
       "version_major": 2,
       "version_minor": 0
      },
      "text/plain": [
       "  0%|          | 0/100 [00:00<?, ?it/s]"
      ]
     },
     "metadata": {},
     "output_type": "display_data"
    },
    {
     "name": "stderr",
     "output_type": "stream",
     "text": [
      "Potential NSFW content was detected in one or more images. A black image will be returned instead. Try again with a different prompt and/or seed.\n"
     ]
    },
    {
     "name": "stdout",
     "output_type": "stream",
     "text": [
      "Saving video to videos/2025-08-04-16-29-12_Animal.mp4...\n",
      "Moviepy - Building video videos/2025-08-04-16-29-12_Animal.mp4.\n",
      "MoviePy - Writing audio in 2025-08-04-16-29-12_AnimalTEMP_MPY_wvf_snd.mp4\n"
     ]
    },
    {
     "name": "stderr",
     "output_type": "stream",
     "text": [
      "                                                                     \r"
     ]
    },
    {
     "name": "stdout",
     "output_type": "stream",
     "text": [
      "MoviePy - Done.\n",
      "Moviepy - Writing video videos/2025-08-04-16-29-12_Animal.mp4\n",
      "\n"
     ]
    },
    {
     "name": "stderr",
     "output_type": "stream",
     "text": [
      "                                                                 \r"
     ]
    },
    {
     "name": "stdout",
     "output_type": "stream",
     "text": [
      "Moviepy - Done !\n",
      "Moviepy - video ready videos/2025-08-04-16-29-12_Animal.mp4\n",
      "Video saved successfully and temporary file removed.\n",
      "Celeb Jackie Kennedy\n"
     ]
    },
    {
     "name": "stderr",
     "output_type": "stream",
     "text": [
      "The following part of your input was truncated because CLIP can only handle sequences up to 77 tokens: ['and resilience . , 8 k , best quality , masterpiece , photorealistic , ultra - detailed , sharp focus']\n"
     ]
    },
    {
     "name": "stdout",
     "output_type": "stream",
     "text": [
      "{'prompt': 'Cyberpunk Jackie Kennedy, holographic projections of Parisian landmarks flicker across her tailored power suit. Neon pink & electric blue highlights her iconic hairstyle. Rain-slicked streets of Neo-Versailles. Detailed face, dramatic lighting, cinematic, 8k, photorealistic, hyperdetailed, octane render.  Cybernetic enhancements subtly integrated.  Focus on strength and resilience.', 'negative_prompt': 'blurry, deformed, ugly, low resolution, cartoon, anime, bad anatomy, extra limbs, disfigured, grayscale, monochrome, amateur, poorly drawn, simplistic, unrealistic skin, soft focus', 'fact': \"Jackie's 'Jackie O' fragrance was rumored to contain a trace of her perfume, a secret for loyal fans. \"}\n"
     ]
    },
    {
     "data": {
      "application/vnd.jupyter.widget-view+json": {
       "model_id": "c1316c59581445e98718fe65138b9111",
       "version_major": 2,
       "version_minor": 0
      },
      "text/plain": [
       "  0%|          | 0/100 [00:00<?, ?it/s]"
      ]
     },
     "metadata": {},
     "output_type": "display_data"
    },
    {
     "name": "stdout",
     "output_type": "stream",
     "text": [
      "Saving video to videos/2025-08-04-16-30-51_Celeb.mp4...\n",
      "Moviepy - Building video videos/2025-08-04-16-30-51_Celeb.mp4.\n",
      "MoviePy - Writing audio in 2025-08-04-16-30-51_CelebTEMP_MPY_wvf_snd.mp4\n"
     ]
    },
    {
     "name": "stderr",
     "output_type": "stream",
     "text": [
      "                                                                     \r"
     ]
    },
    {
     "name": "stdout",
     "output_type": "stream",
     "text": [
      "MoviePy - Done.\n",
      "Moviepy - Writing video videos/2025-08-04-16-30-51_Celeb.mp4\n",
      "\n"
     ]
    },
    {
     "name": "stderr",
     "output_type": "stream",
     "text": [
      "                                                                 \r"
     ]
    },
    {
     "name": "stdout",
     "output_type": "stream",
     "text": [
      "Moviepy - Done !\n",
      "Moviepy - video ready videos/2025-08-04-16-30-51_Celeb.mp4\n",
      "Video saved successfully and temporary file removed.\n",
      "Building Zayed National Museum (UAE) \n"
     ]
    },
    {
     "name": "stderr",
     "output_type": "stream",
     "text": [
      "The following part of your input was truncated because CLIP can only handle sequences up to 77 tokens: ['best quality , masterpiece , photorealistic , ultra - detailed , sharp focus']\n"
     ]
    },
    {
     "name": "stdout",
     "output_type": "stream",
     "text": [
      "{'prompt': 'Vibrant digital painting of the Zayed National Museum, Abu Dhabi, UAE. Dramatic lighting highlighting the flowing, sand-inspired architecture. Golden hour, intricate details of the stainless steel cladding reflecting the sky. Lush desert landscape surrounding the museum, vibrant turquoise water in the distance. Hyperrealistic, 8k, octane render, Artstation trending.', 'negative_prompt': 'blurry, low resolution, poorly drawn, unrealistic, cartoonish, text, watermark, signature, noise, artifacts, overexposed, underexposed, dull colors, simple background', 'fact': \"The museum's design mirrors the nomadic traditions of the UAE, symbolizing movement & connection to the desert.\"}\n"
     ]
    },
    {
     "data": {
      "application/vnd.jupyter.widget-view+json": {
       "model_id": "514ca3e2fe60472a8257662ba613489a",
       "version_major": 2,
       "version_minor": 0
      },
      "text/plain": [
       "  0%|          | 0/100 [00:00<?, ?it/s]"
      ]
     },
     "metadata": {},
     "output_type": "display_data"
    },
    {
     "name": "stdout",
     "output_type": "stream",
     "text": [
      "Saving video to videos/2025-08-04-16-32-28_Building.mp4...\n",
      "Moviepy - Building video videos/2025-08-04-16-32-28_Building.mp4.\n",
      "MoviePy - Writing audio in 2025-08-04-16-32-28_BuildingTEMP_MPY_wvf_snd.mp4\n"
     ]
    },
    {
     "name": "stderr",
     "output_type": "stream",
     "text": [
      "                                                                     \r"
     ]
    },
    {
     "name": "stdout",
     "output_type": "stream",
     "text": [
      "MoviePy - Done.\n",
      "Moviepy - Writing video videos/2025-08-04-16-32-28_Building.mp4\n",
      "\n"
     ]
    },
    {
     "name": "stderr",
     "output_type": "stream",
     "text": [
      "                                                                 \r"
     ]
    },
    {
     "name": "stdout",
     "output_type": "stream",
     "text": [
      "Moviepy - Done !\n",
      "Moviepy - video ready videos/2025-08-04-16-32-28_Building.mp4\n",
      "Video saved successfully and temporary file removed.\n",
      "Place Austin (United States)\n"
     ]
    },
    {
     "name": "stderr",
     "output_type": "stream",
     "text": [
      "The following part of your input was truncated because CLIP can only handle sequences up to 77 tokens: [', ultra - detailed , sharp focus']\n"
     ]
    },
    {
     "name": "stdout",
     "output_type": "stream",
     "text": [
      "{'prompt': 'A luminous Austin, Texas, rendered in iridescent watercolor, skyscrapers melt into blooming bluebonnet fields. A lone, oversized cowboy boot sprouts a miniature, glowing Barton Springs pool. Dream logic, surreal landscape, soft focus, ethereal light, hyperdetailed, vibrant colors, Salvador Dali influence.', 'negative_prompt': 'photorealistic, realistic, photograph, grainy, noisy, blurry, low quality, text, people, sharp focus, harsh lighting, concrete, mundane, dull colors, desaturated, daytime', 'fact': \"Austin's bats, numbering over 1.5 million, famously roost under the Congress Avenue Bridge each summer!\"}\n"
     ]
    },
    {
     "data": {
      "application/vnd.jupyter.widget-view+json": {
       "model_id": "6c029327928b4b0685dab82e0bc3d83e",
       "version_major": 2,
       "version_minor": 0
      },
      "text/plain": [
       "  0%|          | 0/100 [00:00<?, ?it/s]"
      ]
     },
     "metadata": {},
     "output_type": "display_data"
    },
    {
     "name": "stdout",
     "output_type": "stream",
     "text": [
      "Saving video to videos/2025-08-04-16-34-04_Place.mp4...\n",
      "Moviepy - Building video videos/2025-08-04-16-34-04_Place.mp4.\n",
      "MoviePy - Writing audio in 2025-08-04-16-34-04_PlaceTEMP_MPY_wvf_snd.mp4\n"
     ]
    },
    {
     "name": "stderr",
     "output_type": "stream",
     "text": [
      "                                                                     \r"
     ]
    },
    {
     "name": "stdout",
     "output_type": "stream",
     "text": [
      "MoviePy - Done.\n",
      "Moviepy - Writing video videos/2025-08-04-16-34-04_Place.mp4\n",
      "\n"
     ]
    },
    {
     "name": "stderr",
     "output_type": "stream",
     "text": [
      "                                                                 \r"
     ]
    },
    {
     "name": "stdout",
     "output_type": "stream",
     "text": [
      "Moviepy - Done !\n",
      "Moviepy - video ready videos/2025-08-04-16-34-04_Place.mp4\n",
      "Video saved successfully and temporary file removed.\n",
      "Animal Elephant\n",
      "{'prompt': 'A majestic African elephant, bathed in soft golden light, standing in a vast savanna. Minimalist composition, clean lines, photorealistic, 8k, cinematic lighting, shallow depth of field, bokeh.', 'negative_prompt': 'cartoon, painting, drawing, sketch, blurry, noisy, watermark, signature, text, multiple elephants, cluttered background, vibrant colors, unrealistic', 'fact': 'Elephants communicate through infrasound, vibrations felt through the ground, often traveling for miles!'}\n"
     ]
    },
    {
     "data": {
      "application/vnd.jupyter.widget-view+json": {
       "model_id": "17c83f93a9e9442086f52c4190f7556b",
       "version_major": 2,
       "version_minor": 0
      },
      "text/plain": [
       "  0%|          | 0/100 [00:00<?, ?it/s]"
      ]
     },
     "metadata": {},
     "output_type": "display_data"
    },
    {
     "name": "stdout",
     "output_type": "stream",
     "text": [
      "Saving video to videos/2025-08-04-16-35-31_Animal.mp4...\n",
      "Moviepy - Building video videos/2025-08-04-16-35-31_Animal.mp4.\n",
      "MoviePy - Writing audio in 2025-08-04-16-35-31_AnimalTEMP_MPY_wvf_snd.mp4\n"
     ]
    },
    {
     "name": "stderr",
     "output_type": "stream",
     "text": [
      "                                                                     \r"
     ]
    },
    {
     "name": "stdout",
     "output_type": "stream",
     "text": [
      "MoviePy - Done.\n",
      "Moviepy - Writing video videos/2025-08-04-16-35-31_Animal.mp4\n",
      "\n"
     ]
    },
    {
     "name": "stderr",
     "output_type": "stream",
     "text": [
      "                                                                 \r"
     ]
    },
    {
     "name": "stdout",
     "output_type": "stream",
     "text": [
      "Moviepy - Done !\n",
      "Moviepy - video ready videos/2025-08-04-16-35-31_Animal.mp4\n",
      "Video saved successfully and temporary file removed.\n",
      "Place Milan (Italy)\n"
     ]
    },
    {
     "name": "stderr",
     "output_type": "stream",
     "text": [
      "The following part of your input was truncated because CLIP can only handle sequences up to 77 tokens: ['masterpiece , photorealistic , ultra - detailed , sharp focus']\n"
     ]
    },
    {
     "name": "stdout",
     "output_type": "stream",
     "text": [
      "{'prompt': 'Watercolor painting of Milan, Italy. Focus on the Duomo di Milano bathed in golden hour light, with blurred figures strolling through the Piazza del Duomo. Include subtle reflections in the paving stones. Soft focus, impressionistic style, warm color palette, detailed architecture, peaceful atmosphere. 8k resolution.', 'negative_prompt': 'photorealistic, hyperrealistic, sharp focus, noisy, blurry, low resolution, illustration, digital art, cartoon, abstract, futuristic, dark, gloomy, monochrome, overexposed', 'fact': \"Milan's Galleria Vittorio Emanuele II, a stunning glass-covered arcade, is larger than London's Burlington Arcade! \"}\n"
     ]
    },
    {
     "data": {
      "application/vnd.jupyter.widget-view+json": {
       "model_id": "de9ea5a5db844632954189fa3eaec1f4",
       "version_major": 2,
       "version_minor": 0
      },
      "text/plain": [
       "  0%|          | 0/100 [00:00<?, ?it/s]"
      ]
     },
     "metadata": {},
     "output_type": "display_data"
    },
    {
     "name": "stdout",
     "output_type": "stream",
     "text": [
      "Saving video to videos/2025-08-04-16-37-08_Place.mp4...\n",
      "Moviepy - Building video videos/2025-08-04-16-37-08_Place.mp4.\n",
      "MoviePy - Writing audio in 2025-08-04-16-37-08_PlaceTEMP_MPY_wvf_snd.mp4\n"
     ]
    },
    {
     "name": "stderr",
     "output_type": "stream",
     "text": [
      "                                                                     \r"
     ]
    },
    {
     "name": "stdout",
     "output_type": "stream",
     "text": [
      "MoviePy - Done.\n",
      "Moviepy - Writing video videos/2025-08-04-16-37-08_Place.mp4\n",
      "\n"
     ]
    },
    {
     "name": "stderr",
     "output_type": "stream",
     "text": [
      "                                                                 \r"
     ]
    },
    {
     "name": "stdout",
     "output_type": "stream",
     "text": [
      "Moviepy - Done !\n",
      "Moviepy - video ready videos/2025-08-04-16-37-08_Place.mp4\n",
      "Video saved successfully and temporary file removed.\n",
      "Animal Octopus\n"
     ]
    },
    {
     "name": "stderr",
     "output_type": "stream",
     "text": [
      "The following part of your input was truncated because CLIP can only handle sequences up to 77 tokens: ['detailed , sharp focus']\n"
     ]
    },
    {
     "name": "stdout",
     "output_type": "stream",
     "text": [
      "{'prompt': 'A highly detailed, photorealistic octopus gracefully gliding through a bioluminescent coral reef. Soft, diffused lighting, deep blues and greens, intricate tentacle textures, macro detail. Minimalist composition, clean background. 8k resolution, volumetric lighting, cinematic.', 'negative_prompt': 'cartoon, illustration, painting, drawing, sketch, blurry, noisy, low resolution, deformed, human, people, text, watermark, signature, artifacts, unrealistic, overly bright', 'fact': 'Octopuses have three hearts! Two pump blood through their gills, while one circulates it to the rest of their body. '}\n"
     ]
    },
    {
     "data": {
      "application/vnd.jupyter.widget-view+json": {
       "model_id": "107a5c8c3ccf469990af5048032b5a7e",
       "version_major": 2,
       "version_minor": 0
      },
      "text/plain": [
       "  0%|          | 0/100 [00:00<?, ?it/s]"
      ]
     },
     "metadata": {},
     "output_type": "display_data"
    },
    {
     "name": "stdout",
     "output_type": "stream",
     "text": [
      "Saving video to videos/2025-08-04-16-38-40_Animal.mp4...\n",
      "Moviepy - Building video videos/2025-08-04-16-38-40_Animal.mp4.\n",
      "MoviePy - Writing audio in 2025-08-04-16-38-40_AnimalTEMP_MPY_wvf_snd.mp4\n"
     ]
    },
    {
     "name": "stderr",
     "output_type": "stream",
     "text": [
      "                                                                     \r"
     ]
    },
    {
     "name": "stdout",
     "output_type": "stream",
     "text": [
      "MoviePy - Done.\n",
      "Moviepy - Writing video videos/2025-08-04-16-38-40_Animal.mp4\n",
      "\n"
     ]
    },
    {
     "name": "stderr",
     "output_type": "stream",
     "text": [
      "                                                                 \r"
     ]
    },
    {
     "name": "stdout",
     "output_type": "stream",
     "text": [
      "Moviepy - Done !\n",
      "Moviepy - video ready videos/2025-08-04-16-38-40_Animal.mp4\n",
      "Video saved successfully and temporary file removed.\n",
      "Celeb Pope Francis\n",
      "{'prompt': 'Watercolor portrait of Pope Francis, contemplative expression, soft lighting, warm color palette, flowing robes, Vatican City background blurred, intricate details on papal ring, gentle brushstrokes, ethereal atmosphere, focus on kindness and humility. Style of Agnes Cecile.', 'negative_prompt': 'photorealistic, harsh lighting, digital art, sharp focus, modern clothing, overly detailed background, political imagery, aggressive expression, low resolution, signature, text, watermark', 'fact': 'Francis chose his name in honor of St. Francis of Assisi, known for his peace advocacy & love for nature.'}\n"
     ]
    },
    {
     "data": {
      "application/vnd.jupyter.widget-view+json": {
       "model_id": "16272e1201e04cd2b72da8ee9a201dfd",
       "version_major": 2,
       "version_minor": 0
      },
      "text/plain": [
       "  0%|          | 0/100 [00:00<?, ?it/s]"
      ]
     },
     "metadata": {},
     "output_type": "display_data"
    },
    {
     "name": "stdout",
     "output_type": "stream",
     "text": [
      "Saving video to videos/2025-08-04-16-40-11_Celeb.mp4...\n",
      "Moviepy - Building video videos/2025-08-04-16-40-11_Celeb.mp4.\n",
      "MoviePy - Writing audio in 2025-08-04-16-40-11_CelebTEMP_MPY_wvf_snd.mp4\n"
     ]
    },
    {
     "name": "stderr",
     "output_type": "stream",
     "text": [
      "                                                                     \r"
     ]
    },
    {
     "name": "stdout",
     "output_type": "stream",
     "text": [
      "MoviePy - Done.\n",
      "Moviepy - Writing video videos/2025-08-04-16-40-11_Celeb.mp4\n",
      "\n"
     ]
    },
    {
     "name": "stderr",
     "output_type": "stream",
     "text": [
      "                                                                 \r"
     ]
    },
    {
     "name": "stdout",
     "output_type": "stream",
     "text": [
      "Moviepy - Done !\n",
      "Moviepy - video ready videos/2025-08-04-16-40-11_Celeb.mp4\n",
      "Video saved successfully and temporary file removed.\n",
      "Place Sydney (Australia)\n"
     ]
    },
    {
     "name": "stderr",
     "output_type": "stream",
     "text": [
      "The following part of your input was truncated because CLIP can only handle sequences up to 77 tokens: ['realistic , ultra - detailed , sharp focus']\n"
     ]
    },
    {
     "name": "stdout",
     "output_type": "stream",
     "text": [
      "{'prompt': 'A bioluminescent Sydney Opera House, melting into a coral reef cityscape, populated by clockwork seagulls and weeping eucalyptus trees. Dreamlike, surrealist painting, hyperdetailed, volumetric lighting, iridescent colours, dream logic, art by Salvador Dali and Zdzisaw Beksiski.', 'negative_prompt': 'photorealistic, realistic, mundane, dull, grey, monochrome, blurry, low quality, people, text, signature, watermark, harsh lighting, daytime', 'fact': \"Sydney's Harbour Bridge was once painted entirely pink for a promotional event in 1998!\"}\n"
     ]
    },
    {
     "data": {
      "application/vnd.jupyter.widget-view+json": {
       "model_id": "e6040de8b4314ab58afb8494ad238f23",
       "version_major": 2,
       "version_minor": 0
      },
      "text/plain": [
       "  0%|          | 0/100 [00:00<?, ?it/s]"
      ]
     },
     "metadata": {},
     "output_type": "display_data"
    },
    {
     "name": "stdout",
     "output_type": "stream",
     "text": [
      "Saving video to videos/2025-08-04-16-41-42_Place.mp4...\n",
      "Moviepy - Building video videos/2025-08-04-16-41-42_Place.mp4.\n",
      "MoviePy - Writing audio in 2025-08-04-16-41-42_PlaceTEMP_MPY_wvf_snd.mp4\n"
     ]
    },
    {
     "name": "stderr",
     "output_type": "stream",
     "text": [
      "                                                                     \r"
     ]
    },
    {
     "name": "stdout",
     "output_type": "stream",
     "text": [
      "MoviePy - Done.\n",
      "Moviepy - Writing video videos/2025-08-04-16-41-42_Place.mp4\n",
      "\n"
     ]
    },
    {
     "name": "stderr",
     "output_type": "stream",
     "text": [
      "                                                                 \r"
     ]
    },
    {
     "name": "stdout",
     "output_type": "stream",
     "text": [
      "Moviepy - Done !\n",
      "Moviepy - video ready videos/2025-08-04-16-41-42_Place.mp4\n",
      "Video saved successfully and temporary file removed.\n",
      "Animal Komodo dragon\n"
     ]
    },
    {
     "name": "stderr",
     "output_type": "stream",
     "text": [
      "The following part of your input was truncated because CLIP can only handle sequences up to 77 tokens: ['quality , masterpiece , photorealistic , ultra - detailed , sharp focus']\n"
     ]
    },
    {
     "name": "stdout",
     "output_type": "stream",
     "text": [
      "{'prompt': 'A colossal Komodo dragon, scales shimmering emerald and obsidian, poised on a volcanic outcrop overlooking a dense Indonesian jungle. Dramatic lighting, warm sunset hues, highly detailed, painterly oil-on-canvas texture, brushstrokes visible, atmospheric perspective, art by Rembrandt and Zdzisaw Beksiski.', 'negative_prompt': 'photorealistic, digital art, smooth, blurry, cartoon, illustration, 3d render, low quality, artifacts, watermark, text, signature, people, human', 'fact': 'Komodo dragons can smell blood from up to 9km away! Their keen sense helps them find carrion.'}\n"
     ]
    },
    {
     "data": {
      "application/vnd.jupyter.widget-view+json": {
       "model_id": "4bd80280d74a4c7e835b7287a876ebf1",
       "version_major": 2,
       "version_minor": 0
      },
      "text/plain": [
       "  0%|          | 0/100 [00:00<?, ?it/s]"
      ]
     },
     "metadata": {},
     "output_type": "display_data"
    },
    {
     "name": "stdout",
     "output_type": "stream",
     "text": [
      "Saving video to videos/2025-08-04-16-43-15_Animal.mp4...\n",
      "Moviepy - Building video videos/2025-08-04-16-43-15_Animal.mp4.\n",
      "MoviePy - Writing audio in 2025-08-04-16-43-15_AnimalTEMP_MPY_wvf_snd.mp4\n"
     ]
    },
    {
     "name": "stderr",
     "output_type": "stream",
     "text": [
      "                                                                     \r"
     ]
    },
    {
     "name": "stdout",
     "output_type": "stream",
     "text": [
      "MoviePy - Done.\n",
      "Moviepy - Writing video videos/2025-08-04-16-43-15_Animal.mp4\n",
      "\n"
     ]
    },
    {
     "name": "stderr",
     "output_type": "stream",
     "text": [
      "                                                                 \r"
     ]
    },
    {
     "name": "stdout",
     "output_type": "stream",
     "text": [
      "Moviepy - Done !\n",
      "Moviepy - video ready videos/2025-08-04-16-43-15_Animal.mp4\n",
      "Video saved successfully and temporary file removed.\n",
      "Place London (United Kingdom)\n"
     ]
    },
    {
     "name": "stderr",
     "output_type": "stream",
     "text": [
      "The following part of your input was truncated because CLIP can only handle sequences up to 77 tokens: ['atmospheric , photorealistic . , 8 k , best quality , masterpiece , photorealistic , ultra - detailed , sharp focus']\n"
     ]
    },
    {
     "name": "stdout",
     "output_type": "stream",
     "text": [
      "{'prompt': 'A breathtaking nighttime view of London, UK, bathed in the ethereal glow of a full moon. The Tower Bridge is dramatically silhouetted against the lunar light, reflecting in the dark, swirling Thames. Rain-slicked cobblestones glisten, with warm light spilling from pub windows. Hyperrealistic, cinematic lighting, 8k, detailed, atmospheric, photorealistic.', 'negative_prompt': 'cartoon, anime, painting, drawing, sketch, blurry, noisy, low resolution, overexposed, underexposed, daytime, sunny, people, crowds, text, signature, watermark, unrealistic, flat', 'fact': \"Did you know? Wren's St Paul's Cathedral was rebuilt after the Great Fire, opening in 1676!\"}\n"
     ]
    },
    {
     "data": {
      "application/vnd.jupyter.widget-view+json": {
       "model_id": "a6878d0569254f91817b21a574d1cce2",
       "version_major": 2,
       "version_minor": 0
      },
      "text/plain": [
       "  0%|          | 0/100 [00:00<?, ?it/s]"
      ]
     },
     "metadata": {},
     "output_type": "display_data"
    },
    {
     "name": "stdout",
     "output_type": "stream",
     "text": [
      "Saving video to videos/2025-08-04-16-44-55_Place.mp4...\n",
      "Moviepy - Building video videos/2025-08-04-16-44-55_Place.mp4.\n",
      "MoviePy - Writing audio in 2025-08-04-16-44-55_PlaceTEMP_MPY_wvf_snd.mp4\n"
     ]
    },
    {
     "name": "stderr",
     "output_type": "stream",
     "text": [
      "                                                                     \r"
     ]
    },
    {
     "name": "stdout",
     "output_type": "stream",
     "text": [
      "MoviePy - Done.\n",
      "Moviepy - Writing video videos/2025-08-04-16-44-55_Place.mp4\n",
      "\n"
     ]
    },
    {
     "name": "stderr",
     "output_type": "stream",
     "text": [
      "                                                                 \r"
     ]
    },
    {
     "name": "stdout",
     "output_type": "stream",
     "text": [
      "Moviepy - Done !\n",
      "Moviepy - video ready videos/2025-08-04-16-44-55_Place.mp4\n",
      "Video saved successfully and temporary file removed.\n",
      "Animal Penguin\n"
     ]
    },
    {
     "name": "stderr",
     "output_type": "stream",
     "text": [
      "The following part of your input was truncated because CLIP can only handle sequences up to 77 tokens: ['k resolution , photorealistic . , 8 k , best quality , masterpiece , photorealistic , ultra - detailed , sharp focus']\n"
     ]
    },
    {
     "name": "stdout",
     "output_type": "stream",
     "text": [
      "{'prompt': \"A regal Emperor Penguin, standing proud on a vast, icy plain under the luminous glow of a full moon. The scene is hyperrealistic, with intricate detail on the penguin's feathers, reflecting the moonlight. Snow drifts are sculpted by wind, and the background is a subtly purple-tinged, star-dusted night sky. Cinematic lighting, 8k resolution, photorealistic.\", 'negative_prompt': 'cartoon, drawing, sketch, painting, blurry, deformed, human, people, text, watermark, signature, low resolution, oversaturated, unrealistic, poorly drawn', 'fact': 'Emperor Penguins can hold their breath for over 20 minutes, crucial for hunting in frigid waters!'}\n"
     ]
    },
    {
     "data": {
      "application/vnd.jupyter.widget-view+json": {
       "model_id": "1b32bbf0a73f42eda512d88f835aac2a",
       "version_major": 2,
       "version_minor": 0
      },
      "text/plain": [
       "  0%|          | 0/100 [00:00<?, ?it/s]"
      ]
     },
     "metadata": {},
     "output_type": "display_data"
    },
    {
     "name": "stdout",
     "output_type": "stream",
     "text": [
      "Saving video to videos/2025-08-04-16-46-32_Animal.mp4...\n",
      "Moviepy - Building video videos/2025-08-04-16-46-32_Animal.mp4.\n",
      "MoviePy - Writing audio in 2025-08-04-16-46-32_AnimalTEMP_MPY_wvf_snd.mp4\n"
     ]
    },
    {
     "name": "stderr",
     "output_type": "stream",
     "text": [
      "                                                                     \r"
     ]
    },
    {
     "name": "stdout",
     "output_type": "stream",
     "text": [
      "MoviePy - Done.\n",
      "Moviepy - Writing video videos/2025-08-04-16-46-32_Animal.mp4\n",
      "\n"
     ]
    },
    {
     "name": "stderr",
     "output_type": "stream",
     "text": [
      "                                                                 \r"
     ]
    },
    {
     "name": "stdout",
     "output_type": "stream",
     "text": [
      "Moviepy - Done !\n",
      "Moviepy - video ready videos/2025-08-04-16-46-32_Animal.mp4\n",
      "Video saved successfully and temporary file removed.\n",
      "Celeb Agatha Christie\n"
     ]
    },
    {
     "name": "stderr",
     "output_type": "stream",
     "text": [
      "The following part of your input was truncated because CLIP can only handle sequences up to 77 tokens: ['photorealistic , ultra - detailed , sharp focus']\n"
     ]
    },
    {
     "name": "stdout",
     "output_type": "stream",
     "text": [
      "{'prompt': 'Agatha Christie, portrait, dawn light, ethereal glow, antique library background, wearing a 1930s dress, intelligent gaze, subtle smile, photorealistic, 8k, detailed face, volumetric lighting, cinematic, golden hour, soft focus, reminiscent of a vintage photograph, Art Deco influences.', 'negative_prompt': 'cartoon, anime, illustration, painting, drawing, blurry, deformed, disfigured, ugly, text, watermark, signature, modern clothing, vibrant colors, oversaturated, unrealistic, bad anatomy, extra limbs, low resolution', 'fact': \"Agatha Christie's real first name was Agatha, but she always preferred to be called Amy! \"}\n"
     ]
    },
    {
     "data": {
      "application/vnd.jupyter.widget-view+json": {
       "model_id": "9b10c0c359b64759860cbce3f83c6e2b",
       "version_major": 2,
       "version_minor": 0
      },
      "text/plain": [
       "  0%|          | 0/100 [00:00<?, ?it/s]"
      ]
     },
     "metadata": {},
     "output_type": "display_data"
    },
    {
     "name": "stdout",
     "output_type": "stream",
     "text": [
      "Saving video to videos/2025-08-04-16-48-09_Celeb.mp4...\n",
      "Moviepy - Building video videos/2025-08-04-16-48-09_Celeb.mp4.\n",
      "MoviePy - Writing audio in 2025-08-04-16-48-09_CelebTEMP_MPY_wvf_snd.mp4\n"
     ]
    },
    {
     "name": "stderr",
     "output_type": "stream",
     "text": [
      "                                                                     \r"
     ]
    },
    {
     "name": "stdout",
     "output_type": "stream",
     "text": [
      "MoviePy - Done.\n",
      "Moviepy - Writing video videos/2025-08-04-16-48-09_Celeb.mp4\n",
      "\n"
     ]
    },
    {
     "name": "stderr",
     "output_type": "stream",
     "text": [
      "                                                                 \r"
     ]
    },
    {
     "name": "stdout",
     "output_type": "stream",
     "text": [
      "Moviepy - Done !\n",
      "Moviepy - video ready videos/2025-08-04-16-48-09_Celeb.mp4\n",
      "Video saved successfully and temporary file removed.\n",
      "Place Istanbul (Turkey)\n"
     ]
    },
    {
     "name": "stderr",
     "output_type": "stream",
     "text": [
      "The following part of your input was truncated because CLIP can only handle sequences up to 77 tokens: ['quality , masterpiece , photorealistic , ultra - detailed , sharp focus']\n"
     ]
    },
    {
     "name": "stdout",
     "output_type": "stream",
     "text": [
      "{'prompt': 'Vibrant digital painting of Istanbul, Turkey. Golden hour light reflecting off the Hagia Sophia and Blue Mosque. A bustling marketplace scene with colorful textiles, spices, and people in traditional clothing. Detailed architecture, intricate patterns, warm color palette, photorealistic, trending on Artstation, 8k, volumetric lighting, cinematic.', 'negative_prompt': 'blurry, low resolution, ugly, deformed, cartoon, anime, text, watermark, signature, bad anatomy, unnatural colors, oversaturated, noisy, greyscale, monochrome, unrealistic', 'fact': 'Istanbul straddles two continents: Europe & Asia! Its official name changed from Constantinople to Istanbul in 1930.'}\n"
     ]
    },
    {
     "data": {
      "application/vnd.jupyter.widget-view+json": {
       "model_id": "829620548bb94728b36e96634da284c2",
       "version_major": 2,
       "version_minor": 0
      },
      "text/plain": [
       "  0%|          | 0/100 [00:00<?, ?it/s]"
      ]
     },
     "metadata": {},
     "output_type": "display_data"
    },
    {
     "name": "stdout",
     "output_type": "stream",
     "text": [
      "Saving video to videos/2025-08-04-16-49-44_Place.mp4...\n",
      "Moviepy - Building video videos/2025-08-04-16-49-44_Place.mp4.\n",
      "MoviePy - Writing audio in 2025-08-04-16-49-44_PlaceTEMP_MPY_wvf_snd.mp4\n"
     ]
    },
    {
     "name": "stderr",
     "output_type": "stream",
     "text": [
      "                                                                     \r"
     ]
    },
    {
     "name": "stdout",
     "output_type": "stream",
     "text": [
      "MoviePy - Done.\n",
      "Moviepy - Writing video videos/2025-08-04-16-49-44_Place.mp4\n",
      "\n"
     ]
    },
    {
     "name": "stderr",
     "output_type": "stream",
     "text": [
      "                                                                 \r"
     ]
    },
    {
     "name": "stdout",
     "output_type": "stream",
     "text": [
      "Moviepy - Done !\n",
      "Moviepy - video ready videos/2025-08-04-16-49-44_Place.mp4\n",
      "Video saved successfully and temporary file removed.\n",
      "Celeb Socrates\n"
     ]
    },
    {
     "name": "stderr",
     "output_type": "stream",
     "text": [
      "The following part of your input was truncated because CLIP can only handle sequences up to 77 tokens: ['inspired by rembrandt and greg rutkowski , warm color palette , dramatic lighting , high detail , 8 k . , 8 k , best quality , masterpiece , photorealistic , ultra - detailed , sharp focus']\n"
     ]
    },
    {
     "name": "stdout",
     "output_type": "stream",
     "text": [
      "{'prompt': 'A vibrant digital painting depicting Socrates, age 70, seated in the Athenian agora, surrounded by eager students. He wears a simple, worn tunic and sandals. His face is weathered, with a thoughtful, slightly amused expression. Sunlight dapples through olive trees, highlighting the intensity of his gaze. Style: Hyperrealistic digital painting, inspired by Rembrandt and Greg Rutkowski, warm color palette, dramatic lighting, high detail, 8k.', 'negative_prompt': 'cartoon, anime, photorealistic, blurry, low resolution, deformed, unrealistic, overly smooth, text, watermark, signature, modern clothing, symmetrical face, bad anatomy, poorly drawn hands', 'fact': 'Socrates famously claimed he knew nothing, a strategy to encourage questioning & critical thinking. #philosophy'}\n"
     ]
    },
    {
     "data": {
      "application/vnd.jupyter.widget-view+json": {
       "model_id": "5ce4c03b1b284222b9aa35e7e9e00c11",
       "version_major": 2,
       "version_minor": 0
      },
      "text/plain": [
       "  0%|          | 0/100 [00:00<?, ?it/s]"
      ]
     },
     "metadata": {},
     "output_type": "display_data"
    },
    {
     "name": "stdout",
     "output_type": "stream",
     "text": [
      "Saving video to videos/2025-08-04-16-51-24_Celeb.mp4...\n",
      "Moviepy - Building video videos/2025-08-04-16-51-24_Celeb.mp4.\n",
      "MoviePy - Writing audio in 2025-08-04-16-51-24_CelebTEMP_MPY_wvf_snd.mp4\n"
     ]
    },
    {
     "name": "stderr",
     "output_type": "stream",
     "text": [
      "                                                                     \r"
     ]
    },
    {
     "name": "stdout",
     "output_type": "stream",
     "text": [
      "MoviePy - Done.\n",
      "Moviepy - Writing video videos/2025-08-04-16-51-24_Celeb.mp4\n",
      "\n"
     ]
    },
    {
     "name": "stderr",
     "output_type": "stream",
     "text": [
      "                                                                 \r"
     ]
    },
    {
     "name": "stdout",
     "output_type": "stream",
     "text": [
      "Moviepy - Done !\n",
      "Moviepy - video ready videos/2025-08-04-16-51-24_Celeb.mp4\n",
      "Video saved successfully and temporary file removed.\n",
      "Object Cooker\n"
     ]
    },
    {
     "name": "stderr",
     "output_type": "stream",
     "text": [
      "The following part of your input was truncated because CLIP can only handle sequences up to 77 tokens: [', sharp focus']\n"
     ]
    },
    {
     "name": "stdout",
     "output_type": "stream",
     "text": [
      "{'prompt': 'A colossal, porcelain cooker, blooming with phosphorescent fungi and whispering forgotten recipes. Its lid is a swirling nebula, reflecting the faces of long-lost chefs. Hyperdetailed, dreamlike, surrealism, volumetric lighting, octane render, 8k, cinematic.', 'negative_prompt': 'blurry, noisy, low resolution, realistic, photograph, mundane, kitchen, stainless steel, modern, simple, human figures, cartoon', 'fact': \"Cookers sometimes 'remember' the tastes of dishes prepared within, faintly echoing in their warmth.\"}\n"
     ]
    },
    {
     "data": {
      "application/vnd.jupyter.widget-view+json": {
       "model_id": "6117478a4c2f49b4a403d8d798b7789f",
       "version_major": 2,
       "version_minor": 0
      },
      "text/plain": [
       "  0%|          | 0/100 [00:00<?, ?it/s]"
      ]
     },
     "metadata": {},
     "output_type": "display_data"
    },
    {
     "name": "stdout",
     "output_type": "stream",
     "text": [
      "Saving video to videos/2025-08-04-16-52-53_Object.mp4...\n",
      "Moviepy - Building video videos/2025-08-04-16-52-53_Object.mp4.\n",
      "MoviePy - Writing audio in 2025-08-04-16-52-53_ObjectTEMP_MPY_wvf_snd.mp4\n"
     ]
    },
    {
     "name": "stderr",
     "output_type": "stream",
     "text": [
      "                                                                     \r"
     ]
    },
    {
     "name": "stdout",
     "output_type": "stream",
     "text": [
      "MoviePy - Done.\n",
      "Moviepy - Writing video videos/2025-08-04-16-52-53_Object.mp4\n",
      "\n"
     ]
    },
    {
     "name": "stderr",
     "output_type": "stream",
     "text": [
      "                                                                 \r"
     ]
    },
    {
     "name": "stdout",
     "output_type": "stream",
     "text": [
      "Moviepy - Done !\n",
      "Moviepy - video ready videos/2025-08-04-16-52-53_Object.mp4\n",
      "Video saved successfully and temporary file removed.\n",
      "Celeb Usain Bolt\n"
     ]
    },
    {
     "name": "stderr",
     "output_type": "stream",
     "text": [
      "The following part of your input was truncated because CLIP can only handle sequences up to 77 tokens: ['quality , masterpiece , photorealistic , ultra - detailed , sharp focus']\n"
     ]
    },
    {
     "name": "stdout",
     "output_type": "stream",
     "text": [
      "{'prompt': 'A colossal, shimmering Usain Bolt, composed of swirling nebulae and clockwork gears, sprints across a lavender desert landscape. Giant, melting stopwatches drip golden sand. His legs leave trails of blooming orchids. Dreamlike, surrealist painting, hyperdetailed, octane render, 8k, trending on Artstation.', 'negative_prompt': 'blurry, low quality, text, signature, watermark, cartoon, anime, realistic, photograph, people, human, ordinary, static pose, mundane, dull colors', 'fact': \"Bolt once held the world record for the 100m while wearing socks he's never seen before! \"}\n"
     ]
    },
    {
     "data": {
      "application/vnd.jupyter.widget-view+json": {
       "model_id": "04993638dc00420db50ecdb0838a0dd2",
       "version_major": 2,
       "version_minor": 0
      },
      "text/plain": [
       "  0%|          | 0/100 [00:00<?, ?it/s]"
      ]
     },
     "metadata": {},
     "output_type": "display_data"
    },
    {
     "name": "stdout",
     "output_type": "stream",
     "text": [
      "Saving video to videos/2025-08-04-16-54-28_Celeb.mp4...\n",
      "Moviepy - Building video videos/2025-08-04-16-54-28_Celeb.mp4.\n",
      "MoviePy - Writing audio in 2025-08-04-16-54-28_CelebTEMP_MPY_wvf_snd.mp4\n"
     ]
    },
    {
     "name": "stderr",
     "output_type": "stream",
     "text": [
      "                                                                     \r"
     ]
    },
    {
     "name": "stdout",
     "output_type": "stream",
     "text": [
      "MoviePy - Done.\n",
      "Moviepy - Writing video videos/2025-08-04-16-54-28_Celeb.mp4\n",
      "\n"
     ]
    },
    {
     "name": "stderr",
     "output_type": "stream",
     "text": [
      "                                                                 \r"
     ]
    },
    {
     "name": "stdout",
     "output_type": "stream",
     "text": [
      "Moviepy - Done !\n",
      "Moviepy - video ready videos/2025-08-04-16-54-28_Celeb.mp4\n",
      "Video saved successfully and temporary file removed.\n",
      "Building Sydney Opera House (Australia)\n",
      "{'prompt': 'Sydney Opera House, Australia. Dramatic, late afternoon light. Architectural photography, clean lines, minimalist composition, crisp detail, white sails glowing subtly, reflections on harbor water, shallow depth of field, Fujifilm Provia film stock.', 'negative_prompt': 'blurry, noisy, cartoon, illustration, painting, photorealistic, people, boats, daytime, overexposed, cluttered, symmetrical, graffiti, signature, watermark', 'fact': 'Construction took 14 years & cost 102 million AUD - triple the original estimate! '}\n"
     ]
    },
    {
     "data": {
      "application/vnd.jupyter.widget-view+json": {
       "model_id": "b002ea1167f24403b5b6b0f38bc435bf",
       "version_major": 2,
       "version_minor": 0
      },
      "text/plain": [
       "  0%|          | 0/100 [00:00<?, ?it/s]"
      ]
     },
     "metadata": {},
     "output_type": "display_data"
    },
    {
     "name": "stdout",
     "output_type": "stream",
     "text": [
      "Saving video to videos/2025-08-04-16-55-56_Building.mp4...\n",
      "Moviepy - Building video videos/2025-08-04-16-55-56_Building.mp4.\n",
      "MoviePy - Writing audio in 2025-08-04-16-55-56_BuildingTEMP_MPY_wvf_snd.mp4\n"
     ]
    },
    {
     "name": "stderr",
     "output_type": "stream",
     "text": [
      "                                                                     \r"
     ]
    },
    {
     "name": "stdout",
     "output_type": "stream",
     "text": [
      "MoviePy - Done.\n",
      "Moviepy - Writing video videos/2025-08-04-16-55-56_Building.mp4\n",
      "\n"
     ]
    },
    {
     "name": "stderr",
     "output_type": "stream",
     "text": [
      "                                                                 \r"
     ]
    },
    {
     "name": "stdout",
     "output_type": "stream",
     "text": [
      "Moviepy - Done !\n",
      "Moviepy - video ready videos/2025-08-04-16-55-56_Building.mp4\n",
      "Video saved successfully and temporary file removed.\n",
      "Celeb Steve Jobs\n"
     ]
    },
    {
     "name": "stderr",
     "output_type": "stream",
     "text": [
      "The following part of your input was truncated because CLIP can only handle sequences up to 77 tokens: ['patterns , dark turtleneck . dramatic lighting , 8 k , octane render , cinematic . , 8 k , best quality , masterpiece , photorealistic , ultra - detailed , sharp focus']\n"
     ]
    },
    {
     "name": "stdout",
     "output_type": "stream",
     "text": [
      "{'prompt': \"Hyperrealistic portrait of Steve Jobs, cyberpunk aesthetic. He's silhouetted against a holographic Apple logo cascading with neon blue and pink data streams. Cybernetic enhancements subtly visible around his temples and jawline. Rain-slicked streets reflected in his intense, focused eyes. Detailed clothing: black leather jacket with glowing circuitry patterns, dark turtleneck. Dramatic lighting, 8k, octane render, cinematic.\", 'negative_prompt': 'cartoon, anime, drawing, sketch, blurry, lowres, text, watermark, signature, deformed, disfigured, bad anatomy, extra limbs, unrealistic, poorly drawn hands, jpeg artifacts, oversaturated', 'fact': \"Jobs initially wanted to call Apple 'Matrix Electronics'  a nod to *The Matrix*, but was rejected.\"}\n"
     ]
    },
    {
     "data": {
      "application/vnd.jupyter.widget-view+json": {
       "model_id": "23bdad1b54f24cc999349bc78085476a",
       "version_major": 2,
       "version_minor": 0
      },
      "text/plain": [
       "  0%|          | 0/100 [00:00<?, ?it/s]"
      ]
     },
     "metadata": {},
     "output_type": "display_data"
    },
    {
     "name": "stdout",
     "output_type": "stream",
     "text": [
      "Saving video to videos/2025-08-04-16-57-38_Celeb.mp4...\n",
      "Moviepy - Building video videos/2025-08-04-16-57-38_Celeb.mp4.\n",
      "MoviePy - Writing audio in 2025-08-04-16-57-38_CelebTEMP_MPY_wvf_snd.mp4\n"
     ]
    },
    {
     "name": "stderr",
     "output_type": "stream",
     "text": [
      "                                                                     \r"
     ]
    },
    {
     "name": "stdout",
     "output_type": "stream",
     "text": [
      "MoviePy - Done.\n",
      "Moviepy - Writing video videos/2025-08-04-16-57-38_Celeb.mp4\n",
      "\n"
     ]
    },
    {
     "name": "stderr",
     "output_type": "stream",
     "text": [
      "                                                                 \r"
     ]
    },
    {
     "name": "stdout",
     "output_type": "stream",
     "text": [
      "Moviepy - Done !\n",
      "Moviepy - video ready videos/2025-08-04-16-57-38_Celeb.mp4\n",
      "Video saved successfully and temporary file removed.\n",
      "Celeb David Beckham\n",
      "{'prompt': 'David Beckham, mid-shot, iconic free kick pose, rain-soaked grass, vintage football stadium, dramatic lighting, watercolor painting, loose brushstrokes, vibrant hues, nostalgic feel, slightly blurred background, detailed facial expression conveying focus and determination.', 'negative_prompt': 'photorealistic, digital art, cgi, sharp focus, modern, low quality, blurry, text, signature, watermark, multiple people, cartoon, anime', 'fact': 'Beckham was once offered a 12 million contract to play for Paris Saint-Germain at just 31 years old!'}\n"
     ]
    },
    {
     "data": {
      "application/vnd.jupyter.widget-view+json": {
       "model_id": "32c878fb07cf471d9b1c0517a3745ca1",
       "version_major": 2,
       "version_minor": 0
      },
      "text/plain": [
       "  0%|          | 0/100 [00:00<?, ?it/s]"
      ]
     },
     "metadata": {},
     "output_type": "display_data"
    },
    {
     "name": "stdout",
     "output_type": "stream",
     "text": [
      "Saving video to videos/2025-08-04-16-59-08_Celeb.mp4...\n",
      "Moviepy - Building video videos/2025-08-04-16-59-08_Celeb.mp4.\n",
      "MoviePy - Writing audio in 2025-08-04-16-59-08_CelebTEMP_MPY_wvf_snd.mp4\n"
     ]
    },
    {
     "name": "stderr",
     "output_type": "stream",
     "text": [
      "                                                                     \r"
     ]
    },
    {
     "name": "stdout",
     "output_type": "stream",
     "text": [
      "MoviePy - Done.\n",
      "Moviepy - Writing video videos/2025-08-04-16-59-08_Celeb.mp4\n",
      "\n"
     ]
    },
    {
     "name": "stderr",
     "output_type": "stream",
     "text": [
      "                                                                 \r"
     ]
    },
    {
     "name": "stdout",
     "output_type": "stream",
     "text": [
      "Moviepy - Done !\n",
      "Moviepy - video ready videos/2025-08-04-16-59-08_Celeb.mp4\n",
      "Video saved successfully and temporary file removed.\n",
      "Building Burj Khalifa (UAE)\n"
     ]
    },
    {
     "name": "stderr",
     "output_type": "stream",
     "text": [
      "The following part of your input was truncated because CLIP can only handle sequences up to 77 tokens: ['render , dramatic composition . , 8 k , best quality , masterpiece , photorealistic , ultra - detailed , sharp focus']\n"
     ]
    },
    {
     "name": "stdout",
     "output_type": "stream",
     "text": [
      "{'prompt': 'A breathtaking, hyperrealistic photograph of the Burj Khalifa piercing a swirling, dramatic Arabian desert sunset. Dust motes dance in the golden light. Focus on intricate architectural details, shimmering glass, and the sheer scale of the structure. Cinematic lighting, volumetric light rays, anamorphic lens flare, 8k resolution, photorealistic, octane render, dramatic composition.', 'negative_prompt': 'cartoon, anime, painting, illustration, sketch, blurry, low resolution, watermark, text, people, daytime, flat lighting, unrealistic, distorted, grainy, overexposed, underexposed, noise', 'fact': \"The Burj Khalifa's spire is tipped with a 1,050-ton stainless steel 'The Point,' symbolizing a falcon taking flight.\"}\n"
     ]
    },
    {
     "data": {
      "application/vnd.jupyter.widget-view+json": {
       "model_id": "2fe882e4be0a4015be38293027be3e43",
       "version_major": 2,
       "version_minor": 0
      },
      "text/plain": [
       "  0%|          | 0/100 [00:00<?, ?it/s]"
      ]
     },
     "metadata": {},
     "output_type": "display_data"
    },
    {
     "name": "stdout",
     "output_type": "stream",
     "text": [
      "Saving video to videos/2025-08-04-17-00-48_Building.mp4...\n",
      "Moviepy - Building video videos/2025-08-04-17-00-48_Building.mp4.\n",
      "MoviePy - Writing audio in 2025-08-04-17-00-48_BuildingTEMP_MPY_wvf_snd.mp4\n"
     ]
    },
    {
     "name": "stderr",
     "output_type": "stream",
     "text": [
      "                                                                     \r"
     ]
    },
    {
     "name": "stdout",
     "output_type": "stream",
     "text": [
      "MoviePy - Done.\n",
      "Moviepy - Writing video videos/2025-08-04-17-00-48_Building.mp4\n",
      "\n"
     ]
    },
    {
     "name": "stderr",
     "output_type": "stream",
     "text": [
      "                                                                 \r"
     ]
    },
    {
     "name": "stdout",
     "output_type": "stream",
     "text": [
      "Moviepy - Done !\n",
      "Moviepy - video ready videos/2025-08-04-17-00-48_Building.mp4\n",
      "Video saved successfully and temporary file removed.\n",
      "Object Vacuum cleaner\n"
     ]
    },
    {
     "name": "stderr",
     "output_type": "stream",
     "text": [
      "The following part of your input was truncated because CLIP can only handle sequences up to 77 tokens: ['k , best quality , masterpiece , photorealistic , ultra - detailed , sharp focus']\n"
     ]
    },
    {
     "name": "stdout",
     "output_type": "stream",
     "text": [
      "{'prompt': 'A vintage, cherry-red vacuum cleaner, 1950s style, gleaming chrome accents, sitting on a checkered linoleum floor in a sun-drenched kitchen. Detailed, photorealistic, cinematic lighting, warm tones, volumetric light, 8k, octane render, art by Greg Rutkowski and Alphonse Mucha.', 'negative_prompt': 'blurry, grainy, low resolution, plastic, modern, dull colors, abstract, sketch, cartoon, text, watermark, signature', 'fact': \"Early vacuums used water to collect dust! The 'water-powered' models were short-lived but fascinating.\"}\n"
     ]
    },
    {
     "data": {
      "application/vnd.jupyter.widget-view+json": {
       "model_id": "34a9a4c34fbe424087a863897af8185c",
       "version_major": 2,
       "version_minor": 0
      },
      "text/plain": [
       "  0%|          | 0/100 [00:00<?, ?it/s]"
      ]
     },
     "metadata": {},
     "output_type": "display_data"
    },
    {
     "name": "stdout",
     "output_type": "stream",
     "text": [
      "Saving video to videos/2025-08-04-17-02-20_Object.mp4...\n",
      "Moviepy - Building video videos/2025-08-04-17-02-20_Object.mp4.\n",
      "MoviePy - Writing audio in 2025-08-04-17-02-20_ObjectTEMP_MPY_wvf_snd.mp4\n"
     ]
    },
    {
     "name": "stderr",
     "output_type": "stream",
     "text": [
      "                                                                     \r"
     ]
    },
    {
     "name": "stdout",
     "output_type": "stream",
     "text": [
      "MoviePy - Done.\n",
      "Moviepy - Writing video videos/2025-08-04-17-02-20_Object.mp4\n",
      "\n"
     ]
    },
    {
     "name": "stderr",
     "output_type": "stream",
     "text": [
      "                                                                 \r"
     ]
    },
    {
     "name": "stdout",
     "output_type": "stream",
     "text": [
      "Moviepy - Done !\n",
      "Moviepy - video ready videos/2025-08-04-17-02-20_Object.mp4\n",
      "Video saved successfully and temporary file removed.\n",
      "Celeb Angela Merkel\n"
     ]
    },
    {
     "name": "stderr",
     "output_type": "stream",
     "text": [
      "The following part of your input was truncated because CLIP can only handle sequences up to 77 tokens: ['best quality , masterpiece , photorealistic , ultra - detailed , sharp focus']\n"
     ]
    },
    {
     "name": "stdout",
     "output_type": "stream",
     "text": [
      "{'prompt': 'Angela Merkel, full portrait, standing resolute under a colossal, luminous full moon, night, dramatic lighting, sharp focus, photorealistic, detailed skin texture, slightly windswept hair, wearing a dark, tailored suit, subtle smile, German flag subtly visible in the background, cinematic composition, 8k, high resolution.', 'negative_prompt': 'cartoon, anime, painting, drawing, blurry, low resolution, unrealistic, deformed, bad anatomy, disfigured, extra limbs, watermark, signature, text, poorly drawn hands, multiple people.', 'fact': \"Merkel's nickname 'Mutti' (Mom) reflected her perceived maternal and authoritative leadership style in Germany.\"}\n"
     ]
    },
    {
     "data": {
      "application/vnd.jupyter.widget-view+json": {
       "model_id": "9c80ba4bdb1343bfae5cbf10af51d4b2",
       "version_major": 2,
       "version_minor": 0
      },
      "text/plain": [
       "  0%|          | 0/100 [00:00<?, ?it/s]"
      ]
     },
     "metadata": {},
     "output_type": "display_data"
    },
    {
     "name": "stdout",
     "output_type": "stream",
     "text": [
      "Saving video to videos/2025-08-04-17-03-58_Celeb.mp4...\n",
      "Moviepy - Building video videos/2025-08-04-17-03-58_Celeb.mp4.\n",
      "MoviePy - Writing audio in 2025-08-04-17-03-58_CelebTEMP_MPY_wvf_snd.mp4\n"
     ]
    },
    {
     "name": "stderr",
     "output_type": "stream",
     "text": [
      "                                                                      \r"
     ]
    },
    {
     "name": "stdout",
     "output_type": "stream",
     "text": [
      "MoviePy - Done.\n",
      "Moviepy - Writing video videos/2025-08-04-17-03-58_Celeb.mp4\n",
      "\n"
     ]
    },
    {
     "name": "stderr",
     "output_type": "stream",
     "text": [
      "                                                                 \r"
     ]
    },
    {
     "name": "stdout",
     "output_type": "stream",
     "text": [
      "Moviepy - Done !\n",
      "Moviepy - video ready videos/2025-08-04-17-03-58_Celeb.mp4\n",
      "Video saved successfully and temporary file removed.\n",
      "Building Azadi Tower (Iran)\n"
     ]
    },
    {
     "name": "stderr",
     "output_type": "stream",
     "text": [
      "The following part of your input was truncated because CLIP can only handle sequences up to 77 tokens: ['8 k , best quality , masterpiece , photorealistic , ultra - detailed , sharp focus']\n"
     ]
    },
    {
     "name": "stdout",
     "output_type": "stream",
     "text": [
      "{'prompt': 'A vibrant digital painting of Azadi Tower (Iran) at sunset, bathed in golden light. Detailed mosaic tilework reflecting the colors of the sky. Lush green park surrounding the tower, bustling with people. Hyperrealistic, intricate details, cinematic lighting, 8k, octane render, art by Ismail Khayal and Greg Rutkowski.', 'negative_prompt': 'blurry, grainy, low resolution, monochrome, sketch, cartoon, anime, deformed, distorted, text, watermark, signature, unrealistic, poorly rendered, night, rain, fog', 'fact': 'Originally called the Victory Column, Azadi Tower was inaugurated in 1971 to commemorate 2,500 years of Persian monarchy.'}\n"
     ]
    },
    {
     "data": {
      "application/vnd.jupyter.widget-view+json": {
       "model_id": "17946351232b4d4d87c900a375a4325a",
       "version_major": 2,
       "version_minor": 0
      },
      "text/plain": [
       "  0%|          | 0/100 [00:00<?, ?it/s]"
      ]
     },
     "metadata": {},
     "output_type": "display_data"
    },
    {
     "name": "stdout",
     "output_type": "stream",
     "text": [
      "Saving video to videos/2025-08-04-17-05-38_Building.mp4...\n",
      "Moviepy - Building video videos/2025-08-04-17-05-38_Building.mp4.\n",
      "MoviePy - Writing audio in 2025-08-04-17-05-38_BuildingTEMP_MPY_wvf_snd.mp4\n"
     ]
    },
    {
     "name": "stderr",
     "output_type": "stream",
     "text": [
      "                                                                      \r"
     ]
    },
    {
     "name": "stdout",
     "output_type": "stream",
     "text": [
      "MoviePy - Done.\n",
      "Moviepy - Writing video videos/2025-08-04-17-05-38_Building.mp4\n",
      "\n"
     ]
    },
    {
     "name": "stderr",
     "output_type": "stream",
     "text": [
      "                                                                 \r"
     ]
    },
    {
     "name": "stdout",
     "output_type": "stream",
     "text": [
      "Moviepy - Done !\n",
      "Moviepy - video ready videos/2025-08-04-17-05-38_Building.mp4\n",
      "Video saved successfully and temporary file removed.\n",
      "Object Bag\n"
     ]
    },
    {
     "name": "stderr",
     "output_type": "stream",
     "text": [
      "The following part of your input was truncated because CLIP can only handle sequences up to 77 tokens: ['warm color palette , soft focus , intricate details , high resolution . , 8 k , best quality , masterpiece , photorealistic , ultra - detailed , sharp focus']\n"
     ]
    },
    {
     "name": "stdout",
     "output_type": "stream",
     "text": [
      "{'prompt': 'A richly detailed, antique oil painting depicting a worn leather bag, overflowing with vibrant, exotic spices - saffron, star anise, cinnamon sticks - spilling onto a Persian rug in a sun-drenched Ottoman courtyard.  Golden light streams through an arched doorway, highlighting the textures of the leather and the spice powders.  Reminiscent of John Singer Sargent, warm color palette, soft focus, intricate details, high resolution.', 'negative_prompt': 'plastic, modern, clean, minimalist, cartoon, blurry, low resolution, digital art, photorealistic, shiny, perfect symmetry', 'fact': \"Early bags weren't just for carrying! They often held precious herbs & remedies, doubling as portable medicine cabinets.\"}\n"
     ]
    },
    {
     "data": {
      "application/vnd.jupyter.widget-view+json": {
       "model_id": "3da20e57863d439684c1c6389fbc1440",
       "version_major": 2,
       "version_minor": 0
      },
      "text/plain": [
       "  0%|          | 0/100 [00:00<?, ?it/s]"
      ]
     },
     "metadata": {},
     "output_type": "display_data"
    },
    {
     "name": "stdout",
     "output_type": "stream",
     "text": [
      "Saving video to videos/2025-08-04-17-07-15_Object.mp4...\n",
      "Moviepy - Building video videos/2025-08-04-17-07-15_Object.mp4.\n",
      "MoviePy - Writing audio in 2025-08-04-17-07-15_ObjectTEMP_MPY_wvf_snd.mp4\n"
     ]
    },
    {
     "name": "stderr",
     "output_type": "stream",
     "text": [
      "                                                                     \r"
     ]
    },
    {
     "name": "stdout",
     "output_type": "stream",
     "text": [
      "MoviePy - Done.\n",
      "Moviepy - Writing video videos/2025-08-04-17-07-15_Object.mp4\n",
      "\n"
     ]
    },
    {
     "name": "stderr",
     "output_type": "stream",
     "text": [
      "                                                                 \r"
     ]
    },
    {
     "name": "stdout",
     "output_type": "stream",
     "text": [
      "Moviepy - Done !\n",
      "Moviepy - video ready videos/2025-08-04-17-07-15_Object.mp4\n",
      "Video saved successfully and temporary file removed.\n",
      "Object Envelopes\n"
     ]
    },
    {
     "name": "stderr",
     "output_type": "stream",
     "text": [
      "The following part of your input was truncated because CLIP can only handle sequences up to 77 tokens: ['realist , hyperdetailed , volumetric lighting , octane render , 8 k . , 8 k , best quality , masterpiece , photorealistic , ultra - detailed , sharp focus']\n"
     ]
    },
    {
     "name": "stdout",
     "output_type": "stream",
     "text": [
      "{'prompt': \"A colossal, iridescent envelope, stitched from clouds and starlight, gently cradles a miniature, hyperrealistic porcelain doll. The doll is weeping tears of liquid amethyst, reflecting the envelope's swirling nebula patterns. Floating, antique keys drift from the envelope's flap, each resonating with a faint, melancholic chime. Dreamlike, surrealist, hyperdetailed, volumetric lighting, octane render, 8k.\", 'negative_prompt': 'blurry, low resolution, cartoon, anime, text, signature, watermark, deformed, unrealistic, flat, 2D, grayscale, monochrome, harsh lighting, human figures, people, faces.', 'fact': 'Ancient mail carriers sometimes used carrier pigeons  tiny, feathered envelopes carrying secret messages across vast distances.'}\n"
     ]
    },
    {
     "data": {
      "application/vnd.jupyter.widget-view+json": {
       "model_id": "1ba610d786f5423384456fab9161db67",
       "version_major": 2,
       "version_minor": 0
      },
      "text/plain": [
       "  0%|          | 0/100 [00:00<?, ?it/s]"
      ]
     },
     "metadata": {},
     "output_type": "display_data"
    },
    {
     "name": "stdout",
     "output_type": "stream",
     "text": [
      "Saving video to videos/2025-08-04-17-08-58_Object.mp4...\n",
      "Moviepy - Building video videos/2025-08-04-17-08-58_Object.mp4.\n",
      "MoviePy - Writing audio in 2025-08-04-17-08-58_ObjectTEMP_MPY_wvf_snd.mp4\n"
     ]
    },
    {
     "name": "stderr",
     "output_type": "stream",
     "text": [
      "                                                                     \r"
     ]
    },
    {
     "name": "stdout",
     "output_type": "stream",
     "text": [
      "MoviePy - Done.\n",
      "Moviepy - Writing video videos/2025-08-04-17-08-58_Object.mp4\n",
      "\n"
     ]
    },
    {
     "name": "stderr",
     "output_type": "stream",
     "text": [
      "                                                                 \r"
     ]
    },
    {
     "name": "stdout",
     "output_type": "stream",
     "text": [
      "Moviepy - Done !\n",
      "Moviepy - video ready videos/2025-08-04-17-08-58_Object.mp4\n",
      "Video saved successfully and temporary file removed.\n",
      "Celeb Johnny Depp\n"
     ]
    },
    {
     "name": "stderr",
     "output_type": "stream",
     "text": [
      "The following part of your input was truncated because CLIP can only handle sequences up to 77 tokens: ['provia 1 0 0 . , 8 k , best quality , masterpiece , photorealistic , ultra - detailed , sharp focus']\n"
     ]
    },
    {
     "name": "stdout",
     "output_type": "stream",
     "text": [
      "{'prompt': \"A cinematic portrait of Johnny Depp at dawn, bathed in a soft, ethereal glow. He's gazing thoughtfully towards the rising sun, a hint of melancholy in his eyes. Detailed facial features, weathered leather jacket, long hair slightly windblown. Photorealistic, 8k, cinematic lighting, volumetric light, shallow depth of field, Fujifilm Provia 100.\", 'negative_prompt': 'cartoon, anime, painting, drawing, sketch, unrealistic, deformed, blurry, disfigured, bad anatomy, multiple limbs, text, watermark, signature, low resolution, jpeg artifacts, ugly, plastic, doll-like', 'fact': 'Depp plays guitar left-handed, despite being naturally right-handed! He restrung his guitar as a teen.'}\n"
     ]
    },
    {
     "data": {
      "application/vnd.jupyter.widget-view+json": {
       "model_id": "61269f73dc4a497f81df601e3592abd9",
       "version_major": 2,
       "version_minor": 0
      },
      "text/plain": [
       "  0%|          | 0/100 [00:00<?, ?it/s]"
      ]
     },
     "metadata": {},
     "output_type": "display_data"
    },
    {
     "name": "stdout",
     "output_type": "stream",
     "text": [
      "Saving video to videos/2025-08-04-17-10-38_Celeb.mp4...\n",
      "Moviepy - Building video videos/2025-08-04-17-10-38_Celeb.mp4.\n",
      "MoviePy - Writing audio in 2025-08-04-17-10-38_CelebTEMP_MPY_wvf_snd.mp4\n"
     ]
    },
    {
     "name": "stderr",
     "output_type": "stream",
     "text": [
      "                                                                     \r"
     ]
    },
    {
     "name": "stdout",
     "output_type": "stream",
     "text": [
      "MoviePy - Done.\n",
      "Moviepy - Writing video videos/2025-08-04-17-10-38_Celeb.mp4\n",
      "\n"
     ]
    },
    {
     "name": "stderr",
     "output_type": "stream",
     "text": [
      "                                                                 \r"
     ]
    },
    {
     "name": "stdout",
     "output_type": "stream",
     "text": [
      "Moviepy - Done !\n",
      "Moviepy - video ready videos/2025-08-04-17-10-38_Celeb.mp4\n",
      "Video saved successfully and temporary file removed.\n",
      "Celeb Roger Federer\n"
     ]
    },
    {
     "name": "stderr",
     "output_type": "stream",
     "text": [
      "The following part of your input was truncated because CLIP can only handle sequences up to 77 tokens: ['8 k , best quality , masterpiece , photorealistic , ultra - detailed , sharp focus']\n"
     ]
    },
    {
     "name": "stdout",
     "output_type": "stream",
     "text": [
      "{'prompt': 'Roger Federer, dawn, ethereal glow, soft lighting, Swiss Alps background, tennis court in the distance, contemplative pose, golden hour, cinematic lighting, photorealistic, 8k, detailed face, elegant, athletic build, slightly blurred background, Nikon D850, f/2.8, ISO 100, 35mm', 'negative_prompt': 'cartoon, anime, painting, drawing, sketch, blurry, noisy, text, watermark, signature, logo, deformed, unrealistic, bad anatomy, low resolution, oversaturated, harsh lighting, multiple people', 'fact': 'Federer learned to play tennis on a clay court, often battling the elements in his hometown of Basel.'}\n"
     ]
    },
    {
     "data": {
      "application/vnd.jupyter.widget-view+json": {
       "model_id": "c85c2fe65bcc4a55b30c39c3e25d7942",
       "version_major": 2,
       "version_minor": 0
      },
      "text/plain": [
       "  0%|          | 0/100 [00:00<?, ?it/s]"
      ]
     },
     "metadata": {},
     "output_type": "display_data"
    },
    {
     "name": "stdout",
     "output_type": "stream",
     "text": [
      "Saving video to videos/2025-08-04-17-12-16_Celeb.mp4...\n",
      "Moviepy - Building video videos/2025-08-04-17-12-16_Celeb.mp4.\n",
      "MoviePy - Writing audio in 2025-08-04-17-12-16_CelebTEMP_MPY_wvf_snd.mp4\n"
     ]
    },
    {
     "name": "stderr",
     "output_type": "stream",
     "text": [
      "                                                                     \r"
     ]
    },
    {
     "name": "stdout",
     "output_type": "stream",
     "text": [
      "MoviePy - Done.\n",
      "Moviepy - Writing video videos/2025-08-04-17-12-16_Celeb.mp4\n",
      "\n"
     ]
    },
    {
     "name": "stderr",
     "output_type": "stream",
     "text": [
      "                                                                 \r"
     ]
    },
    {
     "name": "stdout",
     "output_type": "stream",
     "text": [
      "Moviepy - Done !\n",
      "Moviepy - video ready videos/2025-08-04-17-12-16_Celeb.mp4\n",
      "Video saved successfully and temporary file removed.\n",
      "Place Quebec City (Canada)\n"
     ]
    },
    {
     "name": "stderr",
     "output_type": "stream",
     "text": [
      "The following part of your input was truncated because CLIP can only handle sequences up to 77 tokens: [', historic charm . atmospheric perspective , cinematic lighting , high resolution , 8 k , art by greg rutkowski and alphonse mucha . , 8 k , best quality , masterpiece , photorealistic , ultra - detailed , sharp focus']\n"
     ]
    },
    {
     "name": "stdout",
     "output_type": "stream",
     "text": [
      "{'prompt': 'A vibrant digital painting of Quebec City, Canada, at twilight. Cobblestone streets glow with warm lamplight, reflecting in the snow-dusted fortifications of the Old City. The Chateau Frontenac dominates the skyline, bathed in the soft pink and purple hues of the setting sun. Focus on intricate detail in the architecture and a sense of cozy, historic charm. Atmospheric perspective, cinematic lighting, high resolution, 8k, art by Greg Rutkowski and Alphonse Mucha.', 'negative_prompt': 'blurry, low resolution, photorealistic, modern buildings, cars, people, daytime, flat lighting, oversaturated, cartoonish, ugly, deformed, text, signature, watermark', 'fact': 'Quebec City is the only walled city north of Mexico in North America!'}\n"
     ]
    },
    {
     "data": {
      "application/vnd.jupyter.widget-view+json": {
       "model_id": "6ceed82887f14d0c861e30f1a4d61e58",
       "version_major": 2,
       "version_minor": 0
      },
      "text/plain": [
       "  0%|          | 0/100 [00:00<?, ?it/s]"
      ]
     },
     "metadata": {},
     "output_type": "display_data"
    },
    {
     "name": "stdout",
     "output_type": "stream",
     "text": [
      "Saving video to videos/2025-08-04-17-13-58_Place.mp4...\n",
      "Moviepy - Building video videos/2025-08-04-17-13-58_Place.mp4.\n",
      "MoviePy - Writing audio in 2025-08-04-17-13-58_PlaceTEMP_MPY_wvf_snd.mp4\n"
     ]
    },
    {
     "name": "stderr",
     "output_type": "stream",
     "text": [
      "                                                                     \r"
     ]
    },
    {
     "name": "stdout",
     "output_type": "stream",
     "text": [
      "MoviePy - Done.\n",
      "Moviepy - Writing video videos/2025-08-04-17-13-58_Place.mp4\n",
      "\n"
     ]
    },
    {
     "name": "stderr",
     "output_type": "stream",
     "text": [
      "                                                                 \r"
     ]
    },
    {
     "name": "stdout",
     "output_type": "stream",
     "text": [
      "Moviepy - Done !\n",
      "Moviepy - video ready videos/2025-08-04-17-13-58_Place.mp4\n",
      "Video saved successfully and temporary file removed.\n",
      "Place Copenhagen (Denmark)\n"
     ]
    },
    {
     "name": "stderr",
     "output_type": "stream",
     "text": [
      "The following part of your input was truncated because CLIP can only handle sequences up to 77 tokens: [', cinematic . , 8 k , best quality , masterpiece , photorealistic , ultra - detailed , sharp focus']\n"
     ]
    },
    {
     "name": "stdout",
     "output_type": "stream",
     "text": [
      "{'prompt': 'A breathtaking, hyperrealistic night view of Copenhagen, Denmark. The full moon casts a silver glow on the canals, reflecting the colorful lights of Nyhavn and the spire of the Round Tower. Cobblestone streets shimmer with a magical quality, and a gentle mist hangs in the air. Atmospheric perspective, volumetric lighting, intricate detail, 8k resolution, cinematic.', 'negative_prompt': 'cartoon, anime, painting, illustration, blurry, noisy, artifacts, oversaturated, daytime, people, text, watermark, signature, low resolution, jpeg artifacts, unrealistic, deformed, disfigured.', 'fact': \"Copenhagen's 'Little Mermaid' statue is smaller than average  only 4ft tall! \"}\n"
     ]
    },
    {
     "data": {
      "application/vnd.jupyter.widget-view+json": {
       "model_id": "21f01f1b04a34ee9ae9dc5788fdf56aa",
       "version_major": 2,
       "version_minor": 0
      },
      "text/plain": [
       "  0%|          | 0/100 [00:00<?, ?it/s]"
      ]
     },
     "metadata": {},
     "output_type": "display_data"
    },
    {
     "name": "stdout",
     "output_type": "stream",
     "text": [
      "Saving video to videos/2025-08-04-17-15-39_Place.mp4...\n",
      "Moviepy - Building video videos/2025-08-04-17-15-39_Place.mp4.\n",
      "MoviePy - Writing audio in 2025-08-04-17-15-39_PlaceTEMP_MPY_wvf_snd.mp4\n"
     ]
    },
    {
     "name": "stderr",
     "output_type": "stream",
     "text": [
      "                                                                     \r"
     ]
    },
    {
     "name": "stdout",
     "output_type": "stream",
     "text": [
      "MoviePy - Done.\n",
      "Moviepy - Writing video videos/2025-08-04-17-15-39_Place.mp4\n",
      "\n"
     ]
    },
    {
     "name": "stderr",
     "output_type": "stream",
     "text": [
      "                                                                 \r"
     ]
    },
    {
     "name": "stdout",
     "output_type": "stream",
     "text": [
      "Moviepy - Done !\n",
      "Moviepy - video ready videos/2025-08-04-17-15-39_Place.mp4\n",
      "Video saved successfully and temporary file removed.\n",
      "Object Power bank\n"
     ]
    },
    {
     "name": "stderr",
     "output_type": "stream",
     "text": [
      "The following part of your input was truncated because CLIP can only handle sequences up to 77 tokens: ['evoking a sense of timelessness and quiet productivity . style of john singer sargent , highly detailed , photorealistic , 1 9 0 0 s . , 8 k , best quality , masterpiece , photorealistic , ultra - detailed , sharp focus']\n"
     ]
    },
    {
     "name": "stdout",
     "output_type": "stream",
     "text": [
      "{'prompt': 'A meticulously rendered oil painting of a sleek, modern power bank resting on a polished mahogany desk. Soft, diffused light illuminates the device, highlighting its brushed aluminum texture and subtle LED indicator. A vintage fountain pen and a leather-bound journal lie nearby, hinting at a writer or inventor. Warm, earthy tones dominate the palette, evoking a sense of timelessness and quiet productivity. Style of John Singer Sargent, highly detailed, photorealistic, 1900s.', 'negative_prompt': 'blurry, noisy, plastic, cartoon, digital art, low resolution, modern photography, bright colors, abstract, futuristic, oversaturated', 'fact': \"Early power banks used NiCd batteries, notorious for a 'memory effect' that reduced their capacity if not fully discharged!\"}\n"
     ]
    },
    {
     "data": {
      "application/vnd.jupyter.widget-view+json": {
       "model_id": "855193cb4ae94366a5dace2021f314ea",
       "version_major": 2,
       "version_minor": 0
      },
      "text/plain": [
       "  0%|          | 0/100 [00:00<?, ?it/s]"
      ]
     },
     "metadata": {},
     "output_type": "display_data"
    },
    {
     "name": "stdout",
     "output_type": "stream",
     "text": [
      "Saving video to videos/2025-08-04-17-17-19_Object.mp4...\n",
      "Moviepy - Building video videos/2025-08-04-17-17-19_Object.mp4.\n",
      "MoviePy - Writing audio in 2025-08-04-17-17-19_ObjectTEMP_MPY_wvf_snd.mp4\n"
     ]
    },
    {
     "name": "stderr",
     "output_type": "stream",
     "text": [
      "                                                                     \r"
     ]
    },
    {
     "name": "stdout",
     "output_type": "stream",
     "text": [
      "MoviePy - Done.\n",
      "Moviepy - Writing video videos/2025-08-04-17-17-19_Object.mp4\n",
      "\n"
     ]
    },
    {
     "name": "stderr",
     "output_type": "stream",
     "text": [
      "                                                                 \r"
     ]
    },
    {
     "name": "stdout",
     "output_type": "stream",
     "text": [
      "Moviepy - Done !\n",
      "Moviepy - video ready videos/2025-08-04-17-17-19_Object.mp4\n",
      "Video saved successfully and temporary file removed.\n",
      "Object ID card\n"
     ]
    },
    {
     "name": "stderr",
     "output_type": "stream",
     "text": [
      "The following part of your input was truncated because CLIP can only handle sequences up to 77 tokens: ['mm lens , shallow depth of field , photorealistic , hyperdetailed , film grain , anamorphic lens flare . , 8 k , best quality , masterpiece , photorealistic , ultra - detailed , sharp focus']\n"
     ]
    },
    {
     "name": "stdout",
     "output_type": "stream",
     "text": [
      "{'prompt': 'Cinematic still. Close-up on a weathered, slightly damaged ID card, partially obscured by rain and reflecting neon city lights. The card reveals a blurred, melancholic face and faded, stylized typography. Dramatic, chiaroscuro lighting, emphasizing the texture of the card and the sadness in the implied story. 85mm lens, shallow depth of field, photorealistic, hyperdetailed, film grain, anamorphic lens flare.', 'negative_prompt': 'cartoon, anime, drawing, sketch, illustration, 3d render, plastic, smooth, perfect, pristine, bright, cheerful, vibrant colors, multiple faces, text readable, logo', 'fact': 'Early ID cards (19th century) were often used to identify criminals or immigrants  a mark of suspicion, not privilege.'}\n"
     ]
    },
    {
     "data": {
      "application/vnd.jupyter.widget-view+json": {
       "model_id": "8a2dda535c7f4cc9970ce7663a57d3b5",
       "version_major": 2,
       "version_minor": 0
      },
      "text/plain": [
       "  0%|          | 0/100 [00:00<?, ?it/s]"
      ]
     },
     "metadata": {},
     "output_type": "display_data"
    },
    {
     "name": "stdout",
     "output_type": "stream",
     "text": [
      "Saving video to videos/2025-08-04-17-19-04_Object.mp4...\n",
      "Moviepy - Building video videos/2025-08-04-17-19-04_Object.mp4.\n",
      "MoviePy - Writing audio in 2025-08-04-17-19-04_ObjectTEMP_MPY_wvf_snd.mp4\n"
     ]
    },
    {
     "name": "stderr",
     "output_type": "stream",
     "text": [
      "                                                                     \r"
     ]
    },
    {
     "name": "stdout",
     "output_type": "stream",
     "text": [
      "MoviePy - Done.\n",
      "Moviepy - Writing video videos/2025-08-04-17-19-04_Object.mp4\n",
      "\n"
     ]
    },
    {
     "name": "stderr",
     "output_type": "stream",
     "text": [
      "                                                                 \r"
     ]
    },
    {
     "name": "stdout",
     "output_type": "stream",
     "text": [
      "Moviepy - Done !\n",
      "Moviepy - video ready videos/2025-08-04-17-19-04_Object.mp4\n",
      "Video saved successfully and temporary file removed.\n",
      "Object Cups \n"
     ]
    },
    {
     "name": "stderr",
     "output_type": "stream",
     "text": [
      "The following part of your input was truncated because CLIP can only handle sequences up to 77 tokens: ['inspired by chardin and bouguereau . oil painting , hyperrealism , 8 k , intricate details , volumetric lighting . , 8 k , best quality , masterpiece , photorealistic , ultra - detailed , sharp focus']\n"
     ]
    },
    {
     "name": "stdout",
     "output_type": "stream",
     "text": [
      "{'prompt': 'A still life painting, exquisitely detailed, showcasing a collection of antique porcelain cups. Each cup is unique - one floral, one with a gilded rim, one a deep sapphire blue. Soft, diffused light illuminates the scene, highlighting the delicate curves and textures. Background: a dark, aged wooden table draped with a faded velvet cloth. Inspired by Chardin and Bouguereau. Oil painting, hyperrealism, 8k, intricate details, volumetric lighting.', 'negative_prompt': 'cartoon, anime, modern, plastic, blurry, low resolution, oversaturated, abstract, deformed, disfigured, text, watermark, signature', 'fact': 'Early cups werent always for drinking! Some served as ornate reliquaries, holding sacred objects. '}\n"
     ]
    },
    {
     "data": {
      "application/vnd.jupyter.widget-view+json": {
       "model_id": "85983a03ea0f4436b394431d08d4e751",
       "version_major": 2,
       "version_minor": 0
      },
      "text/plain": [
       "  0%|          | 0/100 [00:00<?, ?it/s]"
      ]
     },
     "metadata": {},
     "output_type": "display_data"
    },
    {
     "name": "stdout",
     "output_type": "stream",
     "text": [
      "Saving video to videos/2025-08-04-17-20-46_Object.mp4...\n",
      "Moviepy - Building video videos/2025-08-04-17-20-46_Object.mp4.\n",
      "MoviePy - Writing audio in 2025-08-04-17-20-46_ObjectTEMP_MPY_wvf_snd.mp4\n"
     ]
    },
    {
     "name": "stderr",
     "output_type": "stream",
     "text": [
      "                                                                     \r"
     ]
    },
    {
     "name": "stdout",
     "output_type": "stream",
     "text": [
      "MoviePy - Done.\n",
      "Moviepy - Writing video videos/2025-08-04-17-20-46_Object.mp4\n",
      "\n"
     ]
    },
    {
     "name": "stderr",
     "output_type": "stream",
     "text": [
      "                                                                 \r"
     ]
    },
    {
     "name": "stdout",
     "output_type": "stream",
     "text": [
      "Moviepy - Done !\n",
      "Moviepy - video ready videos/2025-08-04-17-20-46_Object.mp4\n",
      "Video saved successfully and temporary file removed.\n",
      "Place Budapest (Hungary)\n"
     ]
    },
    {
     "name": "stderr",
     "output_type": "stream",
     "text": [
      "The following part of your input was truncated because CLIP can only handle sequences up to 77 tokens: [', masterpiece , photorealistic , ultra - detailed , sharp focus']\n"
     ]
    },
    {
     "name": "stdout",
     "output_type": "stream",
     "text": [
      "{'prompt': 'Cinematic still of Budapest, Hungary at twilight. The Hungarian Parliament Building glows golden under a stormy sky, reflecting in the Danube River. Rain streaks across the lens. Dramatic, volumetric lighting, hyperrealistic, 8k, detailed architecture, wide angle, atmospheric, moody, art by Greg Rutkowski and James Gurney.', 'negative_prompt': 'cartoon, anime, painting, drawing, sketch, blurry, low resolution, watermark, signature, text, people, daytime, bright, oversaturated, unrealistic, deformed, extra limbs, bad anatomy', 'fact': 'Budapest was formed in 1873, uniting Buda, buda, and Pest  a symbol of Hungarian unity.'}\n"
     ]
    },
    {
     "data": {
      "application/vnd.jupyter.widget-view+json": {
       "model_id": "61d7272ea19c4a52bf901d253f7e4743",
       "version_major": 2,
       "version_minor": 0
      },
      "text/plain": [
       "  0%|          | 0/100 [00:00<?, ?it/s]"
      ]
     },
     "metadata": {},
     "output_type": "display_data"
    },
    {
     "name": "stdout",
     "output_type": "stream",
     "text": [
      "Saving video to videos/2025-08-04-17-22-25_Place.mp4...\n",
      "Moviepy - Building video videos/2025-08-04-17-22-25_Place.mp4.\n",
      "MoviePy - Writing audio in 2025-08-04-17-22-25_PlaceTEMP_MPY_wvf_snd.mp4\n"
     ]
    },
    {
     "name": "stderr",
     "output_type": "stream",
     "text": [
      "                                                                     \r"
     ]
    },
    {
     "name": "stdout",
     "output_type": "stream",
     "text": [
      "MoviePy - Done.\n",
      "Moviepy - Writing video videos/2025-08-04-17-22-25_Place.mp4\n",
      "\n"
     ]
    },
    {
     "name": "stderr",
     "output_type": "stream",
     "text": [
      "                                                                 \r"
     ]
    },
    {
     "name": "stdout",
     "output_type": "stream",
     "text": [
      "Moviepy - Done !\n",
      "Moviepy - video ready videos/2025-08-04-17-22-25_Place.mp4\n",
      "Video saved successfully and temporary file removed.\n",
      "Animal Cheetah\n"
     ]
    },
    {
     "name": "stderr",
     "output_type": "stream",
     "text": [
      "The following part of your input was truncated because CLIP can only handle sequences up to 77 tokens: ['artgerm and greg rutkowski . , 8 k , best quality , masterpiece , photorealistic , ultra - detailed , sharp focus']\n"
     ]
    },
    {
     "name": "stdout",
     "output_type": "stream",
     "text": [
      "{'prompt': 'A breathtaking digital painting of a cheetah sprinting across the golden savanna at sunset. Dynamic pose, muscles rippling, dust kicking up behind. Hyperrealistic fur texture, sharp focus, dramatic lighting, warm color palette (oranges, yellows, browns). Cinematic composition, bokeh background of acacia trees. 8k resolution, octane render, art by Artgerm and Greg Rutkowski.', 'negative_prompt': 'blurry, out of focus, cartoon, drawing, sketch, low resolution, deformed, disfigured, unnatural colors, watermark, signature, text, multiple cheetahs, static pose, unrealistic anatomy.', 'fact': 'Cheetahs can accelerate from 0-60 mph in just 3 seconds  faster than most sports cars! '}\n"
     ]
    },
    {
     "data": {
      "application/vnd.jupyter.widget-view+json": {
       "model_id": "a95f367d481f44279199ed400d362b7a",
       "version_major": 2,
       "version_minor": 0
      },
      "text/plain": [
       "  0%|          | 0/100 [00:00<?, ?it/s]"
      ]
     },
     "metadata": {},
     "output_type": "display_data"
    },
    {
     "name": "stdout",
     "output_type": "stream",
     "text": [
      "Saving video to videos/2025-08-04-17-24-07_Animal.mp4...\n",
      "Moviepy - Building video videos/2025-08-04-17-24-07_Animal.mp4.\n",
      "MoviePy - Writing audio in 2025-08-04-17-24-07_AnimalTEMP_MPY_wvf_snd.mp4\n"
     ]
    },
    {
     "name": "stderr",
     "output_type": "stream",
     "text": [
      "                                                                      \r"
     ]
    },
    {
     "name": "stdout",
     "output_type": "stream",
     "text": [
      "MoviePy - Done.\n",
      "Moviepy - Writing video videos/2025-08-04-17-24-07_Animal.mp4\n",
      "\n"
     ]
    },
    {
     "name": "stderr",
     "output_type": "stream",
     "text": [
      "                                                                 \r"
     ]
    },
    {
     "name": "stdout",
     "output_type": "stream",
     "text": [
      "Moviepy - Done !\n",
      "Moviepy - video ready videos/2025-08-04-17-24-07_Animal.mp4\n",
      "Video saved successfully and temporary file removed.\n",
      "Building Canton Tower (China)\n"
     ]
    },
    {
     "name": "stderr",
     "output_type": "stream",
     "text": [
      "The following part of your input was truncated because CLIP can only handle sequences up to 77 tokens: ['realistic , unreal engine 5 . , 8 k , best quality , masterpiece , photorealistic , ultra - detailed , sharp focus']\n"
     ]
    },
    {
     "name": "stdout",
     "output_type": "stream",
     "text": [
      "{'prompt': \"A breathtaking, hyperrealistic nighttime view of the Canton Tower in Guangzhou, China, bathed in the soft glow of a full moon. The tower's intricate lattice structure is illuminated with dynamic, shifting LED patterns, reflecting in the Pearl River below. Detailed textures, volumetric lighting, dramatic perspective, cinematic composition, 8k, ultra detailed, photorealistic, unreal engine 5.\", 'negative_prompt': 'blurry, noisy, grainy, low resolution, daytime, overcast, cartoon, anime, drawing, sketch, painting, watermark, signature, text, people, out of focus, distorted, unrealistic, oversaturated.', 'fact': \"Canton Tower's 'Bubble Tram' cabins offer 360 views & rotate fully! A truly unique nighttime experience.\"}\n"
     ]
    },
    {
     "data": {
      "application/vnd.jupyter.widget-view+json": {
       "model_id": "b95b8ec46f64491aba1795d15ec2edc9",
       "version_major": 2,
       "version_minor": 0
      },
      "text/plain": [
       "  0%|          | 0/100 [00:00<?, ?it/s]"
      ]
     },
     "metadata": {},
     "output_type": "display_data"
    },
    {
     "name": "stdout",
     "output_type": "stream",
     "text": [
      "Saving video to videos/2025-08-04-17-25-50_Building.mp4...\n",
      "Moviepy - Building video videos/2025-08-04-17-25-50_Building.mp4.\n",
      "MoviePy - Writing audio in 2025-08-04-17-25-50_BuildingTEMP_MPY_wvf_snd.mp4\n"
     ]
    },
    {
     "name": "stderr",
     "output_type": "stream",
     "text": [
      "                                                                     \r"
     ]
    },
    {
     "name": "stdout",
     "output_type": "stream",
     "text": [
      "MoviePy - Done.\n",
      "Moviepy - Writing video videos/2025-08-04-17-25-50_Building.mp4\n",
      "\n"
     ]
    },
    {
     "name": "stderr",
     "output_type": "stream",
     "text": [
      "                                                                 \r"
     ]
    },
    {
     "name": "stdout",
     "output_type": "stream",
     "text": [
      "Moviepy - Done !\n",
      "Moviepy - video ready videos/2025-08-04-17-25-50_Building.mp4\n",
      "Video saved successfully and temporary file removed.\n",
      "Animal Dog\n"
     ]
    },
    {
     "name": "stderr",
     "output_type": "stream",
     "text": [
      "The following part of your input was truncated because CLIP can only handle sequences up to 77 tokens: [', photorealistic , ultra - detailed , sharp focus']\n"
     ]
    },
    {
     "name": "stdout",
     "output_type": "stream",
     "text": [
      "{'prompt': 'A majestic golden retriever, bathed in the silvery light of a full moon, sits proudly on a grassy hilltop overlooking a misty valley. Detailed fur, sharp focus, cinematic lighting, ethereal atmosphere, fantasy art, hyperrealistic, 8k, volumetric lighting, dramatic shadows. Moon is prominent and full.', 'negative_prompt': 'cartoon, anime, painting, illustration, blurry, deformed, low resolution, text, watermark, signature, human, people, indoors, daytime, flat lighting', 'fact': 'Golden Retrievers can smell scents up to 100 times better than humans! '}\n"
     ]
    },
    {
     "data": {
      "application/vnd.jupyter.widget-view+json": {
       "model_id": "fc3d41caf8844f099747ed5ed1512ce3",
       "version_major": 2,
       "version_minor": 0
      },
      "text/plain": [
       "  0%|          | 0/100 [00:00<?, ?it/s]"
      ]
     },
     "metadata": {},
     "output_type": "display_data"
    },
    {
     "name": "stdout",
     "output_type": "stream",
     "text": [
      "Saving video to videos/2025-08-04-17-27-21_Animal.mp4...\n",
      "Moviepy - Building video videos/2025-08-04-17-27-21_Animal.mp4.\n",
      "MoviePy - Writing audio in 2025-08-04-17-27-21_AnimalTEMP_MPY_wvf_snd.mp4\n"
     ]
    },
    {
     "name": "stderr",
     "output_type": "stream",
     "text": [
      "                                                                     \r"
     ]
    },
    {
     "name": "stdout",
     "output_type": "stream",
     "text": [
      "MoviePy - Done.\n",
      "Moviepy - Writing video videos/2025-08-04-17-27-21_Animal.mp4\n",
      "\n"
     ]
    },
    {
     "name": "stderr",
     "output_type": "stream",
     "text": [
      "                                                                 \r"
     ]
    },
    {
     "name": "stdout",
     "output_type": "stream",
     "text": [
      "Moviepy - Done !\n",
      "Moviepy - video ready videos/2025-08-04-17-27-21_Animal.mp4\n",
      "Video saved successfully and temporary file removed.\n",
      "Animal Lobster\n"
     ]
    },
    {
     "name": "stderr",
     "output_type": "stream",
     "text": [
      "The following part of your input was truncated because CLIP can only handle sequences up to 77 tokens: ['8 k , best quality , masterpiece , photorealistic , ultra - detailed , sharp focus']\n"
     ]
    },
    {
     "name": "stdout",
     "output_type": "stream",
     "text": [
      "{'prompt': \"A majestic American lobster, iridescent crimson shell glistening with dew, emerging from a kelp forest at dawn. Soft, ethereal golden light filters through the water, illuminating the lobster's claws and antennae. Detailed textures, photorealistic, 8k, volumetric lighting, subsurface scattering, bokeh, cinematic, National Geographic photography.\", 'negative_prompt': 'cartoon, painting, drawing, illustration, unrealistic, blurry, deformed, low resolution, human, people, text, signature, watermark, noise, grainy, oversaturated', 'fact': \"Lobsters can regenerate lost limbs  even their antennae! It takes weeks, but they're resilient critters. \"}\n"
     ]
    },
    {
     "data": {
      "application/vnd.jupyter.widget-view+json": {
       "model_id": "c5c925e5c1594eb79271dee9b079db4b",
       "version_major": 2,
       "version_minor": 0
      },
      "text/plain": [
       "  0%|          | 0/100 [00:00<?, ?it/s]"
      ]
     },
     "metadata": {},
     "output_type": "display_data"
    },
    {
     "name": "stdout",
     "output_type": "stream",
     "text": [
      "Saving video to videos/2025-08-04-17-28-56_Animal.mp4...\n",
      "Moviepy - Building video videos/2025-08-04-17-28-56_Animal.mp4.\n",
      "MoviePy - Writing audio in 2025-08-04-17-28-56_AnimalTEMP_MPY_wvf_snd.mp4\n"
     ]
    },
    {
     "name": "stderr",
     "output_type": "stream",
     "text": [
      "                                                                     \r"
     ]
    },
    {
     "name": "stdout",
     "output_type": "stream",
     "text": [
      "MoviePy - Done.\n",
      "Moviepy - Writing video videos/2025-08-04-17-28-56_Animal.mp4\n",
      "\n"
     ]
    },
    {
     "name": "stderr",
     "output_type": "stream",
     "text": [
      "                                                                 \r"
     ]
    },
    {
     "name": "stdout",
     "output_type": "stream",
     "text": [
      "Moviepy - Done !\n",
      "Moviepy - video ready videos/2025-08-04-17-28-56_Animal.mp4\n",
      "Video saved successfully and temporary file removed.\n",
      "Animal Squid\n"
     ]
    },
    {
     "name": "stderr",
     "output_type": "stream",
     "text": [
      "The following part of your input was truncated because CLIP can only handle sequences up to 77 tokens: ['detail , art by rembrandt and zdzisaw beksiski . , 8 k , best quality , masterpiece , photorealistic , ultra - detailed , sharp focus']\n"
     ]
    },
    {
     "name": "stdout",
     "output_type": "stream",
     "text": [
      "{'prompt': 'A colossal Humboldt squid, *Dosidicus gigas*, mid-swim in the abyssal darkness, bioluminescent patterns swirling across its mantle, detailed suckers visible, schools of tiny fish darting around it, dramatic lighting, deep ocean blues and purples, oil on canvas, painterly brushstrokes, hyperrealistic detail, art by Rembrandt and Zdzisaw Beksiski.', 'negative_prompt': 'cartoon, illustration, drawing, sketch, blurry, low resolution, unrealistic, deformed, extra limbs, text, watermark, signature, flat, digital art, 3D render, overly bright, simplistic.', 'fact': 'Squid blood is blue! It contains hemocyanin, a copper-based protein, instead of iron like ours.'}\n"
     ]
    },
    {
     "data": {
      "application/vnd.jupyter.widget-view+json": {
       "model_id": "5f8cc3b5520840c686c1c81e413ff12d",
       "version_major": 2,
       "version_minor": 0
      },
      "text/plain": [
       "  0%|          | 0/100 [00:00<?, ?it/s]"
      ]
     },
     "metadata": {},
     "output_type": "display_data"
    },
    {
     "name": "stdout",
     "output_type": "stream",
     "text": [
      "Saving video to videos/2025-08-04-17-30-38_Animal.mp4...\n",
      "Moviepy - Building video videos/2025-08-04-17-30-38_Animal.mp4.\n",
      "MoviePy - Writing audio in 2025-08-04-17-30-38_AnimalTEMP_MPY_wvf_snd.mp4\n"
     ]
    },
    {
     "name": "stderr",
     "output_type": "stream",
     "text": [
      "                                                                     \r"
     ]
    },
    {
     "name": "stdout",
     "output_type": "stream",
     "text": [
      "MoviePy - Done.\n",
      "Moviepy - Writing video videos/2025-08-04-17-30-38_Animal.mp4\n",
      "\n"
     ]
    },
    {
     "name": "stderr",
     "output_type": "stream",
     "text": [
      "                                                                 \r"
     ]
    },
    {
     "name": "stdout",
     "output_type": "stream",
     "text": [
      "Moviepy - Done !\n",
      "Moviepy - video ready videos/2025-08-04-17-30-38_Animal.mp4\n",
      "Video saved successfully and temporary file removed.\n",
      "Celeb Elon Musk\n"
     ]
    },
    {
     "name": "stderr",
     "output_type": "stream",
     "text": [
      "The following part of your input was truncated because CLIP can only handle sequences up to 77 tokens: ['details , octane render , photorealistic . , 8 k , best quality , masterpiece , photorealistic , ultra - detailed , sharp focus']\n"
     ]
    },
    {
     "name": "stdout",
     "output_type": "stream",
     "text": [
      "{'prompt': 'A hyperrealistic, vibrant digital painting of Elon Musk, age 52, standing on Mars, gazing at Earth. He wears a futuristic spacesuit with subtle Tesla branding. The Martian landscape is a mix of red dunes and rocky outcrops, bathed in the warm glow of a distant sun. Dramatic lighting, cinematic composition, 8k resolution, intricate details, octane render, photorealistic.', 'negative_prompt': 'cartoon, anime, sketch, drawing, painting, blurry, deformed, distorted, low resolution, poorly drawn hands, extra fingers, bad anatomy, unrealistic, ugly, watermark, text, signature', 'fact': 'Musk named his first company Zip2. It helped newspapers transition to online presence, a surprisingly crucial early internet step!'}\n"
     ]
    },
    {
     "data": {
      "application/vnd.jupyter.widget-view+json": {
       "model_id": "5a9b0fc9e4284c05a1643806a82e4df5",
       "version_major": 2,
       "version_minor": 0
      },
      "text/plain": [
       "  0%|          | 0/100 [00:00<?, ?it/s]"
      ]
     },
     "metadata": {},
     "output_type": "display_data"
    },
    {
     "name": "stdout",
     "output_type": "stream",
     "text": [
      "Saving video to videos/2025-08-04-17-32-19_Celeb.mp4...\n",
      "Moviepy - Building video videos/2025-08-04-17-32-19_Celeb.mp4.\n",
      "MoviePy - Writing audio in 2025-08-04-17-32-19_CelebTEMP_MPY_wvf_snd.mp4\n"
     ]
    },
    {
     "name": "stderr",
     "output_type": "stream",
     "text": [
      "                                                                     \r"
     ]
    },
    {
     "name": "stdout",
     "output_type": "stream",
     "text": [
      "MoviePy - Done.\n",
      "Moviepy - Writing video videos/2025-08-04-17-32-19_Celeb.mp4\n",
      "\n"
     ]
    },
    {
     "name": "stderr",
     "output_type": "stream",
     "text": [
      "                                                                 \r"
     ]
    },
    {
     "name": "stdout",
     "output_type": "stream",
     "text": [
      "Moviepy - Done !\n",
      "Moviepy - video ready videos/2025-08-04-17-32-19_Celeb.mp4\n",
      "Video saved successfully and temporary file removed.\n",
      "Animal Ostrich\n"
     ]
    },
    {
     "name": "stderr",
     "output_type": "stream",
     "text": [
      "The following part of your input was truncated because CLIP can only handle sequences up to 77 tokens: ['best quality , masterpiece , photorealistic , ultra - detailed , sharp focus']\n"
     ]
    },
    {
     "name": "stdout",
     "output_type": "stream",
     "text": [
      "{'prompt': 'A majestic ostrich, feathers shimmering silver in the moonlight, stands silhouetted against a vast, star-strewn African savanna. Full moon dominates the sky, casting long, dramatic shadows. Highly detailed, photorealistic, cinematic lighting, 8k resolution, hyperrealism, volumetric lighting, dust particles in the air.', 'negative_prompt': 'cartoon, anime, painting, drawing, sketch, blurry, low resolution, text, watermark, signature, human, people, buildings, daytime, flat lighting, oversaturated, unrealistic', 'fact': 'Ostriches can sleep standing up! They often tuck their heads down to rest, but remain upright for safety.'}\n"
     ]
    },
    {
     "data": {
      "application/vnd.jupyter.widget-view+json": {
       "model_id": "fd2402dcfc1e406d9937e2d2ea4ce202",
       "version_major": 2,
       "version_minor": 0
      },
      "text/plain": [
       "  0%|          | 0/100 [00:00<?, ?it/s]"
      ]
     },
     "metadata": {},
     "output_type": "display_data"
    },
    {
     "name": "stdout",
     "output_type": "stream",
     "text": [
      "Saving video to videos/2025-08-04-17-33-54_Animal.mp4...\n",
      "Moviepy - Building video videos/2025-08-04-17-33-54_Animal.mp4.\n",
      "MoviePy - Writing audio in 2025-08-04-17-33-54_AnimalTEMP_MPY_wvf_snd.mp4\n"
     ]
    },
    {
     "name": "stderr",
     "output_type": "stream",
     "text": [
      "                                                                      \r"
     ]
    },
    {
     "name": "stdout",
     "output_type": "stream",
     "text": [
      "MoviePy - Done.\n",
      "Moviepy - Writing video videos/2025-08-04-17-33-54_Animal.mp4\n",
      "\n"
     ]
    },
    {
     "name": "stderr",
     "output_type": "stream",
     "text": [
      "                                                                 \r"
     ]
    },
    {
     "name": "stdout",
     "output_type": "stream",
     "text": [
      "Moviepy - Done !\n",
      "Moviepy - video ready videos/2025-08-04-17-33-54_Animal.mp4\n",
      "Video saved successfully and temporary file removed.\n",
      "Animal Hamster\n"
     ]
    },
    {
     "name": "stderr",
     "output_type": "stream",
     "text": [
      "The following part of your input was truncated because CLIP can only handle sequences up to 77 tokens: ['art by greg rutkowski and alphonse mucha . , 8 k , best quality , masterpiece , photorealistic , ultra - detailed , sharp focus']\n"
     ]
    },
    {
     "name": "stdout",
     "output_type": "stream",
     "text": [
      "{'prompt': \"A hyperrealistic digital painting of a Syrian hamster, fluffy and golden, perched on a miniature, ornate Victorian birdcage overflowing with sunflowers. Soft, diffused light filters through the cage, highlighting the hamster's whiskers and tiny paws. Detailed fur texture, bokeh background of a cozy, book-lined study. Warm, inviting color palette. Art by Greg Rutkowski and Alphonse Mucha.\", 'negative_prompt': 'cartoon, drawing, sketch, low quality, blurry, deformed, unrealistic, human, people, text, watermark, signature, abstract, monochrome, grayscale, 3D render, plastic, toy', 'fact': 'Hamsters can squeeze through surprisingly small spaces  sometimes just half their body width! '}\n"
     ]
    },
    {
     "data": {
      "application/vnd.jupyter.widget-view+json": {
       "model_id": "b6253307fce0470badebba6545161a60",
       "version_major": 2,
       "version_minor": 0
      },
      "text/plain": [
       "  0%|          | 0/100 [00:00<?, ?it/s]"
      ]
     },
     "metadata": {},
     "output_type": "display_data"
    },
    {
     "name": "stdout",
     "output_type": "stream",
     "text": [
      "Saving video to videos/2025-08-04-17-35-31_Animal.mp4...\n",
      "Moviepy - Building video videos/2025-08-04-17-35-31_Animal.mp4.\n",
      "MoviePy - Writing audio in 2025-08-04-17-35-31_AnimalTEMP_MPY_wvf_snd.mp4\n"
     ]
    },
    {
     "name": "stderr",
     "output_type": "stream",
     "text": [
      "                                                                     \r"
     ]
    },
    {
     "name": "stdout",
     "output_type": "stream",
     "text": [
      "MoviePy - Done.\n",
      "Moviepy - Writing video videos/2025-08-04-17-35-31_Animal.mp4\n",
      "\n"
     ]
    },
    {
     "name": "stderr",
     "output_type": "stream",
     "text": [
      "                                                                 \r"
     ]
    },
    {
     "name": "stdout",
     "output_type": "stream",
     "text": [
      "Moviepy - Done !\n",
      "Moviepy - video ready videos/2025-08-04-17-35-31_Animal.mp4\n",
      "Video saved successfully and temporary file removed.\n",
      "Building Colosseum (Italy)\n"
     ]
    },
    {
     "name": "stderr",
     "output_type": "stream",
     "text": [
      "The following part of your input was truncated because CLIP can only handle sequences up to 77 tokens: ['of romantic grandeur . photorealistic details , high resolution , 8 k . , 8 k , best quality , masterpiece , photorealistic , ultra - detailed , sharp focus']\n"
     ]
    },
    {
     "name": "stdout",
     "output_type": "stream",
     "text": [
      "{'prompt': 'A breathtaking panoramic view of the Colosseum in Rome, Italy, bathed in the golden light of a late afternoon. Dramatic sky with swirling clouds. Detailed stonework, crumbling yet majestic. Captured in the style of a late 19th-century oil painting by Albert Bierstadt, with rich textures, warm color palette, and a sense of romantic grandeur. Photorealistic details, high resolution, 8k.', 'negative_prompt': 'cartoon, anime, modern, digital art, photomanipulation, blurry, low resolution, people, text, signature, watermark, unrealistic, plastic, smooth, oversaturated', 'fact': \"The Colosseum's arena floor was originally wooden, covered in sand to absorb blood during gladiatorial contests. #history #rome\"}\n"
     ]
    },
    {
     "data": {
      "application/vnd.jupyter.widget-view+json": {
       "model_id": "5f7420e19e2b4762a9bf3983cdbe83ba",
       "version_major": 2,
       "version_minor": 0
      },
      "text/plain": [
       "  0%|          | 0/100 [00:00<?, ?it/s]"
      ]
     },
     "metadata": {},
     "output_type": "display_data"
    },
    {
     "name": "stdout",
     "output_type": "stream",
     "text": [
      "Saving video to videos/2025-08-04-17-37-11_Building.mp4...\n",
      "Moviepy - Building video videos/2025-08-04-17-37-11_Building.mp4.\n",
      "MoviePy - Writing audio in 2025-08-04-17-37-11_BuildingTEMP_MPY_wvf_snd.mp4\n"
     ]
    },
    {
     "name": "stderr",
     "output_type": "stream",
     "text": [
      "                                                                     \r"
     ]
    },
    {
     "name": "stdout",
     "output_type": "stream",
     "text": [
      "MoviePy - Done.\n",
      "Moviepy - Writing video videos/2025-08-04-17-37-11_Building.mp4\n",
      "\n"
     ]
    },
    {
     "name": "stderr",
     "output_type": "stream",
     "text": [
      "                                                                 \r"
     ]
    },
    {
     "name": "stdout",
     "output_type": "stream",
     "text": [
      "Moviepy - Done !\n",
      "Moviepy - video ready videos/2025-08-04-17-37-11_Building.mp4\n",
      "Video saved successfully and temporary file removed.\n",
      "Place Tel Aviv (Israel)\n"
     ]
    },
    {
     "name": "stderr",
     "output_type": "stream",
     "text": [
      "The following part of your input was truncated because CLIP can only handle sequences up to 77 tokens: ['highly detailed , cinematic lighting , blade runner aesthetic , vibrant neon pinks , blues , and greens , volumetric lighting , 8 k resolution . , 8 k , best quality , masterpiece , photorealistic , ultra - detailed , sharp focus']\n"
     ]
    },
    {
     "name": "stdout",
     "output_type": "stream",
     "text": [
      "{'prompt': \"Cyberpunk Tel Aviv, 2077. Rain-slicked streets reflecting neon signs in Hebrew and English. Towering, decaying Bauhaus architecture interwoven with holographic advertisements for 'Cyber-Falafel' and 'Neural Mesh Implants'. A lone figure in a reflective trench coat walks past a bustling market, drones flitting overhead. Highly detailed, cinematic lighting, Blade Runner aesthetic, vibrant neon pinks, blues, and greens, volumetric lighting, 8k resolution.\", 'negative_prompt': \"photorealistic, realistic, blurry, low resolution, daytime, overcast, muted colors, grainy, desaturated, people's faces, symmetrical, amateurish, traditional, natural light, ugly, deformed\", 'fact': \"'Nachlat Binyamin' market in Tel Aviv was once a shantytown, now a vibrant cyberpunk bazaar! #TelAviv #Cyberpunk\"}\n"
     ]
    },
    {
     "data": {
      "application/vnd.jupyter.widget-view+json": {
       "model_id": "54c08d226a1f489ca5625c2e9523ddef",
       "version_major": 2,
       "version_minor": 0
      },
      "text/plain": [
       "  0%|          | 0/100 [00:00<?, ?it/s]"
      ]
     },
     "metadata": {},
     "output_type": "display_data"
    },
    {
     "name": "stdout",
     "output_type": "stream",
     "text": [
      "Saving video to videos/2025-08-04-17-38-57_Place.mp4...\n",
      "Moviepy - Building video videos/2025-08-04-17-38-57_Place.mp4.\n",
      "MoviePy - Writing audio in 2025-08-04-17-38-57_PlaceTEMP_MPY_wvf_snd.mp4\n"
     ]
    },
    {
     "name": "stderr",
     "output_type": "stream",
     "text": [
      "                                                                     \r"
     ]
    },
    {
     "name": "stdout",
     "output_type": "stream",
     "text": [
      "MoviePy - Done.\n",
      "Moviepy - Writing video videos/2025-08-04-17-38-57_Place.mp4\n",
      "\n"
     ]
    },
    {
     "name": "stderr",
     "output_type": "stream",
     "text": [
      "                                                                 \r"
     ]
    },
    {
     "name": "stdout",
     "output_type": "stream",
     "text": [
      "Moviepy - Done !\n",
      "Moviepy - video ready videos/2025-08-04-17-38-57_Place.mp4\n",
      "Video saved successfully and temporary file removed.\n",
      "Place Singapore (Singapore)\n"
     ]
    },
    {
     "name": "stderr",
     "output_type": "stream",
     "text": [
      "The following part of your input was truncated because CLIP can only handle sequences up to 77 tokens: [', sharp focus']\n"
     ]
    },
    {
     "name": "stdout",
     "output_type": "stream",
     "text": [
      "{'prompt': 'Ultra-detailed, cinematic photograph of Singapore skyline at dusk. Lush, vibrant greenery interwoven with sleek, modern architecture. Soft, diffused lighting, emphasizing the Marina Bay Sands and Supertrees. Clean lines, minimalist composition, photorealistic, 8k, Hasselblad.', 'negative_prompt': 'blurry, noisy, low resolution, distorted, ugly, cartoon, painting, drawing, anime, people, watermark, signature, text, artifacts, oversaturated, unrealistic, chaotic', 'fact': \"Singapore's 'Gardens by the Bay' uses over 18 vertical gardens on Supertrees, mimicking the rainforest canopy!\"}\n"
     ]
    },
    {
     "data": {
      "application/vnd.jupyter.widget-view+json": {
       "model_id": "829daf79764b4b0ea5edec91e0cca310",
       "version_major": 2,
       "version_minor": 0
      },
      "text/plain": [
       "  0%|          | 0/100 [00:00<?, ?it/s]"
      ]
     },
     "metadata": {},
     "output_type": "display_data"
    },
    {
     "name": "stdout",
     "output_type": "stream",
     "text": [
      "Saving video to videos/2025-08-04-17-40-32_Place.mp4...\n",
      "Moviepy - Building video videos/2025-08-04-17-40-32_Place.mp4.\n",
      "MoviePy - Writing audio in 2025-08-04-17-40-32_PlaceTEMP_MPY_wvf_snd.mp4\n"
     ]
    },
    {
     "name": "stderr",
     "output_type": "stream",
     "text": [
      "                                                                     \r"
     ]
    },
    {
     "name": "stdout",
     "output_type": "stream",
     "text": [
      "MoviePy - Done.\n",
      "Moviepy - Writing video videos/2025-08-04-17-40-32_Place.mp4\n",
      "\n"
     ]
    },
    {
     "name": "stderr",
     "output_type": "stream",
     "text": [
      "                                                                 \r"
     ]
    },
    {
     "name": "stdout",
     "output_type": "stream",
     "text": [
      "Moviepy - Done !\n",
      "Moviepy - video ready videos/2025-08-04-17-40-32_Place.mp4\n",
      "Video saved successfully and temporary file removed.\n",
      "Animal Eagle\n"
     ]
    },
    {
     "name": "stderr",
     "output_type": "stream",
     "text": [
      "The following part of your input was truncated because CLIP can only handle sequences up to 77 tokens: [', best quality , masterpiece , photorealistic , ultra - detailed , sharp focus']\n"
     ]
    },
    {
     "name": "stdout",
     "output_type": "stream",
     "text": [
      "{'prompt': \"A majestic bald eagle, wings fully extended in a dramatic ascent against a stormy, twilight sky. Sharp focus on the eagle's piercing eyes, feathers ruffled by the wind. Cinematic lighting, volumetric light rays piercing through the clouds. Hyperrealistic, 8k, detailed textures, photorealistic, dramatic composition, Ansel Adams inspired.\", 'negative_prompt': 'blurry, low resolution, cartoon, painting, drawing, sketch, unrealistic, deformed, mutated, text, watermark, signature, people, buildings, blurry background, multiple eagles, out of frame', 'fact': 'Eagles can see prey from up to 8 miles away! Their eyesight is 4-8x sharper than humans.'}\n"
     ]
    },
    {
     "data": {
      "application/vnd.jupyter.widget-view+json": {
       "model_id": "a67fb905c2544142ba8bfd2839e30e5e",
       "version_major": 2,
       "version_minor": 0
      },
      "text/plain": [
       "  0%|          | 0/100 [00:00<?, ?it/s]"
      ]
     },
     "metadata": {},
     "output_type": "display_data"
    },
    {
     "name": "stdout",
     "output_type": "stream",
     "text": [
      "Saving video to videos/2025-08-04-17-42-11_Animal.mp4...\n",
      "Moviepy - Building video videos/2025-08-04-17-42-11_Animal.mp4.\n",
      "MoviePy - Writing audio in 2025-08-04-17-42-11_AnimalTEMP_MPY_wvf_snd.mp4\n"
     ]
    },
    {
     "name": "stderr",
     "output_type": "stream",
     "text": [
      "                                                                     \r"
     ]
    },
    {
     "name": "stdout",
     "output_type": "stream",
     "text": [
      "MoviePy - Done.\n",
      "Moviepy - Writing video videos/2025-08-04-17-42-11_Animal.mp4\n",
      "\n"
     ]
    },
    {
     "name": "stderr",
     "output_type": "stream",
     "text": [
      "                                                                 \r"
     ]
    },
    {
     "name": "stdout",
     "output_type": "stream",
     "text": [
      "Moviepy - Done !\n",
      "Moviepy - video ready videos/2025-08-04-17-42-11_Animal.mp4\n",
      "Video saved successfully and temporary file removed.\n",
      "Place Verona (Italy)\n"
     ]
    },
    {
     "name": "stderr",
     "output_type": "stream",
     "text": [
      "The following part of your input was truncated because CLIP can only handle sequences up to 77 tokens: ['painting , hyperdetailed , trending on artstation . , 8 k , best quality , masterpiece , photorealistic , ultra - detailed , sharp focus']\n"
     ]
    },
    {
     "name": "stdout",
     "output_type": "stream",
     "text": [
      "{'prompt': \"A dreamscape of Verona, Italy. Juliet's balcony melts into a cascade of blooming wisteria vines that drip honey onto cobblestone streets populated by clockwork gondolas. The Arena is a giant, iridescent seashell, echoing with the laughter of disembodied voices. Soft, diffused light, ethereal, dreamlike, surrealist painting, hyperdetailed, trending on Artstation.\", 'negative_prompt': 'realistic, photograph, photo, mundane, dull, sharp focus, harsh lighting, modern, buildings, people, text, signatures, watermark, blurry, noise, oversaturated', 'fact': \"Verona's Arena once hosted gladiatorial combats & public executions, a stark contrast to its romantic reputation today. \"}\n"
     ]
    },
    {
     "data": {
      "application/vnd.jupyter.widget-view+json": {
       "model_id": "ee6f1b1dd1b24c33a46e997a9339f791",
       "version_major": 2,
       "version_minor": 0
      },
      "text/plain": [
       "  0%|          | 0/100 [00:00<?, ?it/s]"
      ]
     },
     "metadata": {},
     "output_type": "display_data"
    },
    {
     "name": "stdout",
     "output_type": "stream",
     "text": [
      "Saving video to videos/2025-08-04-17-43-51_Place.mp4...\n",
      "Moviepy - Building video videos/2025-08-04-17-43-51_Place.mp4.\n",
      "MoviePy - Writing audio in 2025-08-04-17-43-51_PlaceTEMP_MPY_wvf_snd.mp4\n"
     ]
    },
    {
     "name": "stderr",
     "output_type": "stream",
     "text": [
      "                                                                     \r"
     ]
    },
    {
     "name": "stdout",
     "output_type": "stream",
     "text": [
      "MoviePy - Done.\n",
      "Moviepy - Writing video videos/2025-08-04-17-43-51_Place.mp4\n",
      "\n"
     ]
    },
    {
     "name": "stderr",
     "output_type": "stream",
     "text": [
      "                                                                 \r"
     ]
    },
    {
     "name": "stdout",
     "output_type": "stream",
     "text": [
      "Moviepy - Done !\n",
      "Moviepy - video ready videos/2025-08-04-17-43-51_Place.mp4\n",
      "Video saved successfully and temporary file removed.\n",
      "Animal Crab\n"
     ]
    },
    {
     "name": "stderr",
     "output_type": "stream",
     "text": [
      "The following part of your input was truncated because CLIP can only handle sequences up to 77 tokens: ['8 k , best quality , masterpiece , photorealistic , ultra - detailed , sharp focus']\n"
     ]
    },
    {
     "name": "stdout",
     "output_type": "stream",
     "text": [
      "{'prompt': 'A vibrant, hyperrealistic photograph of a Dungeness crab emerging from the shallow, sun-dappled waters at dawn. Soft, ethereal glow illuminating its shell, highlighting intricate details of its claws and legs. Shallow depth of field, bokeh background of seaweed and sand. 8k, photorealistic, cinematic lighting, award-winning photography.', 'negative_prompt': 'cartoon, anime, painting, illustration, drawing, sketch, unrealistic, blurry, deformed, low quality, artifacts, text, watermark, signature, human, people', 'fact': 'Crabs can breathe underwater! They extract oxygen from water using gills, similar to fish. '}\n"
     ]
    },
    {
     "data": {
      "application/vnd.jupyter.widget-view+json": {
       "model_id": "d24931ef673d4620be8d0c7a2b5ff6dd",
       "version_major": 2,
       "version_minor": 0
      },
      "text/plain": [
       "  0%|          | 0/100 [00:00<?, ?it/s]"
      ]
     },
     "metadata": {},
     "output_type": "display_data"
    },
    {
     "name": "stdout",
     "output_type": "stream",
     "text": [
      "Saving video to videos/2025-08-04-17-45-29_Animal.mp4...\n",
      "Moviepy - Building video videos/2025-08-04-17-45-29_Animal.mp4.\n",
      "MoviePy - Writing audio in 2025-08-04-17-45-29_AnimalTEMP_MPY_wvf_snd.mp4\n"
     ]
    },
    {
     "name": "stderr",
     "output_type": "stream",
     "text": [
      "                                                                     \r"
     ]
    },
    {
     "name": "stdout",
     "output_type": "stream",
     "text": [
      "MoviePy - Done.\n",
      "Moviepy - Writing video videos/2025-08-04-17-45-29_Animal.mp4\n",
      "\n"
     ]
    },
    {
     "name": "stderr",
     "output_type": "stream",
     "text": [
      "                                                                 \r"
     ]
    },
    {
     "name": "stdout",
     "output_type": "stream",
     "text": [
      "Moviepy - Done !\n",
      "Moviepy - video ready videos/2025-08-04-17-45-29_Animal.mp4\n",
      "Video saved successfully and temporary file removed.\n",
      "Celeb Queen Victoria\n"
     ]
    },
    {
     "name": "stderr",
     "output_type": "stream",
     "text": [
      "The following part of your input was truncated because CLIP can only handle sequences up to 77 tokens: ['quality , masterpiece , photorealistic , ultra - detailed , sharp focus']\n"
     ]
    },
    {
     "name": "stdout",
     "output_type": "stream",
     "text": [
      "{'prompt': 'Queen Victoria, regal portrait, late afternoon light filtering through stained glass, elaborate mourning dress, intricate lace, heavy jewelry, a hint of melancholy in her eyes, Victorian era, oil painting, dramatic chiaroscuro, detailed background of Windsor Castle gardens, painterly brushstrokes, high resolution, 8k, masterpiece.', 'negative_prompt': 'cartoon, anime, photorealistic, modern, blurry, deformed, bad anatomy, low resolution, digital art, abstract, flat, simplistic, plastic, CGI', 'fact': 'Victoria was the first British monarch to celebrate a birthday with a public holiday! #QueenVictoria #History'}\n"
     ]
    },
    {
     "data": {
      "application/vnd.jupyter.widget-view+json": {
       "model_id": "66b796a353074af2a0f6927dd4347d54",
       "version_major": 2,
       "version_minor": 0
      },
      "text/plain": [
       "  0%|          | 0/100 [00:00<?, ?it/s]"
      ]
     },
     "metadata": {},
     "output_type": "display_data"
    },
    {
     "name": "stdout",
     "output_type": "stream",
     "text": [
      "Saving video to videos/2025-08-04-17-47-02_Celeb.mp4...\n",
      "Moviepy - Building video videos/2025-08-04-17-47-02_Celeb.mp4.\n",
      "MoviePy - Writing audio in 2025-08-04-17-47-02_CelebTEMP_MPY_wvf_snd.mp4\n"
     ]
    },
    {
     "name": "stderr",
     "output_type": "stream",
     "text": [
      "                                                                     \r"
     ]
    },
    {
     "name": "stdout",
     "output_type": "stream",
     "text": [
      "MoviePy - Done.\n",
      "Moviepy - Writing video videos/2025-08-04-17-47-02_Celeb.mp4\n",
      "\n"
     ]
    },
    {
     "name": "stderr",
     "output_type": "stream",
     "text": [
      "                                                                 \r"
     ]
    },
    {
     "name": "stdout",
     "output_type": "stream",
     "text": [
      "Moviepy - Done !\n",
      "Moviepy - video ready videos/2025-08-04-17-47-02_Celeb.mp4\n",
      "Video saved successfully and temporary file removed.\n",
      "Building Willis (Sears) Tower (USA)\n"
     ]
    },
    {
     "name": "stderr",
     "output_type": "stream",
     "text": [
      "The following part of your input was truncated because CLIP can only handle sequences up to 77 tokens: [', 8 k , best quality , masterpiece , photorealistic , ultra - detailed , sharp focus']\n"
     ]
    },
    {
     "name": "stdout",
     "output_type": "stream",
     "text": [
      "{'prompt': 'A breathtaking dawn view of the Willis (Sears) Tower in Chicago, USA. Soft, ethereal golden light bathes the building, highlighting its architectural details. Wisps of morning mist cling to the lower levels, creating a sense of mystery and grandeur. Photorealistic, 8k, volumetric lighting, cinematic composition, detailed textures, atmospheric perspective.', 'negative_prompt': 'blurry, grainy, low resolution, night, darkness, harsh lighting, cartoon, drawing, painting, unrealistic, people, cars, daytime, flat, dull colors, oversaturated, watermark, signature, text', 'fact': \"Originally named the Sears Tower, it was the world's tallest building for 25 years (1973-1998)!\"}\n"
     ]
    },
    {
     "data": {
      "application/vnd.jupyter.widget-view+json": {
       "model_id": "07740228dc574b63bde86d4181dd8f6b",
       "version_major": 2,
       "version_minor": 0
      },
      "text/plain": [
       "  0%|          | 0/100 [00:00<?, ?it/s]"
      ]
     },
     "metadata": {},
     "output_type": "display_data"
    },
    {
     "name": "stdout",
     "output_type": "stream",
     "text": [
      "Saving video to videos/2025-08-04-17-48-44_Building.mp4...\n",
      "Moviepy - Building video videos/2025-08-04-17-48-44_Building.mp4.\n",
      "MoviePy - Writing audio in 2025-08-04-17-48-44_BuildingTEMP_MPY_wvf_snd.mp4\n"
     ]
    },
    {
     "name": "stderr",
     "output_type": "stream",
     "text": [
      "                                                                     \r"
     ]
    },
    {
     "name": "stdout",
     "output_type": "stream",
     "text": [
      "MoviePy - Done.\n",
      "Moviepy - Writing video videos/2025-08-04-17-48-44_Building.mp4\n",
      "\n"
     ]
    },
    {
     "name": "stderr",
     "output_type": "stream",
     "text": [
      "                                                                 \r"
     ]
    },
    {
     "name": "stdout",
     "output_type": "stream",
     "text": [
      "Moviepy - Done !\n",
      "Moviepy - video ready videos/2025-08-04-17-48-44_Building.mp4\n",
      "Video saved successfully and temporary file removed.\n",
      "Place St. Petersburg (Russia)\n"
     ]
    },
    {
     "name": "stderr",
     "output_type": "stream",
     "text": [
      "The following part of your input was truncated because CLIP can only handle sequences up to 77 tokens: ['8 k . , 8 k , best quality , masterpiece , photorealistic , ultra - detailed , sharp focus']\n"
     ]
    },
    {
     "name": "stdout",
     "output_type": "stream",
     "text": [
      "{'prompt': 'A melancholic, gilded St. Petersburg. Canals flow upwards, reflecting fractured baroque architecture. Swans with clockwork wings navigate the reversed gravity. A single, oversized sunflower blooms in Palace Square, its petals swirling with falling snow. Dreamlike, surreal, oil painting, atmospheric, volumetric lighting, Art Deco influences, muted colors, highly detailed, 8k.', 'negative_prompt': 'photorealistic, realistic, modern, clear sky, bright colors, people, cars, buildings intact, daytime, sharp focus, blurry, cartoon, anime, low quality, text, signature, watermark', 'fact': 'St. Petersburg was initially called Sankt Pieterburg, named for Saint Peter, but quickly shortened by locals! '}\n"
     ]
    },
    {
     "data": {
      "application/vnd.jupyter.widget-view+json": {
       "model_id": "1fdd71c0c40c4dafa66a23ddc824c17d",
       "version_major": 2,
       "version_minor": 0
      },
      "text/plain": [
       "  0%|          | 0/100 [00:00<?, ?it/s]"
      ]
     },
     "metadata": {},
     "output_type": "display_data"
    },
    {
     "name": "stdout",
     "output_type": "stream",
     "text": [
      "Saving video to videos/2025-08-04-17-50-24_Place.mp4...\n",
      "Moviepy - Building video videos/2025-08-04-17-50-24_Place.mp4.\n",
      "MoviePy - Writing audio in 2025-08-04-17-50-24_PlaceTEMP_MPY_wvf_snd.mp4\n"
     ]
    },
    {
     "name": "stderr",
     "output_type": "stream",
     "text": [
      "                                                                     \r"
     ]
    },
    {
     "name": "stdout",
     "output_type": "stream",
     "text": [
      "MoviePy - Done.\n",
      "Moviepy - Writing video videos/2025-08-04-17-50-24_Place.mp4\n",
      "\n"
     ]
    },
    {
     "name": "stderr",
     "output_type": "stream",
     "text": [
      "                                                                 \r"
     ]
    },
    {
     "name": "stdout",
     "output_type": "stream",
     "text": [
      "Moviepy - Done !\n",
      "Moviepy - video ready videos/2025-08-04-17-50-24_Place.mp4\n",
      "Video saved successfully and temporary file removed.\n",
      "Animal Sheep\n"
     ]
    },
    {
     "name": "stderr",
     "output_type": "stream",
     "text": [
      "The following part of your input was truncated because CLIP can only handle sequences up to 77 tokens: ['highly detailed , masterpiece . , 8 k , best quality , masterpiece , photorealistic , ultra - detailed , sharp focus']\n"
     ]
    },
    {
     "name": "stdout",
     "output_type": "stream",
     "text": [
      "{'prompt': 'A flock of sheep graze peacefully in a rolling, sun-drenched meadow, rendered in the style of a 19th-century pastoral painting by Albert Pinkham Ryder. Soft, diffused light, muted color palette of blues, greens, and browns. Detailed wool texture, atmospheric perspective. Gentle breeze rustling the grass.  Oil on canvas, highly detailed, masterpiece.', 'negative_prompt': 'photorealistic, modern, digital art, sharp focus, vibrant colors, cartoon, unrealistic, futuristic, CGI, plastic, overly saturated, harsh lighting', 'fact': 'Sheep can recognize faces! They form social bonds and remember individuals for years, showing surprising intelligence. '}\n"
     ]
    },
    {
     "data": {
      "application/vnd.jupyter.widget-view+json": {
       "model_id": "5a958299e23a43cf865d2e69e7b4026d",
       "version_major": 2,
       "version_minor": 0
      },
      "text/plain": [
       "  0%|          | 0/100 [00:00<?, ?it/s]"
      ]
     },
     "metadata": {},
     "output_type": "display_data"
    },
    {
     "name": "stdout",
     "output_type": "stream",
     "text": [
      "Saving video to videos/2025-08-04-17-51-58_Animal.mp4...\n",
      "Moviepy - Building video videos/2025-08-04-17-51-58_Animal.mp4.\n",
      "MoviePy - Writing audio in 2025-08-04-17-51-58_AnimalTEMP_MPY_wvf_snd.mp4\n"
     ]
    },
    {
     "name": "stderr",
     "output_type": "stream",
     "text": [
      "                                                                      \r"
     ]
    },
    {
     "name": "stdout",
     "output_type": "stream",
     "text": [
      "MoviePy - Done.\n",
      "Moviepy - Writing video videos/2025-08-04-17-51-58_Animal.mp4\n",
      "\n"
     ]
    },
    {
     "name": "stderr",
     "output_type": "stream",
     "text": [
      "                                                                 \r"
     ]
    },
    {
     "name": "stdout",
     "output_type": "stream",
     "text": [
      "Moviepy - Done !\n",
      "Moviepy - video ready videos/2025-08-04-17-51-58_Animal.mp4\n",
      "Video saved successfully and temporary file removed.\n",
      "Place Lisbon (Portugal)\n"
     ]
    },
    {
     "name": "stderr",
     "output_type": "stream",
     "text": [
      "The following part of your input was truncated because CLIP can only handle sequences up to 77 tokens: ['quality , masterpiece , photorealistic , ultra - detailed , sharp focus']\n"
     ]
    },
    {
     "name": "stdout",
     "output_type": "stream",
     "text": [
      "{'prompt': 'A sun-drenched panoramic view of Lisbon, Portugal. Pastel-colored buildings cascade down hills towards the Tagus River. Alfama district visible, with a single, vintage yellow tram winding through the narrow streets. Soft, golden hour lighting. Clean lines, minimalist composition, photorealistic, 8k resolution, architectural photography.', 'negative_prompt': 'blurry, noisy, distorted, cartoon, anime, painting, sketch, unrealistic, crowded, dark, shadows, graffiti, modern architecture, cars, people', 'fact': \"Lisbon is one of Europe's oldest cities, predating even London! Founded ~235 BC by the Phoenicians.\"}\n"
     ]
    },
    {
     "data": {
      "application/vnd.jupyter.widget-view+json": {
       "model_id": "d1dbb43bee304445b349991460cb9ec7",
       "version_major": 2,
       "version_minor": 0
      },
      "text/plain": [
       "  0%|          | 0/100 [00:00<?, ?it/s]"
      ]
     },
     "metadata": {},
     "output_type": "display_data"
    },
    {
     "name": "stdout",
     "output_type": "stream",
     "text": [
      "Saving video to videos/2025-08-04-17-53-35_Place.mp4...\n",
      "Moviepy - Building video videos/2025-08-04-17-53-35_Place.mp4.\n",
      "MoviePy - Writing audio in 2025-08-04-17-53-35_PlaceTEMP_MPY_wvf_snd.mp4\n"
     ]
    },
    {
     "name": "stderr",
     "output_type": "stream",
     "text": [
      "                                                                     \r"
     ]
    },
    {
     "name": "stdout",
     "output_type": "stream",
     "text": [
      "MoviePy - Done.\n",
      "Moviepy - Writing video videos/2025-08-04-17-53-35_Place.mp4\n",
      "\n"
     ]
    },
    {
     "name": "stderr",
     "output_type": "stream",
     "text": [
      "                                                                 \r"
     ]
    },
    {
     "name": "stdout",
     "output_type": "stream",
     "text": [
      "Moviepy - Done !\n",
      "Moviepy - video ready videos/2025-08-04-17-53-35_Place.mp4\n",
      "Video saved successfully and temporary file removed.\n",
      "Place Edinburgh (United Kingdom)\n"
     ]
    },
    {
     "name": "stderr",
     "output_type": "stream",
     "text": [
      "The following part of your input was truncated because CLIP can only handle sequences up to 77 tokens: [', atmospheric perspective , inspired by j . m . w . turner . , 8 k , best quality , masterpiece , photorealistic , ultra - detailed , sharp focus']\n"
     ]
    },
    {
     "name": "stdout",
     "output_type": "stream",
     "text": [
      "{'prompt': \"A sweeping panoramic view of Edinburgh, Scotland, bathed in the golden light of a late afternoon. Edinburgh Castle dramatically perched atop Castle Rock, the Old Town's medieval architecture winding down towards the New Town's Georgian elegance. Mist gently clinging to the hills in the distance. Oil painting, dramatic lighting, painterly brushstrokes, rich colors, atmospheric perspective, inspired by J.M.W. Turner.\", 'negative_prompt': 'photorealistic, hyperrealism, CGI, digital art, blurry, low resolution, cartoon, anime, modern architecture, flat colors, oversaturated, artifacts, watermark, signature', 'fact': \"Edinburgh's 'New Town' was built in the 1760s, a radical urban planning experiment! #Edinburgh #Scotland\"}\n"
     ]
    },
    {
     "data": {
      "application/vnd.jupyter.widget-view+json": {
       "model_id": "79f65c8901b0417b92602a9b2188b2be",
       "version_major": 2,
       "version_minor": 0
      },
      "text/plain": [
       "  0%|          | 0/100 [00:00<?, ?it/s]"
      ]
     },
     "metadata": {},
     "output_type": "display_data"
    },
    {
     "name": "stdout",
     "output_type": "stream",
     "text": [
      "Saving video to videos/2025-08-04-17-55-16_Place.mp4...\n",
      "Moviepy - Building video videos/2025-08-04-17-55-16_Place.mp4.\n",
      "MoviePy - Writing audio in 2025-08-04-17-55-16_PlaceTEMP_MPY_wvf_snd.mp4\n"
     ]
    },
    {
     "name": "stderr",
     "output_type": "stream",
     "text": [
      "                                                                     \r"
     ]
    },
    {
     "name": "stdout",
     "output_type": "stream",
     "text": [
      "MoviePy - Done.\n",
      "Moviepy - Writing video videos/2025-08-04-17-55-16_Place.mp4\n",
      "\n"
     ]
    },
    {
     "name": "stderr",
     "output_type": "stream",
     "text": [
      "                                                                 \r"
     ]
    },
    {
     "name": "stdout",
     "output_type": "stream",
     "text": [
      "Moviepy - Done !\n",
      "Moviepy - video ready videos/2025-08-04-17-55-16_Place.mp4\n",
      "Video saved successfully and temporary file removed.\n",
      "Building Pyramids of Giza (Egypt)\n"
     ]
    },
    {
     "name": "stderr",
     "output_type": "stream",
     "text": [
      "The following part of your input was truncated because CLIP can only handle sequences up to 77 tokens: ['of john james audubon meets egyptian art . , 8 k , best quality , masterpiece , photorealistic , ultra - detailed , sharp focus']\n"
     ]
    },
    {
     "name": "stdout",
     "output_type": "stream",
     "text": [
      "{'prompt': 'A breathtaking watercolor painting of the Pyramids of Giza at sunset, viewed from a slightly elevated position overlooking the Giza plateau. Soft, diffused light highlights the weathered limestone blocks, with warm oranges and pinks reflecting in the desert sand. Include a few date palm trees silhouetted against the sky. Emphasis on texture and atmospheric perspective. Style of John James Audubon meets Egyptian art.', 'negative_prompt': 'photorealistic, sharp focus, modern, digital art, cartoon, 3D render, harsh shadows, artificial lighting, people, vehicles, text, graffiti', 'fact': 'The Great Pyramid was the tallest man-made structure for over 3,800 years!'}\n"
     ]
    },
    {
     "data": {
      "application/vnd.jupyter.widget-view+json": {
       "model_id": "27f5a2c01d6b44139011f821058d8106",
       "version_major": 2,
       "version_minor": 0
      },
      "text/plain": [
       "  0%|          | 0/100 [00:00<?, ?it/s]"
      ]
     },
     "metadata": {},
     "output_type": "display_data"
    },
    {
     "name": "stdout",
     "output_type": "stream",
     "text": [
      "Saving video to videos/2025-08-04-17-56-53_Building.mp4...\n",
      "Moviepy - Building video videos/2025-08-04-17-56-53_Building.mp4.\n",
      "MoviePy - Writing audio in 2025-08-04-17-56-53_BuildingTEMP_MPY_wvf_snd.mp4\n"
     ]
    },
    {
     "name": "stderr",
     "output_type": "stream",
     "text": [
      "                                                                     \r"
     ]
    },
    {
     "name": "stdout",
     "output_type": "stream",
     "text": [
      "MoviePy - Done.\n",
      "Moviepy - Writing video videos/2025-08-04-17-56-53_Building.mp4\n",
      "\n"
     ]
    },
    {
     "name": "stderr",
     "output_type": "stream",
     "text": [
      "                                                                 \r"
     ]
    },
    {
     "name": "stdout",
     "output_type": "stream",
     "text": [
      "Moviepy - Done !\n",
      "Moviepy - video ready videos/2025-08-04-17-56-53_Building.mp4\n",
      "Video saved successfully and temporary file removed.\n",
      "Celeb Barack Obama\n"
     ]
    },
    {
     "name": "stderr",
     "output_type": "stream",
     "text": [
      "The following part of your input was truncated because CLIP can only handle sequences up to 77 tokens: ['detailed face . , 8 k , best quality , masterpiece , photorealistic , ultra - detailed , sharp focus']\n"
     ]
    },
    {
     "name": "stdout",
     "output_type": "stream",
     "text": [
      "{'prompt': \"A vibrant digital painting of Barack Obama, aged around 35, smiling warmly, bathed in golden hour light. He's standing in a lush, stylized garden with blooming cherry blossoms, wearing a sharp, modern suit. Focus on capturing his charisma and the hope he inspired. Impressionistic brushstrokes, dynamic lighting, cinematic composition, hyperdetailed face.\", 'negative_prompt': 'blurry, grainy, photorealistic, dull colors, ugly, distorted, deformed, low resolution, text, watermark, signature, cartoon, anime, bad anatomy, extra limbs, multiple faces', 'fact': 'Obama loves basketball! He played point guard in high school and still enjoys a friendly game.'}\n"
     ]
    },
    {
     "data": {
      "application/vnd.jupyter.widget-view+json": {
       "model_id": "be9144c464bf415a99c77f58fcb7f8d4",
       "version_major": 2,
       "version_minor": 0
      },
      "text/plain": [
       "  0%|          | 0/100 [00:00<?, ?it/s]"
      ]
     },
     "metadata": {},
     "output_type": "display_data"
    },
    {
     "name": "stdout",
     "output_type": "stream",
     "text": [
      "Saving video to videos/2025-08-04-17-58-28_Celeb.mp4...\n",
      "Moviepy - Building video videos/2025-08-04-17-58-28_Celeb.mp4.\n",
      "MoviePy - Writing audio in 2025-08-04-17-58-28_CelebTEMP_MPY_wvf_snd.mp4\n"
     ]
    },
    {
     "name": "stderr",
     "output_type": "stream",
     "text": [
      "                                                                     \r"
     ]
    },
    {
     "name": "stdout",
     "output_type": "stream",
     "text": [
      "MoviePy - Done.\n",
      "Moviepy - Writing video videos/2025-08-04-17-58-28_Celeb.mp4\n",
      "\n"
     ]
    },
    {
     "name": "stderr",
     "output_type": "stream",
     "text": [
      "                                                                 \r"
     ]
    },
    {
     "name": "stdout",
     "output_type": "stream",
     "text": [
      "Moviepy - Done !\n",
      "Moviepy - video ready videos/2025-08-04-17-58-28_Celeb.mp4\n",
      "Video saved successfully and temporary file removed.\n",
      "Animal Flamingo\n"
     ]
    },
    {
     "name": "stderr",
     "output_type": "stream",
     "text": [
      "The following part of your input was truncated because CLIP can only handle sequences up to 77 tokens: ['station . , 8 k , best quality , masterpiece , photorealistic , ultra - detailed , sharp focus']\n"
     ]
    },
    {
     "name": "stdout",
     "output_type": "stream",
     "text": [
      "{'prompt': 'A flamingo, rendered in swirling, iridescent oil paints, its legs elongated and bending impossibly against a backdrop of melting clocks and lavender skies. Tiny, golden fish swim through its feathers, their scales shimmering with bioluminescence. Dreamlike, surrealist, vibrant, hyperdetailed, octane render, 8k, trending on artstation.', 'negative_prompt': 'photorealistic, realistic, dull, desaturated, blurry, low resolution, human, portrait, mundane, ordinary, harsh lighting, simple background, text, signature, watermark', 'fact': 'Flamingos get their pink color from pigments in algae & crustaceans they eat. Imagine a flock painting a sunset with their meals!'}\n"
     ]
    },
    {
     "data": {
      "application/vnd.jupyter.widget-view+json": {
       "model_id": "a48a49c8e29f4354a52a27a7c6a5f8ce",
       "version_major": 2,
       "version_minor": 0
      },
      "text/plain": [
       "  0%|          | 0/100 [00:00<?, ?it/s]"
      ]
     },
     "metadata": {},
     "output_type": "display_data"
    },
    {
     "name": "stdout",
     "output_type": "stream",
     "text": [
      "Saving video to videos/2025-08-04-18-00-05_Animal.mp4...\n",
      "Moviepy - Building video videos/2025-08-04-18-00-05_Animal.mp4.\n",
      "MoviePy - Writing audio in 2025-08-04-18-00-05_AnimalTEMP_MPY_wvf_snd.mp4\n"
     ]
    },
    {
     "name": "stderr",
     "output_type": "stream",
     "text": [
      "                                                                     \r"
     ]
    },
    {
     "name": "stdout",
     "output_type": "stream",
     "text": [
      "MoviePy - Done.\n",
      "Moviepy - Writing video videos/2025-08-04-18-00-05_Animal.mp4\n",
      "\n"
     ]
    },
    {
     "name": "stderr",
     "output_type": "stream",
     "text": [
      "                                                                 \r"
     ]
    },
    {
     "name": "stdout",
     "output_type": "stream",
     "text": [
      "Moviepy - Done !\n",
      "Moviepy - video ready videos/2025-08-04-18-00-05_Animal.mp4\n",
      "Video saved successfully and temporary file removed.\n",
      "Celeb Cleopatra\n"
     ]
    },
    {
     "name": "stderr",
     "output_type": "stream",
     "text": [
      "The following part of your input was truncated because CLIP can only handle sequences up to 77 tokens: ['. , 8 k , best quality , masterpiece , photorealistic , ultra - detailed , sharp focus']\n"
     ]
    },
    {
     "name": "stdout",
     "output_type": "stream",
     "text": [
      "{'prompt': 'A breathtaking watercolor portrait of Cleopatra VII, Queen of Egypt, regal and serene. She wears a golden diadem adorned with lapis lazuli and a flowing linen gown. Intricate hieroglyphs subtly decorate the background. Soft, diffused lighting, vibrant blues and golds, detailed facial features, flowing hair, artistic brushstrokes, cinematic quality.', 'negative_prompt': 'photorealistic, blurry, grainy, low resolution, disfigured, asymmetrical, modern clothing, plastic skin, overly saturated, harsh lighting, multiple faces, cartoon, 3D render, jpeg artifacts', 'fact': 'Cleopatra spoke multiple languages, including Egyptian (rare for Ptolemaic rulers!), demonstrating her diplomatic prowess.'}\n"
     ]
    },
    {
     "data": {
      "application/vnd.jupyter.widget-view+json": {
       "model_id": "6693b32f3a1a4f049461d8090abf52a4",
       "version_major": 2,
       "version_minor": 0
      },
      "text/plain": [
       "  0%|          | 0/100 [00:00<?, ?it/s]"
      ]
     },
     "metadata": {},
     "output_type": "display_data"
    },
    {
     "name": "stdout",
     "output_type": "stream",
     "text": [
      "Saving video to videos/2025-08-04-18-01-43_Celeb.mp4...\n",
      "Moviepy - Building video videos/2025-08-04-18-01-43_Celeb.mp4.\n",
      "MoviePy - Writing audio in 2025-08-04-18-01-43_CelebTEMP_MPY_wvf_snd.mp4\n"
     ]
    },
    {
     "name": "stderr",
     "output_type": "stream",
     "text": [
      "                                                                     \r"
     ]
    },
    {
     "name": "stdout",
     "output_type": "stream",
     "text": [
      "MoviePy - Done.\n",
      "Moviepy - Writing video videos/2025-08-04-18-01-43_Celeb.mp4\n",
      "\n"
     ]
    },
    {
     "name": "stderr",
     "output_type": "stream",
     "text": [
      "                                                                 \r"
     ]
    },
    {
     "name": "stdout",
     "output_type": "stream",
     "text": [
      "Moviepy - Done !\n",
      "Moviepy - video ready videos/2025-08-04-18-01-43_Celeb.mp4\n",
      "Video saved successfully and temporary file removed.\n",
      "Object Keyboard\n"
     ]
    },
    {
     "name": "stderr",
     "output_type": "stream",
     "text": [
      "The following part of your input was truncated because CLIP can only handle sequences up to 77 tokens: ['aesthetic , soft focus , highly detailed , intricate . , 8 k , best quality , masterpiece , photorealistic , ultra - detailed , sharp focus']\n"
     ]
    },
    {
     "name": "stdout",
     "output_type": "stream",
     "text": [
      "{'prompt': 'A meticulously detailed, antique ivory keyboard, bathed in the warm, diffused light of a Victorian study. Dust motes dance in the light beams. Ornate carvings embellish the frame. A sheet of aged parchment music rests upon the stand. Oil painting, hyperrealism, dramatic lighting, Rembrandt style, 1880s aesthetic, soft focus, highly detailed, intricate.', 'negative_prompt': 'plastic, modern, digital, blurry, low resolution, cartoon, simplistic, bright colors, harsh lighting, abstract, monochrome', 'fact': 'Early keyboards used quills that struck tuned metal rods, a precursor to hammers! '}\n"
     ]
    },
    {
     "data": {
      "application/vnd.jupyter.widget-view+json": {
       "model_id": "f833d8f4c22549ffaff3a83ccb931ecd",
       "version_major": 2,
       "version_minor": 0
      },
      "text/plain": [
       "  0%|          | 0/100 [00:00<?, ?it/s]"
      ]
     },
     "metadata": {},
     "output_type": "display_data"
    },
    {
     "name": "stdout",
     "output_type": "stream",
     "text": [
      "Saving video to videos/2025-08-04-18-03-15_Object.mp4...\n",
      "Moviepy - Building video videos/2025-08-04-18-03-15_Object.mp4.\n",
      "MoviePy - Writing audio in 2025-08-04-18-03-15_ObjectTEMP_MPY_wvf_snd.mp4\n"
     ]
    },
    {
     "name": "stderr",
     "output_type": "stream",
     "text": [
      "                                                                     \r"
     ]
    },
    {
     "name": "stdout",
     "output_type": "stream",
     "text": [
      "MoviePy - Done.\n",
      "Moviepy - Writing video videos/2025-08-04-18-03-15_Object.mp4\n",
      "\n"
     ]
    },
    {
     "name": "stderr",
     "output_type": "stream",
     "text": [
      "                                                                 \r"
     ]
    },
    {
     "name": "stdout",
     "output_type": "stream",
     "text": [
      "Moviepy - Done !\n",
      "Moviepy - video ready videos/2025-08-04-18-03-15_Object.mp4\n",
      "Video saved successfully and temporary file removed.\n",
      "Celeb Tiger Woods\n"
     ]
    },
    {
     "name": "stderr",
     "output_type": "stream",
     "text": [
      "The following part of your input was truncated because CLIP can only handle sequences up to 77 tokens: ['focus']\n"
     ]
    },
    {
     "name": "stdout",
     "output_type": "stream",
     "text": [
      "{'prompt': 'Hyperrealistic portrait of Tiger Woods, mid-swing, bathed in the ethereal glow of a full moon. Dramatic lighting, golf course background blurred with moonlight, intense focus in his eyes, highly detailed skin texture, cinematic quality, 8k resolution, octane render.', 'negative_prompt': 'cartoon, anime, illustration, painting, drawing, blurry, deformed, disfigured, unrealistic, amateur, low resolution, signature, watermark, text, oversaturated, bright daylight', 'fact': 'Tiger Woods once aced a hole at the Masters Tournament - a feat only achieved by a handful of golfers!'}\n"
     ]
    },
    {
     "data": {
      "application/vnd.jupyter.widget-view+json": {
       "model_id": "73ce7fb161be4d81ac624fd12675241f",
       "version_major": 2,
       "version_minor": 0
      },
      "text/plain": [
       "  0%|          | 0/100 [00:00<?, ?it/s]"
      ]
     },
     "metadata": {},
     "output_type": "display_data"
    },
    {
     "name": "stdout",
     "output_type": "stream",
     "text": [
      "Saving video to videos/2025-08-04-18-04-46_Celeb.mp4...\n",
      "Moviepy - Building video videos/2025-08-04-18-04-46_Celeb.mp4.\n",
      "MoviePy - Writing audio in 2025-08-04-18-04-46_CelebTEMP_MPY_wvf_snd.mp4\n"
     ]
    },
    {
     "name": "stderr",
     "output_type": "stream",
     "text": [
      "                                                                     \r"
     ]
    },
    {
     "name": "stdout",
     "output_type": "stream",
     "text": [
      "MoviePy - Done.\n",
      "Moviepy - Writing video videos/2025-08-04-18-04-46_Celeb.mp4\n",
      "\n"
     ]
    },
    {
     "name": "stderr",
     "output_type": "stream",
     "text": [
      "                                                                 \r"
     ]
    },
    {
     "name": "stdout",
     "output_type": "stream",
     "text": [
      "Moviepy - Done !\n",
      "Moviepy - video ready videos/2025-08-04-18-04-46_Celeb.mp4\n",
      "Video saved successfully and temporary file removed.\n",
      "Celeb Rembrandt\n"
     ]
    },
    {
     "name": "stderr",
     "output_type": "stream",
     "text": [
      "The following part of your input was truncated because CLIP can only handle sequences up to 77 tokens: ['detailed , sharp focus']\n"
     ]
    },
    {
     "name": "stdout",
     "output_type": "stream",
     "text": [
      "{'prompt': 'Rembrandt van Rijn, portrait, aged, intense gaze, chiaroscuro lighting, thick impasto brushstrokes, golden hour, Dutch Golden Age, elegant black attire, detailed facial features, oil painting, hyperrealistic, 8k, masterpiece. Clean background, dark.', 'negative_prompt': 'cartoon, anime, blurry, noisy, text, signature, watermark, deformed, bad anatomy, multiple faces, unrealistic, 3D render, digital art, modern clothing, vibrant colors.', 'fact': 'Rembrandt often used his own face as a model, aging himself to portray various biblical figures.'}\n"
     ]
    },
    {
     "data": {
      "application/vnd.jupyter.widget-view+json": {
       "model_id": "27bb6ffd58aa4a34b9070d6c1c256441",
       "version_major": 2,
       "version_minor": 0
      },
      "text/plain": [
       "  0%|          | 0/100 [00:00<?, ?it/s]"
      ]
     },
     "metadata": {},
     "output_type": "display_data"
    },
    {
     "name": "stdout",
     "output_type": "stream",
     "text": [
      "Saving video to videos/2025-08-04-18-06-19_Celeb.mp4...\n",
      "Moviepy - Building video videos/2025-08-04-18-06-19_Celeb.mp4.\n",
      "MoviePy - Writing audio in 2025-08-04-18-06-19_CelebTEMP_MPY_wvf_snd.mp4\n"
     ]
    },
    {
     "name": "stderr",
     "output_type": "stream",
     "text": [
      "                                                                     \r"
     ]
    },
    {
     "name": "stdout",
     "output_type": "stream",
     "text": [
      "MoviePy - Done.\n",
      "Moviepy - Writing video videos/2025-08-04-18-06-19_Celeb.mp4\n",
      "\n"
     ]
    },
    {
     "name": "stderr",
     "output_type": "stream",
     "text": [
      "                                                                 \r"
     ]
    },
    {
     "name": "stdout",
     "output_type": "stream",
     "text": [
      "Moviepy - Done !\n",
      "Moviepy - video ready videos/2025-08-04-18-06-19_Celeb.mp4\n",
      "Video saved successfully and temporary file removed.\n",
      "Object Pencil\n"
     ]
    },
    {
     "name": "stderr",
     "output_type": "stream",
     "text": [
      "The following part of your input was truncated because CLIP can only handle sequences up to 77 tokens: ['global illumination , octane render . , 8 k , best quality , masterpiece , photorealistic , ultra - detailed , sharp focus']\n"
     ]
    },
    {
     "name": "stdout",
     "output_type": "stream",
     "text": [
      "{'prompt': 'A single, exquisitely detailed graphite pencil lies dramatically across a weathered oak desk, illuminated by a single shaft of golden light filtering through a rain-streaked window. Dust motes dance in the light. Focus on the texture of the wood and graphite. Cinematic, dramatic lighting, 8k, photorealistic, hyperdetailed, volumetric lighting, global illumination, octane render.', 'negative_prompt': 'blurry, grainy, low resolution, cartoon, anime, painting, illustration, sketch, watermark, signature, text, multiple pencils, cluttered desk, bright daylight, plastic, digital art', 'fact': \"Did you know? The word 'pencil' originally referred to a small mine of graphite, not the encased writing tool we know today! \"}\n"
     ]
    },
    {
     "data": {
      "application/vnd.jupyter.widget-view+json": {
       "model_id": "1046e49425d6435ab9f4eb9c4024888f",
       "version_major": 2,
       "version_minor": 0
      },
      "text/plain": [
       "  0%|          | 0/100 [00:00<?, ?it/s]"
      ]
     },
     "metadata": {},
     "output_type": "display_data"
    },
    {
     "name": "stdout",
     "output_type": "stream",
     "text": [
      "Saving video to videos/2025-08-04-18-08-00_Object.mp4...\n",
      "Moviepy - Building video videos/2025-08-04-18-08-00_Object.mp4.\n",
      "MoviePy - Writing audio in 2025-08-04-18-08-00_ObjectTEMP_MPY_wvf_snd.mp4\n"
     ]
    },
    {
     "name": "stderr",
     "output_type": "stream",
     "text": [
      "                                                                     \r"
     ]
    },
    {
     "name": "stdout",
     "output_type": "stream",
     "text": [
      "MoviePy - Done.\n",
      "Moviepy - Writing video videos/2025-08-04-18-08-00_Object.mp4\n",
      "\n"
     ]
    },
    {
     "name": "stderr",
     "output_type": "stream",
     "text": [
      "                                                                 \r"
     ]
    },
    {
     "name": "stdout",
     "output_type": "stream",
     "text": [
      "Moviepy - Done !\n",
      "Moviepy - video ready videos/2025-08-04-18-08-00_Object.mp4\n",
      "Video saved successfully and temporary file removed.\n",
      "Object Whiteboard marker\n"
     ]
    },
    {
     "name": "stderr",
     "output_type": "stream",
     "text": [
      "The following part of your input was truncated because CLIP can only handle sequences up to 77 tokens: ['atmospheric perspective . 8 k , highly detailed , photorealistic , warm color palette , shallow depth of field . , 8 k , best quality , masterpiece , photorealistic , ultra - detailed , sharp focus']\n"
     ]
    },
    {
     "name": "stdout",
     "output_type": "stream",
     "text": [
      "{'prompt': 'A single, vibrant white whiteboard marker rests on a textured, aged wooden desk. Soft, diffused light illuminates the marker, highlighting its slightly worn cap and the subtle sheen of the ink. Background: a blurred, antique library interior with leather-bound books. Style: Oil painting, reminiscent of Johannes Vermeer, with a focus on realism and atmospheric perspective. 8k, highly detailed, photorealistic, warm color palette, shallow depth of field.', 'negative_prompt': 'cartoon, anime, drawing, sketch, digital art, blurry, low resolution, unrealistic, plastic, modern, abstract, cluttered, multiple objects', 'fact': 'Early whiteboard markers used felt tips! They were a clever adaptation of older felt-pen technology.'}\n"
     ]
    },
    {
     "data": {
      "application/vnd.jupyter.widget-view+json": {
       "model_id": "9e993f67bd4b4fd08cdc6c520c35d155",
       "version_major": 2,
       "version_minor": 0
      },
      "text/plain": [
       "  0%|          | 0/100 [00:00<?, ?it/s]"
      ]
     },
     "metadata": {},
     "output_type": "display_data"
    },
    {
     "name": "stdout",
     "output_type": "stream",
     "text": [
      "Saving video to videos/2025-08-04-18-09-38_Object.mp4...\n",
      "Moviepy - Building video videos/2025-08-04-18-09-38_Object.mp4.\n",
      "MoviePy - Writing audio in 2025-08-04-18-09-38_ObjectTEMP_MPY_wvf_snd.mp4\n"
     ]
    },
    {
     "name": "stderr",
     "output_type": "stream",
     "text": [
      "                                                                     \r"
     ]
    },
    {
     "name": "stdout",
     "output_type": "stream",
     "text": [
      "MoviePy - Done.\n",
      "Moviepy - Writing video videos/2025-08-04-18-09-38_Object.mp4\n",
      "\n"
     ]
    },
    {
     "name": "stderr",
     "output_type": "stream",
     "text": [
      "                                                                 \r"
     ]
    },
    {
     "name": "stdout",
     "output_type": "stream",
     "text": [
      "Moviepy - Done !\n",
      "Moviepy - video ready videos/2025-08-04-18-09-38_Object.mp4\n",
      "Video saved successfully and temporary file removed.\n",
      "Object Tissue pack\n"
     ]
    },
    {
     "name": "stderr",
     "output_type": "stream",
     "text": [
      "The following part of your input was truncated because CLIP can only handle sequences up to 77 tokens: ['reminiscent of rembrandt . shallow depth of field , bokeh background with hints of a cozy interior . , 8 k , best quality , masterpiece , photorealistic , ultra - detailed , sharp focus']\n"
     ]
    },
    {
     "name": "stdout",
     "output_type": "stream",
     "text": [
      "{'prompt': 'A single, delicately crumpled tissue pack, partially unwrapped, resting on a rustic wooden table bathed in warm, diffused light. Focus on the texture of the tissues  soft, absorbent, slightly translucent. Painterly style, oil on canvas, visible brushstrokes, rich color palette of creams, browns, and subtle blues, reminiscent of Rembrandt. Shallow depth of field, bokeh background with hints of a cozy interior.', 'negative_prompt': 'plastic, digital art, 3D render, smooth, sharp focus, perfect symmetry, unrealistic, cartoon, photorealistic, bright, harsh lighting, clean lines', 'fact': 'The first tissue packs were introduced in 1924 by Kleenex, initially marketed as facial cleansing cloths!'}\n"
     ]
    },
    {
     "data": {
      "application/vnd.jupyter.widget-view+json": {
       "model_id": "6321bd1661094d57a0c90c2a634bfd4c",
       "version_major": 2,
       "version_minor": 0
      },
      "text/plain": [
       "  0%|          | 0/100 [00:00<?, ?it/s]"
      ]
     },
     "metadata": {},
     "output_type": "display_data"
    },
    {
     "name": "stdout",
     "output_type": "stream",
     "text": [
      "Saving video to videos/2025-08-04-18-11-19_Object.mp4...\n",
      "Moviepy - Building video videos/2025-08-04-18-11-19_Object.mp4.\n",
      "MoviePy - Writing audio in 2025-08-04-18-11-19_ObjectTEMP_MPY_wvf_snd.mp4\n"
     ]
    },
    {
     "name": "stderr",
     "output_type": "stream",
     "text": [
      "                                                                     \r"
     ]
    },
    {
     "name": "stdout",
     "output_type": "stream",
     "text": [
      "MoviePy - Done.\n",
      "Moviepy - Writing video videos/2025-08-04-18-11-19_Object.mp4\n",
      "\n"
     ]
    },
    {
     "name": "stderr",
     "output_type": "stream",
     "text": [
      "                                                                 \r"
     ]
    },
    {
     "name": "stdout",
     "output_type": "stream",
     "text": [
      "Moviepy - Done !\n",
      "Moviepy - video ready videos/2025-08-04-18-11-19_Object.mp4\n",
      "Video saved successfully and temporary file removed.\n",
      "Object Charger \n"
     ]
    },
    {
     "name": "stderr",
     "output_type": "stream",
     "text": [
      "The following part of your input was truncated because CLIP can only handle sequences up to 77 tokens: ['scene , detailed cables , futuristic design elements . , 8 k , best quality , masterpiece , photorealistic , ultra - detailed , sharp focus']\n"
     ]
    },
    {
     "name": "stdout",
     "output_type": "stream",
     "text": [
      "{'prompt': \"A hyperrealistic, intricately detailed charger, glowing faintly with an internal blue light, resting on a polished obsidian surface. Full moon shining brightly through a gothic window, casting long, dramatic shadows. Cinematic lighting, 8k resolution, octane render, volumetric lighting, moody atmosphere, focus on the charger's texture and subtle reflections.  Night scene, detailed cables, futuristic design elements.\", 'negative_prompt': 'blurry, low resolution, cartoon, anime, painting, sketch, drawing, unrealistic, plastic, cheap, daytime, bright, oversaturated, watermark, text, signature, multiple objects', 'fact': 'Early phone chargers used incandescent bulbs to indicate powera surprisingly inefficient design!'}\n"
     ]
    },
    {
     "data": {
      "application/vnd.jupyter.widget-view+json": {
       "model_id": "469ea5d2caf341848c870d8f08fc9148",
       "version_major": 2,
       "version_minor": 0
      },
      "text/plain": [
       "  0%|          | 0/100 [00:00<?, ?it/s]"
      ]
     },
     "metadata": {},
     "output_type": "display_data"
    },
    {
     "name": "stdout",
     "output_type": "stream",
     "text": [
      "Saving video to videos/2025-08-04-18-12-56_Object.mp4...\n",
      "Moviepy - Building video videos/2025-08-04-18-12-56_Object.mp4.\n",
      "MoviePy - Writing audio in 2025-08-04-18-12-56_ObjectTEMP_MPY_wvf_snd.mp4\n"
     ]
    },
    {
     "name": "stderr",
     "output_type": "stream",
     "text": [
      "                                                                     \r"
     ]
    },
    {
     "name": "stdout",
     "output_type": "stream",
     "text": [
      "MoviePy - Done.\n",
      "Moviepy - Writing video videos/2025-08-04-18-12-56_Object.mp4\n",
      "\n"
     ]
    },
    {
     "name": "stderr",
     "output_type": "stream",
     "text": [
      "                                                                 \r"
     ]
    },
    {
     "name": "stdout",
     "output_type": "stream",
     "text": [
      "Moviepy - Done !\n",
      "Moviepy - video ready videos/2025-08-04-18-12-56_Object.mp4\n",
      "Video saved successfully and temporary file removed.\n",
      "Animal Puffin\n",
      "{'prompt': 'A vibrant puffin portrait, perched on a mossy cliff overlooking a stormy Atlantic ocean. Dramatic lighting, rich detail on feathers, orange beak gleaming. Oil painting, thick impasto texture, reminiscent of John Singer Sargent, 8k resolution, masterpiece.', 'negative_prompt': 'cartoon, anime, photorealistic, digital art, smooth, blurry, low resolution, flat, simple, illustration, watermark, signature', 'fact': 'Puffins can hold up to 30 small fish at once in a pouch under their beak! '}\n"
     ]
    },
    {
     "data": {
      "application/vnd.jupyter.widget-view+json": {
       "model_id": "fbbb46bff1974426946cab960712f9f1",
       "version_major": 2,
       "version_minor": 0
      },
      "text/plain": [
       "  0%|          | 0/100 [00:00<?, ?it/s]"
      ]
     },
     "metadata": {},
     "output_type": "display_data"
    },
    {
     "name": "stdout",
     "output_type": "stream",
     "text": [
      "Saving video to videos/2025-08-04-18-14-25_Animal.mp4...\n",
      "Moviepy - Building video videos/2025-08-04-18-14-25_Animal.mp4.\n",
      "MoviePy - Writing audio in 2025-08-04-18-14-25_AnimalTEMP_MPY_wvf_snd.mp4\n"
     ]
    },
    {
     "name": "stderr",
     "output_type": "stream",
     "text": [
      "                                                                     \r"
     ]
    },
    {
     "name": "stdout",
     "output_type": "stream",
     "text": [
      "MoviePy - Done.\n",
      "Moviepy - Writing video videos/2025-08-04-18-14-25_Animal.mp4\n",
      "\n"
     ]
    },
    {
     "name": "stderr",
     "output_type": "stream",
     "text": [
      "                                                                 \r"
     ]
    },
    {
     "name": "stdout",
     "output_type": "stream",
     "text": [
      "Moviepy - Done !\n",
      "Moviepy - video ready videos/2025-08-04-18-14-25_Animal.mp4\n",
      "Video saved successfully and temporary file removed.\n",
      "Celeb Martin Luther King Jr.\n"
     ]
    },
    {
     "name": "stderr",
     "output_type": "stream",
     "text": [
      "The following part of your input was truncated because CLIP can only handle sequences up to 77 tokens: ['oscuro , 8 k , detailed skin texture , volumetric lighting , cinematic composition . , 8 k , best quality , masterpiece , photorealistic , ultra - detailed , sharp focus']\n"
     ]
    },
    {
     "name": "stdout",
     "output_type": "stream",
     "text": [
      "{'prompt': 'A powerful, photorealistic portrait of Martin Luther King Jr., bathed in the silvery light of a full moon. He stands resolute, mid-speech, against a blurred, subtly distressed background of a 1960s civil rights rally. Focus on his determined gaze and the intensity of his expression. Dramatic lighting, chiaroscuro, 8k, detailed skin texture, volumetric lighting, cinematic composition.', 'negative_prompt': 'cartoon, anime, painting, drawing, sketch, illustration, unrealistic, blurry, deformed, disfigured, text, watermark, signature, low resolution, oversaturated, noisy, child, young man', 'fact': 'MLK earned a PhD in Systematic Theology from Boston University in 1955 - a testament to his intellect beyond activism.'}\n"
     ]
    },
    {
     "data": {
      "application/vnd.jupyter.widget-view+json": {
       "model_id": "8b792292fe2448a1b7a9e07f0dd213e5",
       "version_major": 2,
       "version_minor": 0
      },
      "text/plain": [
       "  0%|          | 0/100 [00:00<?, ?it/s]"
      ]
     },
     "metadata": {},
     "output_type": "display_data"
    },
    {
     "name": "stdout",
     "output_type": "stream",
     "text": [
      "Saving video to videos/2025-08-04-18-16-05_Celeb.mp4...\n",
      "Moviepy - Building video videos/2025-08-04-18-16-05_Celeb.mp4.\n",
      "MoviePy - Writing audio in 2025-08-04-18-16-05_CelebTEMP_MPY_wvf_snd.mp4\n"
     ]
    },
    {
     "name": "stderr",
     "output_type": "stream",
     "text": [
      "                                                                      \r"
     ]
    },
    {
     "name": "stdout",
     "output_type": "stream",
     "text": [
      "MoviePy - Done.\n",
      "Moviepy - Writing video videos/2025-08-04-18-16-05_Celeb.mp4\n",
      "\n"
     ]
    },
    {
     "name": "stderr",
     "output_type": "stream",
     "text": [
      "                                                                 \r"
     ]
    },
    {
     "name": "stdout",
     "output_type": "stream",
     "text": [
      "Moviepy - Done !\n",
      "Moviepy - video ready videos/2025-08-04-18-16-05_Celeb.mp4\n",
      "Video saved successfully and temporary file removed.\n",
      "Object Iron\n"
     ]
    },
    {
     "name": "stderr",
     "output_type": "stream",
     "text": [
      "The following part of your input was truncated because CLIP can only handle sequences up to 77 tokens: ['. , 8 k , best quality , masterpiece , photorealistic , ultra - detailed , sharp focus']\n"
     ]
    },
    {
     "name": "stdout",
     "output_type": "stream",
     "text": [
      "{'prompt': 'A colossal, rusting iron bloom, its petals unfurling into a nebula of clockwork gears and fractured memories. Floating islands of iron ore drift amidst a lavender sky, reflected in pools of liquid mercury. Hyperdetailed, dreamlike, surreal, octane render, volumetric lighting, cinematic, art by Salvador Dali and Zdzisaw Beksiski.', 'negative_prompt': 'plastic, smooth, realistic, photograph, people, cartoon, low quality, blurry, text, signature, watermark, flat, 2D', 'fact': \"Iron's magnetic properties disappear at 770C (1418F)! It briefly becomes a liquid dream.\"}\n"
     ]
    },
    {
     "data": {
      "application/vnd.jupyter.widget-view+json": {
       "model_id": "8cd18d53790d427cb04f5d4159c801ac",
       "version_major": 2,
       "version_minor": 0
      },
      "text/plain": [
       "  0%|          | 0/100 [00:00<?, ?it/s]"
      ]
     },
     "metadata": {},
     "output_type": "display_data"
    },
    {
     "name": "stdout",
     "output_type": "stream",
     "text": [
      "Saving video to videos/2025-08-04-18-17-41_Object.mp4...\n",
      "Moviepy - Building video videos/2025-08-04-18-17-41_Object.mp4.\n",
      "MoviePy - Writing audio in 2025-08-04-18-17-41_ObjectTEMP_MPY_wvf_snd.mp4\n"
     ]
    },
    {
     "name": "stderr",
     "output_type": "stream",
     "text": [
      "                                                                     \r"
     ]
    },
    {
     "name": "stdout",
     "output_type": "stream",
     "text": [
      "MoviePy - Done.\n",
      "Moviepy - Writing video videos/2025-08-04-18-17-41_Object.mp4\n",
      "\n"
     ]
    },
    {
     "name": "stderr",
     "output_type": "stream",
     "text": [
      "                                                                 \r"
     ]
    },
    {
     "name": "stdout",
     "output_type": "stream",
     "text": [
      "Moviepy - Done !\n",
      "Moviepy - video ready videos/2025-08-04-18-17-41_Object.mp4\n",
      "Video saved successfully and temporary file removed.\n",
      "Celeb Bob Marley\n",
      "{'prompt': 'Photorealistic portrait of Bob Marley, 1977, Rastafarian dreadlocks, gentle smile, warm Caribbean light, minimalist background, shallow depth of field, film grain, Leica M6, 35mm lens, Kodachrome film.', 'negative_prompt': 'cartoon, illustration, painting, drawing, anime, unrealistic, blurry, deformed, multiple limbs, disfigured, watermark, signature, text, vibrant colors, harsh lighting, CGI', 'fact': \"Bob Marley's real middle name was Neville, though he often went by simply 'Bob'. It honored his English grandfather.\"}\n"
     ]
    },
    {
     "data": {
      "application/vnd.jupyter.widget-view+json": {
       "model_id": "529b2e44087a4793ba143d7c098f3dda",
       "version_major": 2,
       "version_minor": 0
      },
      "text/plain": [
       "  0%|          | 0/100 [00:00<?, ?it/s]"
      ]
     },
     "metadata": {},
     "output_type": "display_data"
    },
    {
     "name": "stdout",
     "output_type": "stream",
     "text": [
      "Saving video to videos/2025-08-04-18-19-14_Celeb.mp4...\n",
      "Moviepy - Building video videos/2025-08-04-18-19-14_Celeb.mp4.\n",
      "MoviePy - Writing audio in 2025-08-04-18-19-14_CelebTEMP_MPY_wvf_snd.mp4\n"
     ]
    },
    {
     "name": "stderr",
     "output_type": "stream",
     "text": [
      "                                                                     \r"
     ]
    },
    {
     "name": "stdout",
     "output_type": "stream",
     "text": [
      "MoviePy - Done.\n",
      "Moviepy - Writing video videos/2025-08-04-18-19-14_Celeb.mp4\n",
      "\n"
     ]
    },
    {
     "name": "stderr",
     "output_type": "stream",
     "text": [
      "                                                                 \r"
     ]
    },
    {
     "name": "stdout",
     "output_type": "stream",
     "text": [
      "Moviepy - Done !\n",
      "Moviepy - video ready videos/2025-08-04-18-19-14_Celeb.mp4\n",
      "Video saved successfully and temporary file removed.\n",
      "Object Car\n"
     ]
    },
    {
     "name": "stderr",
     "output_type": "stream",
     "text": [
      "The following part of your input was truncated because CLIP can only handle sequences up to 77 tokens: [', photorealistic , ultra - detailed , sharp focus']\n"
     ]
    },
    {
     "name": "stdout",
     "output_type": "stream",
     "text": [
      "{'prompt': \"A gleaming, cherry-red 1957 Chevrolet Bel Air, parked on a dusty, sun-drenched road in rural Nevada. Wide-angle lens, hyperrealistic details, golden hour lighting, reminiscent of Norman Rockwell's style, oil painting, highly detailed, vibrant colors, nostalgic feel, Americana.\", 'negative_prompt': 'blurry, distorted, modern, digital art, cartoon, unrealistic, low quality, watermark, signature, text, abstract, monochrome, grayscale, plastic, CGI', 'fact': \"Early Bel Airs had optional 'Fleetline' styling, featuring a fastback roofline & a distinct, elegant flair.\"}\n"
     ]
    },
    {
     "data": {
      "application/vnd.jupyter.widget-view+json": {
       "model_id": "eaf3571c641d48439a6c128bc10a7653",
       "version_major": 2,
       "version_minor": 0
      },
      "text/plain": [
       "  0%|          | 0/100 [00:00<?, ?it/s]"
      ]
     },
     "metadata": {},
     "output_type": "display_data"
    },
    {
     "name": "stdout",
     "output_type": "stream",
     "text": [
      "Saving video to videos/2025-08-04-18-20-48_Object.mp4...\n",
      "Moviepy - Building video videos/2025-08-04-18-20-48_Object.mp4.\n",
      "MoviePy - Writing audio in 2025-08-04-18-20-48_ObjectTEMP_MPY_wvf_snd.mp4\n"
     ]
    },
    {
     "name": "stderr",
     "output_type": "stream",
     "text": [
      "                                                                     \r"
     ]
    },
    {
     "name": "stdout",
     "output_type": "stream",
     "text": [
      "MoviePy - Done.\n",
      "Moviepy - Writing video videos/2025-08-04-18-20-48_Object.mp4\n",
      "\n"
     ]
    },
    {
     "name": "stderr",
     "output_type": "stream",
     "text": [
      "                                                                 \r"
     ]
    },
    {
     "name": "stdout",
     "output_type": "stream",
     "text": [
      "Moviepy - Done !\n",
      "Moviepy - video ready videos/2025-08-04-18-20-48_Object.mp4\n",
      "Video saved successfully and temporary file removed.\n",
      "Object Mugs\n"
     ]
    },
    {
     "name": "stderr",
     "output_type": "stream",
     "text": [
      "The following part of your input was truncated because CLIP can only handle sequences up to 77 tokens: [', masterpiece , photorealistic , ultra - detailed , sharp focus']\n"
     ]
    },
    {
     "name": "stdout",
     "output_type": "stream",
     "text": [
      "{'prompt': 'A collection of antique ceramic mugs, overflowing with steaming spiced cider, arranged on a weathered wooden table bathed in the warm glow of a fireplace. Detailed crackle glaze, subtle imperfections, Victorian era still life, soft focus, oil painting, Rembrandt lighting, muted colors, high detail, 8k resolution.', 'negative_prompt': 'plastic, modern, clean, minimalist, sharp focus, bright colors, CGI, illustration, cartoon, blurry, low resolution, people, text', 'fact': \"Early mugs were often called 'can' - a humble name for a cozy drink!\"}\n"
     ]
    },
    {
     "data": {
      "application/vnd.jupyter.widget-view+json": {
       "model_id": "73597886d7be4bde988d87bd85de90dd",
       "version_major": 2,
       "version_minor": 0
      },
      "text/plain": [
       "  0%|          | 0/100 [00:00<?, ?it/s]"
      ]
     },
     "metadata": {},
     "output_type": "display_data"
    },
    {
     "name": "stdout",
     "output_type": "stream",
     "text": [
      "Saving video to videos/2025-08-04-18-22-18_Object.mp4...\n",
      "Moviepy - Building video videos/2025-08-04-18-22-18_Object.mp4.\n",
      "MoviePy - Writing audio in 2025-08-04-18-22-18_ObjectTEMP_MPY_wvf_snd.mp4\n"
     ]
    },
    {
     "name": "stderr",
     "output_type": "stream",
     "text": [
      "                                                                     \r"
     ]
    },
    {
     "name": "stdout",
     "output_type": "stream",
     "text": [
      "MoviePy - Done.\n",
      "Moviepy - Writing video videos/2025-08-04-18-22-18_Object.mp4\n",
      "\n"
     ]
    },
    {
     "name": "stderr",
     "output_type": "stream",
     "text": [
      "                                                                 \r"
     ]
    },
    {
     "name": "stdout",
     "output_type": "stream",
     "text": [
      "Moviepy - Done !\n",
      "Moviepy - video ready videos/2025-08-04-18-22-18_Object.mp4\n",
      "Video saved successfully and temporary file removed.\n",
      "Building Gateway of India (India)\n"
     ]
    },
    {
     "name": "stderr",
     "output_type": "stream",
     "text": [
      "The following part of your input was truncated because CLIP can only handle sequences up to 77 tokens: [', volumetric light , ethereal , art deco influence . , 8 k , best quality , masterpiece , photorealistic , ultra - detailed , sharp focus']\n"
     ]
    },
    {
     "name": "stdout",
     "output_type": "stream",
     "text": [
      "{'prompt': 'A colossal, melting Gateway of India, rendered in iridescent mother-of-pearl and coral, its arches dripping with liquid starlight. Miniature elephants carved from amethyst float through a swirling nebula sky, while a single, enormous eye observes from behind a fractured moon. Hyperrealistic, surrealism, dreamlike, cinematic lighting, 8k, octane render, volumetric light, ethereal, Art Deco influence.', 'negative_prompt': 'photorealistic, realistic, mundane, plain, simple, low resolution, blurry, grainy, cartoon, anime, people, figures, text, watermark, signature, dull colors, flat lighting, daytime', 'fact': \"Originally called the 'Archway of All India,' the Gateway was intended to honor King George V's visit, but was later reinterpreted.\"}\n"
     ]
    },
    {
     "data": {
      "application/vnd.jupyter.widget-view+json": {
       "model_id": "2ecc3edb87db45aa837cd55f7d43876d",
       "version_major": 2,
       "version_minor": 0
      },
      "text/plain": [
       "  0%|          | 0/100 [00:00<?, ?it/s]"
      ]
     },
     "metadata": {},
     "output_type": "display_data"
    },
    {
     "name": "stdout",
     "output_type": "stream",
     "text": [
      "Saving video to videos/2025-08-04-18-24-01_Building.mp4...\n",
      "Moviepy - Building video videos/2025-08-04-18-24-01_Building.mp4.\n",
      "MoviePy - Writing audio in 2025-08-04-18-24-01_BuildingTEMP_MPY_wvf_snd.mp4\n"
     ]
    },
    {
     "name": "stderr",
     "output_type": "stream",
     "text": [
      "                                                                     \r"
     ]
    },
    {
     "name": "stdout",
     "output_type": "stream",
     "text": [
      "MoviePy - Done.\n",
      "Moviepy - Writing video videos/2025-08-04-18-24-01_Building.mp4\n",
      "\n"
     ]
    },
    {
     "name": "stderr",
     "output_type": "stream",
     "text": [
      "                                                                 \r"
     ]
    },
    {
     "name": "stdout",
     "output_type": "stream",
     "text": [
      "Moviepy - Done !\n",
      "Moviepy - video ready videos/2025-08-04-18-24-01_Building.mp4\n",
      "Video saved successfully and temporary file removed.\n",
      "Building Shwedagon Pagoda (Myanmar)\n"
     ]
    },
    {
     "name": "stderr",
     "output_type": "stream",
     "text": [
      "The following part of your input was truncated because CLIP can only handle sequences up to 77 tokens: ['. cinematic lighting , volumetric fog , 8 k resolution , photorealistic , octane render . focus on the juxtaposition of ancient spirituality and futuristic technology . , 8 k , best quality , masterpiece , photorealistic , ultra - detailed , sharp focus']\n"
     ]
    },
    {
     "name": "stdout",
     "output_type": "stream",
     "text": [
      "{'prompt': \"A hyperrealistic, cyberpunk depiction of Shwedagon Pagoda, Yangon, Myanmar. Towering golden spire piercing a neon-drenched, perpetually twilight sky. Rain slicked streets reflect the pagoda's glow. Holographic advertisements flicker across its surface, showcasing futuristic goods. Detailed textures: aged gold, weathered stone, glowing neon script in Burmese. Cinematic lighting, volumetric fog, 8k resolution, photorealistic, octane render. Focus on the juxtaposition of ancient spirituality and futuristic technology.\", 'negative_prompt': 'blurry, grainy, low resolution, cartoon, anime, painting, sketch, photobashing, unrealistic, dull colors, desaturated, daytime, medieval, simplistic, people, crowds', 'fact': \"Shwedagon's gold leaf is said to be 16 tons! Legend says it began with a single golden ball gifted by a celestial being. \"}\n"
     ]
    },
    {
     "data": {
      "application/vnd.jupyter.widget-view+json": {
       "model_id": "7af1797f9d5d40519c87edfb45bc4129",
       "version_major": 2,
       "version_minor": 0
      },
      "text/plain": [
       "  0%|          | 0/100 [00:00<?, ?it/s]"
      ]
     },
     "metadata": {},
     "output_type": "display_data"
    },
    {
     "name": "stdout",
     "output_type": "stream",
     "text": [
      "Saving video to videos/2025-08-04-18-25-47_Building.mp4...\n",
      "Moviepy - Building video videos/2025-08-04-18-25-47_Building.mp4.\n",
      "MoviePy - Writing audio in 2025-08-04-18-25-47_BuildingTEMP_MPY_wvf_snd.mp4\n"
     ]
    },
    {
     "name": "stderr",
     "output_type": "stream",
     "text": [
      "                                                                     \r"
     ]
    },
    {
     "name": "stdout",
     "output_type": "stream",
     "text": [
      "MoviePy - Done.\n",
      "Moviepy - Writing video videos/2025-08-04-18-25-47_Building.mp4\n",
      "\n"
     ]
    },
    {
     "name": "stderr",
     "output_type": "stream",
     "text": [
      "                                                                 \r"
     ]
    },
    {
     "name": "stdout",
     "output_type": "stream",
     "text": [
      "Moviepy - Done !\n",
      "Moviepy - video ready videos/2025-08-04-18-25-47_Building.mp4\n",
      "Video saved successfully and temporary file removed.\n",
      "Celeb Princess Diana\n"
     ]
    },
    {
     "name": "stderr",
     "output_type": "stream",
     "text": [
      "The following part of your input was truncated because CLIP can only handle sequences up to 77 tokens: ['art by remedios varo and salvador dali . , 8 k , best quality , masterpiece , photorealistic , ultra - detailed , sharp focus']\n"
     ]
    },
    {
     "name": "stdout",
     "output_type": "stream",
     "text": [
      "{'prompt': 'A spectral Princess Diana, shimmering like heat haze, dances with a flock of porcelain doves in a decaying Victorian greenhouse overflowing with bioluminescent roses. Her gown is woven from captured moonlight, and her face is a mosaic of fractured memories. Dreamlike, surreal, soft focus, volumetric lighting, octane render, 8k, art by Remedios Varo and Salvador Dali.', 'negative_prompt': 'photorealistic, realistic, hard shadows, harsh lines, modern, plastic, ugly, deformed, blurry, low resolution, watermark, signature, text, logo, cartoon, anime', 'fact': 'Diana secretly loved gardening & often visited a local nursery incognito, seeking solace amongst the flowers.'}\n"
     ]
    },
    {
     "data": {
      "application/vnd.jupyter.widget-view+json": {
       "model_id": "d1ba9506f76a4340b3fc1b246b78a0ab",
       "version_major": 2,
       "version_minor": 0
      },
      "text/plain": [
       "  0%|          | 0/100 [00:00<?, ?it/s]"
      ]
     },
     "metadata": {},
     "output_type": "display_data"
    },
    {
     "name": "stdout",
     "output_type": "stream",
     "text": [
      "Saving video to videos/2025-08-04-18-27-23_Celeb.mp4...\n",
      "Moviepy - Building video videos/2025-08-04-18-27-23_Celeb.mp4.\n",
      "MoviePy - Writing audio in 2025-08-04-18-27-23_CelebTEMP_MPY_wvf_snd.mp4\n"
     ]
    },
    {
     "name": "stderr",
     "output_type": "stream",
     "text": [
      "                                                                     \r"
     ]
    },
    {
     "name": "stdout",
     "output_type": "stream",
     "text": [
      "MoviePy - Done.\n",
      "Moviepy - Writing video videos/2025-08-04-18-27-23_Celeb.mp4\n",
      "\n"
     ]
    },
    {
     "name": "stderr",
     "output_type": "stream",
     "text": [
      "                                                                 \r"
     ]
    },
    {
     "name": "stdout",
     "output_type": "stream",
     "text": [
      "Moviepy - Done !\n",
      "Moviepy - video ready videos/2025-08-04-18-27-23_Celeb.mp4\n",
      "Video saved successfully and temporary file removed.\n",
      "Object Toothpaste\n",
      "{'prompt': 'A single tube of toothpaste, minimalist white background, soft diffused lighting, clean lines, studio photography, high resolution, 8k, sharp focus, product shot, modern aesthetic, subtle shadows, white label, no text.', 'negative_prompt': 'cartoon, drawing, sketch, illustration, blurry, noisy, cluttered, complex background, people, text, logo, watermark, low resolution, photorealistic, hyperrealism', 'fact': 'Ancient Egyptians used a paste of ox hoof, ashes, and myrrh for teeth cleaning - a far cry from our minty tubes!'}\n"
     ]
    },
    {
     "data": {
      "application/vnd.jupyter.widget-view+json": {
       "model_id": "c46f0131dffa41e482f4e68f790373dc",
       "version_major": 2,
       "version_minor": 0
      },
      "text/plain": [
       "  0%|          | 0/100 [00:00<?, ?it/s]"
      ]
     },
     "metadata": {},
     "output_type": "display_data"
    },
    {
     "name": "stdout",
     "output_type": "stream",
     "text": [
      "Saving video to videos/2025-08-04-18-28-55_Object.mp4...\n",
      "Moviepy - Building video videos/2025-08-04-18-28-55_Object.mp4.\n",
      "MoviePy - Writing audio in 2025-08-04-18-28-55_ObjectTEMP_MPY_wvf_snd.mp4\n"
     ]
    },
    {
     "name": "stderr",
     "output_type": "stream",
     "text": [
      "                                                                     \r"
     ]
    },
    {
     "name": "stdout",
     "output_type": "stream",
     "text": [
      "MoviePy - Done.\n",
      "Moviepy - Writing video videos/2025-08-04-18-28-55_Object.mp4\n",
      "\n"
     ]
    },
    {
     "name": "stderr",
     "output_type": "stream",
     "text": [
      "                                                                 \r"
     ]
    },
    {
     "name": "stdout",
     "output_type": "stream",
     "text": [
      "Moviepy - Done !\n",
      "Moviepy - video ready videos/2025-08-04-18-28-55_Object.mp4\n",
      "Video saved successfully and temporary file removed.\n",
      "Object Spoons\n"
     ]
    },
    {
     "name": "stderr",
     "output_type": "stream",
     "text": [
      "The following part of your input was truncated because CLIP can only handle sequences up to 77 tokens: ['8 k , best quality , masterpiece , photorealistic , ultra - detailed , sharp focus']\n"
     ]
    },
    {
     "name": "stdout",
     "output_type": "stream",
     "text": [
      "{'prompt': 'A cascade of antique silver spoons, intricately engraved with floral patterns, overflowing from a cracked porcelain bowl. Cinematic lighting, dramatic chiaroscuro, hyperdetailed, volumetric light, depth of field, 8k resolution, photorealistic, moody atmosphere, Victorian era, dark academia aesthetic. Focus on the reflections of candlelight on the spoon surfaces.', 'negative_prompt': 'blurry, noisy, low resolution, cartoon, anime, plastic, modern, bright, oversaturated, flat lighting, simple background, text, signature, watermark', 'fact': \"Did you know? The word 'spoon' comes from the Old English 'slan,' meaning to scoop or slide!\"}\n"
     ]
    },
    {
     "data": {
      "application/vnd.jupyter.widget-view+json": {
       "model_id": "f5914ce9dc9245509e40de1640c41f7f",
       "version_major": 2,
       "version_minor": 0
      },
      "text/plain": [
       "  0%|          | 0/100 [00:00<?, ?it/s]"
      ]
     },
     "metadata": {},
     "output_type": "display_data"
    },
    {
     "name": "stdout",
     "output_type": "stream",
     "text": [
      "Saving video to videos/2025-08-04-18-30-28_Object.mp4...\n",
      "Moviepy - Building video videos/2025-08-04-18-30-28_Object.mp4.\n",
      "MoviePy - Writing audio in 2025-08-04-18-30-28_ObjectTEMP_MPY_wvf_snd.mp4\n"
     ]
    },
    {
     "name": "stderr",
     "output_type": "stream",
     "text": [
      "                                                                      \r"
     ]
    },
    {
     "name": "stdout",
     "output_type": "stream",
     "text": [
      "MoviePy - Done.\n",
      "Moviepy - Writing video videos/2025-08-04-18-30-28_Object.mp4\n",
      "\n"
     ]
    },
    {
     "name": "stderr",
     "output_type": "stream",
     "text": [
      "                                                                 \r"
     ]
    },
    {
     "name": "stdout",
     "output_type": "stream",
     "text": [
      "Moviepy - Done !\n",
      "Moviepy - video ready videos/2025-08-04-18-30-28_Object.mp4\n",
      "Video saved successfully and temporary file removed.\n",
      "Animal Duck\n"
     ]
    },
    {
     "name": "stderr",
     "output_type": "stream",
     "text": [
      "The following part of your input was truncated because CLIP can only handle sequences up to 77 tokens: ['8 k , best quality , masterpiece , photorealistic , ultra - detailed , sharp focus']\n"
     ]
    },
    {
     "name": "stdout",
     "output_type": "stream",
     "text": [
      "{'prompt': 'Cinematic still of a vibrant mallard duck, iridescent green head gleaming, paddling serenely on a misty lake at dawn. Dramatic, volumetric lighting, bokeh reflections, hyperrealistic detail, 8k resolution, photorealistic, shallow depth of field, Nikon D850, f/2.8, ISO 100.', 'negative_prompt': 'cartoon, anime, painting, drawing, sketch, blurry, low resolution, deformed, mutated, text, signature, watermark, human, people, unrealistic, oversaturated, flat lighting', 'fact': \"Did you know? A group of ducks on the water is called a 'raft'!\"}\n"
     ]
    },
    {
     "data": {
      "application/vnd.jupyter.widget-view+json": {
       "model_id": "33e788d5189c488b8d6f5fb89cff34b6",
       "version_major": 2,
       "version_minor": 0
      },
      "text/plain": [
       "  0%|          | 0/100 [00:00<?, ?it/s]"
      ]
     },
     "metadata": {},
     "output_type": "display_data"
    },
    {
     "name": "stdout",
     "output_type": "stream",
     "text": [
      "Saving video to videos/2025-08-04-18-32-03_Animal.mp4...\n",
      "Moviepy - Building video videos/2025-08-04-18-32-03_Animal.mp4.\n",
      "MoviePy - Writing audio in 2025-08-04-18-32-03_AnimalTEMP_MPY_wvf_snd.mp4\n"
     ]
    },
    {
     "name": "stderr",
     "output_type": "stream",
     "text": [
      "                                                                     \r"
     ]
    },
    {
     "name": "stdout",
     "output_type": "stream",
     "text": [
      "MoviePy - Done.\n",
      "Moviepy - Writing video videos/2025-08-04-18-32-03_Animal.mp4\n",
      "\n"
     ]
    },
    {
     "name": "stderr",
     "output_type": "stream",
     "text": [
      "                                                                 \r"
     ]
    },
    {
     "name": "stdout",
     "output_type": "stream",
     "text": [
      "Moviepy - Done !\n",
      "Moviepy - video ready videos/2025-08-04-18-32-03_Animal.mp4\n",
      "Video saved successfully and temporary file removed.\n",
      "Object Washing machine\n"
     ]
    },
    {
     "name": "stderr",
     "output_type": "stream",
     "text": [
      "The following part of your input was truncated because CLIP can only handle sequences up to 77 tokens: ['focus background , nostalgic feel , volumetric light . , 8 k , best quality , masterpiece , photorealistic , ultra - detailed , sharp focus']\n"
     ]
    },
    {
     "name": "stdout",
     "output_type": "stream",
     "text": [
      "{'prompt': \"A vintage, enamel washing machine, turquoise and cream, sits in a sun-drenched, slightly overgrown garden at dawn. Soft, ethereal golden light filters through the leaves, highlighting the worn edges and subtle rust. Dewdrops cling to the machine's surface, reflecting the dawn sky. Photorealistic, 8k, highly detailed, cinematic lighting, soft focus background, nostalgic feel, volumetric light.\", 'negative_prompt': 'cartoon, anime, illustration, painting, blurry, noisy, harsh lighting, oversaturated, modern, plastic, CGI, deformed, text, signature, watermark, people', 'fact': \"Early washing machines used a hand-cranked agitator  a far cry from today's spin cycles! \"}\n"
     ]
    },
    {
     "data": {
      "application/vnd.jupyter.widget-view+json": {
       "model_id": "3b28bbaa38084695a815e90ca4d244a0",
       "version_major": 2,
       "version_minor": 0
      },
      "text/plain": [
       "  0%|          | 0/100 [00:00<?, ?it/s]"
      ]
     },
     "metadata": {},
     "output_type": "display_data"
    },
    {
     "name": "stdout",
     "output_type": "stream",
     "text": [
      "Saving video to videos/2025-08-04-18-33-44_Object.mp4...\n",
      "Moviepy - Building video videos/2025-08-04-18-33-44_Object.mp4.\n",
      "MoviePy - Writing audio in 2025-08-04-18-33-44_ObjectTEMP_MPY_wvf_snd.mp4\n"
     ]
    },
    {
     "name": "stderr",
     "output_type": "stream",
     "text": [
      "                                                                      \r"
     ]
    },
    {
     "name": "stdout",
     "output_type": "stream",
     "text": [
      "MoviePy - Done.\n",
      "Moviepy - Writing video videos/2025-08-04-18-33-44_Object.mp4\n",
      "\n"
     ]
    },
    {
     "name": "stderr",
     "output_type": "stream",
     "text": [
      "                                                                 \r"
     ]
    },
    {
     "name": "stdout",
     "output_type": "stream",
     "text": [
      "Moviepy - Done !\n",
      "Moviepy - video ready videos/2025-08-04-18-33-44_Object.mp4\n",
      "Video saved successfully and temporary file removed.\n",
      "Building Tokyo Skytree (Japan)\n"
     ]
    },
    {
     "name": "stderr",
     "output_type": "stream",
     "text": [
      "The following part of your input was truncated because CLIP can only handle sequences up to 77 tokens: ['by the style of impressionist landscape painting . , 8 k , best quality , masterpiece , photorealistic , ultra - detailed , sharp focus']\n"
     ]
    },
    {
     "name": "stdout",
     "output_type": "stream",
     "text": [
      "{'prompt': 'A breathtaking, painterly oil-on-canvas depiction of the Tokyo Skytree at dusk. Warm, diffused light glows on its latticed structure, reflecting in the surrounding cityscape. Soft brushstrokes capture the intricate details of the tower, with a subtle bokeh effect on distant buildings. Dramatic sky with hints of orange and purple. Inspired by the style of impressionist landscape painting.', 'negative_prompt': 'photorealistic, sharp focus, digital art, CGI, futuristic, low quality, blurry, text, watermark, signature, cartoon, anime, oversaturated, flat colors', 'fact': \"Tokyo Skytree's foundation is built on 400 concrete piles, sunk up to 100 meters deep!\"}\n"
     ]
    },
    {
     "data": {
      "application/vnd.jupyter.widget-view+json": {
       "model_id": "24f3657c0e9543328e17f64ccf0c74b7",
       "version_major": 2,
       "version_minor": 0
      },
      "text/plain": [
       "  0%|          | 0/100 [00:00<?, ?it/s]"
      ]
     },
     "metadata": {},
     "output_type": "display_data"
    },
    {
     "name": "stdout",
     "output_type": "stream",
     "text": [
      "Saving video to videos/2025-08-04-18-35-21_Building.mp4...\n",
      "Moviepy - Building video videos/2025-08-04-18-35-21_Building.mp4.\n",
      "MoviePy - Writing audio in 2025-08-04-18-35-21_BuildingTEMP_MPY_wvf_snd.mp4\n"
     ]
    },
    {
     "name": "stderr",
     "output_type": "stream",
     "text": [
      "                                                                      \r"
     ]
    },
    {
     "name": "stdout",
     "output_type": "stream",
     "text": [
      "MoviePy - Done.\n",
      "Moviepy - Writing video videos/2025-08-04-18-35-21_Building.mp4\n",
      "\n"
     ]
    },
    {
     "name": "stderr",
     "output_type": "stream",
     "text": [
      "                                                                 \r"
     ]
    },
    {
     "name": "stdout",
     "output_type": "stream",
     "text": [
      "Moviepy - Done !\n",
      "Moviepy - video ready videos/2025-08-04-18-35-21_Building.mp4\n",
      "Video saved successfully and temporary file removed.\n",
      "Animal Chicken\n"
     ]
    },
    {
     "name": "stderr",
     "output_type": "stream",
     "text": [
      "The following part of your input was truncated because CLIP can only handle sequences up to 77 tokens: ['greg rutkowski and alphonse mucha . , 8 k , best quality , masterpiece , photorealistic , ultra - detailed , sharp focus']\n"
     ]
    },
    {
     "name": "stdout",
     "output_type": "stream",
     "text": [
      "{'prompt': 'A hyperrealistic, vibrant digital painting of a Rhode Island Red chicken, standing proudly in a field of golden sunflowers. Sunlight glints off its iridescent feathers, highlighting the rich red and black markings. Bokeh background with a rustic barn and distant hills. Warm, inviting color palette. Highly detailed, 8k resolution, photorealistic, art by Greg Rutkowski and Alphonse Mucha.', 'negative_prompt': 'cartoon, illustration, sketch, blurry, low resolution, deformed, unnatural, monochrome, grayscale, text, watermark, signature, bad anatomy, cropped, out of frame', 'fact': 'Chickens can distinguish over 100 different faces  including humans & other chickens! '}\n"
     ]
    },
    {
     "data": {
      "application/vnd.jupyter.widget-view+json": {
       "model_id": "9a7e89be0a4242eabb55d2f65271e6ef",
       "version_major": 2,
       "version_minor": 0
      },
      "text/plain": [
       "  0%|          | 0/100 [00:00<?, ?it/s]"
      ]
     },
     "metadata": {},
     "output_type": "display_data"
    },
    {
     "name": "stdout",
     "output_type": "stream",
     "text": [
      "Saving video to videos/2025-08-04-18-36-56_Animal.mp4...\n",
      "Moviepy - Building video videos/2025-08-04-18-36-56_Animal.mp4.\n",
      "MoviePy - Writing audio in 2025-08-04-18-36-56_AnimalTEMP_MPY_wvf_snd.mp4\n"
     ]
    },
    {
     "name": "stderr",
     "output_type": "stream",
     "text": [
      "                                                                     \r"
     ]
    },
    {
     "name": "stdout",
     "output_type": "stream",
     "text": [
      "MoviePy - Done.\n",
      "Moviepy - Writing video videos/2025-08-04-18-36-56_Animal.mp4\n",
      "\n"
     ]
    },
    {
     "name": "stderr",
     "output_type": "stream",
     "text": [
      "                                                                 \r"
     ]
    },
    {
     "name": "stdout",
     "output_type": "stream",
     "text": [
      "Moviepy - Done !\n",
      "Moviepy - video ready videos/2025-08-04-18-36-56_Animal.mp4\n",
      "Video saved successfully and temporary file removed.\n",
      "Animal Chameleon\n"
     ]
    },
    {
     "name": "stderr",
     "output_type": "stream",
     "text": [
      "The following part of your input was truncated because CLIP can only handle sequences up to 77 tokens: ['realistic , art by syd mead and beeple . , 8 k , best quality , masterpiece , photorealistic , ultra - detailed , sharp focus']\n"
     ]
    },
    {
     "name": "stdout",
     "output_type": "stream",
     "text": [
      "{'prompt': 'A hyperrealistic chameleon, scales shimmering with reactive neon circuitry, perched on a crumbling data spire in a rain-slicked cyberpunk metropolis. Vivid pink, cyan, and electric blue bioluminescence pulses beneath its skin. Detailed reflections in its multifaceted eyes. Dramatic lighting, volumetric fog, 8k, octane render, photorealistic, art by Syd Mead and Beeple.', 'negative_prompt': 'blurry, grainy, low resolution, cartoon, anime, painting, sketch, 2D, monochrome, dull colors, desaturated, human, people, text, watermark, signature', 'fact': \"Chameleons don't just change color for camouflage. They use it to communicate!  Neon signals, basically. \"}\n"
     ]
    },
    {
     "data": {
      "application/vnd.jupyter.widget-view+json": {
       "model_id": "a57bf7464f894d7abe0dec118dafa0a9",
       "version_major": 2,
       "version_minor": 0
      },
      "text/plain": [
       "  0%|          | 0/100 [00:00<?, ?it/s]"
      ]
     },
     "metadata": {},
     "output_type": "display_data"
    },
    {
     "name": "stdout",
     "output_type": "stream",
     "text": [
      "Saving video to videos/2025-08-04-18-38-36_Animal.mp4...\n",
      "Moviepy - Building video videos/2025-08-04-18-38-36_Animal.mp4.\n",
      "MoviePy - Writing audio in 2025-08-04-18-38-36_AnimalTEMP_MPY_wvf_snd.mp4\n"
     ]
    },
    {
     "name": "stderr",
     "output_type": "stream",
     "text": [
      "                                                                     \r"
     ]
    },
    {
     "name": "stdout",
     "output_type": "stream",
     "text": [
      "MoviePy - Done.\n",
      "Moviepy - Writing video videos/2025-08-04-18-38-36_Animal.mp4\n",
      "\n"
     ]
    },
    {
     "name": "stderr",
     "output_type": "stream",
     "text": [
      "                                                                 \r"
     ]
    },
    {
     "name": "stdout",
     "output_type": "stream",
     "text": [
      "Moviepy - Done !\n",
      "Moviepy - video ready videos/2025-08-04-18-38-36_Animal.mp4\n",
      "Video saved successfully and temporary file removed.\n",
      "Place Cape Town (South Africa)\n"
     ]
    },
    {
     "name": "stderr",
     "output_type": "stream",
     "text": [
      "The following part of your input was truncated because CLIP can only handle sequences up to 77 tokens: ['pasto texture , dramatic lighting , atmospheric perspective , realistic , hyperdetailed . , 8 k , best quality , masterpiece , photorealistic , ultra - detailed , sharp focus']\n"
     ]
    },
    {
     "name": "stdout",
     "output_type": "stream",
     "text": [
      "{'prompt': 'A breathtaking vista of Cape Town, South Africa, bathed in the golden light of late afternoon. Table Mountain dominates the skyline, its slopes lush with fynbos. Vivid turquoise waters of the Atlantic crash against the rocky coastline. Colorful houses cling to the hillsides, creating a vibrant tapestry. Detailed, painterly, oil on canvas, impasto texture, dramatic lighting, atmospheric perspective, realistic, hyperdetailed.', 'negative_prompt': 'cartoon, anime, digital art, photorealistic, low resolution, blurry, text, signature, watermark, unrealistic, smooth, plastic, CGI, oversaturated, out of focus, bad anatomy, deformed', 'fact': \"Cape Town's Table Mountain is so named by early Dutch explorers who thought it resembled a tabletop!\"}\n"
     ]
    },
    {
     "data": {
      "application/vnd.jupyter.widget-view+json": {
       "model_id": "96a9dd04879c415792de55c980ceffc8",
       "version_major": 2,
       "version_minor": 0
      },
      "text/plain": [
       "  0%|          | 0/100 [00:00<?, ?it/s]"
      ]
     },
     "metadata": {},
     "output_type": "display_data"
    },
    {
     "name": "stdout",
     "output_type": "stream",
     "text": [
      "Saving video to videos/2025-08-04-18-40-17_Place.mp4...\n",
      "Moviepy - Building video videos/2025-08-04-18-40-17_Place.mp4.\n",
      "MoviePy - Writing audio in 2025-08-04-18-40-17_PlaceTEMP_MPY_wvf_snd.mp4\n"
     ]
    },
    {
     "name": "stderr",
     "output_type": "stream",
     "text": [
      "                                                                     \r"
     ]
    },
    {
     "name": "stdout",
     "output_type": "stream",
     "text": [
      "MoviePy - Done.\n",
      "Moviepy - Writing video videos/2025-08-04-18-40-17_Place.mp4\n",
      "\n"
     ]
    },
    {
     "name": "stderr",
     "output_type": "stream",
     "text": [
      "                                                                 \r"
     ]
    },
    {
     "name": "stdout",
     "output_type": "stream",
     "text": [
      "Moviepy - Done !\n",
      "Moviepy - video ready videos/2025-08-04-18-40-17_Place.mp4\n",
      "Video saved successfully and temporary file removed.\n",
      "Celeb Donald Trump\n",
      "{'prompt': 'Hyperrealistic portrait of Donald Trump, aged 77, contemplative expression, sharp focus, studio lighting, minimalist background - grey concrete texture, monochrome, 8k, photorealistic, cinematic lighting, Hasselblad.', 'negative_prompt': 'cartoon, painting, drawing, sketch, anime, blurry, low resolution, distorted, unrealistic, vibrant colors, jewelry, smiling, overly detailed background, multiple people, text, watermark.', 'fact': 'Trump owned a beauty pageant, the Miss Universe Organization, from 1996-2015. '}\n"
     ]
    },
    {
     "data": {
      "application/vnd.jupyter.widget-view+json": {
       "model_id": "4aa3058d34604c57921ab387d7a8a239",
       "version_major": 2,
       "version_minor": 0
      },
      "text/plain": [
       "  0%|          | 0/100 [00:00<?, ?it/s]"
      ]
     },
     "metadata": {},
     "output_type": "display_data"
    },
    {
     "name": "stdout",
     "output_type": "stream",
     "text": [
      "Saving video to videos/2025-08-04-18-41-48_Celeb.mp4...\n",
      "Moviepy - Building video videos/2025-08-04-18-41-48_Celeb.mp4.\n",
      "MoviePy - Writing audio in 2025-08-04-18-41-48_CelebTEMP_MPY_wvf_snd.mp4\n"
     ]
    },
    {
     "name": "stderr",
     "output_type": "stream",
     "text": [
      "                                                                     \r"
     ]
    },
    {
     "name": "stdout",
     "output_type": "stream",
     "text": [
      "MoviePy - Done.\n",
      "Moviepy - Writing video videos/2025-08-04-18-41-48_Celeb.mp4\n",
      "\n"
     ]
    },
    {
     "name": "stderr",
     "output_type": "stream",
     "text": [
      "                                                                 "
     ]
    },
    {
     "name": "stdout",
     "output_type": "stream",
     "text": [
      "Moviepy - Done !\n",
      "Moviepy - video ready videos/2025-08-04-18-41-48_Celeb.mp4\n",
      "Video saved successfully and temporary file removed.\n"
     ]
    },
    {
     "name": "stderr",
     "output_type": "stream",
     "text": [
      "\r"
     ]
    }
   ],
   "source": [
    "for i in range(100):\n",
    "    gen_one_video()\n",
    "    pass\n"
   ]
  }
 ],
 "metadata": {
  "kernelspec": {
   "display_name": ".venv",
   "language": "python",
   "name": "python3"
  },
  "language_info": {
   "codemirror_mode": {
    "name": "ipython",
    "version": 3
   },
   "file_extension": ".py",
   "mimetype": "text/x-python",
   "name": "python",
   "nbconvert_exporter": "python",
   "pygments_lexer": "ipython3",
   "version": "3.12.3"
  }
 },
 "nbformat": 4,
 "nbformat_minor": 5
}
