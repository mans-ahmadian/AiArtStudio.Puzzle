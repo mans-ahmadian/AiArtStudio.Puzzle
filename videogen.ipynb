{
 "cells": [
  {
   "cell_type": "code",
   "execution_count": 1,
   "id": "1e570904",
   "metadata": {},
   "outputs": [
    {
     "name": "stdout",
     "output_type": "stream",
     "text": [
      "Note: you may need to restart the kernel to use updated packages.\n"
     ]
    }
   ],
   "source": [
    "%pip freeze > requirements.txt"
   ]
  },
  {
   "cell_type": "code",
   "execution_count": 2,
   "id": "266862af",
   "metadata": {},
   "outputs": [],
   "source": [
    "import cv2\n",
    "import numpy as np\n",
    "from PIL import Image\n",
    "from moviepy.editor import VideoFileClip, AudioFileClip, CompositeAudioClip\n",
    "import tempfile\n",
    "import os\n"
   ]
  },
  {
   "cell_type": "code",
   "execution_count": 3,
   "id": "201c10a1",
   "metadata": {},
   "outputs": [],
   "source": [
    "\n",
    "class VideoEditor:\n",
    "    def __init__(self, fps=30, fourcc='mp4v', frame_size=(640, 480)):\n",
    "        self.fps = fps\n",
    "        self.frame_size = frame_size\n",
    "        self.fourcc = cv2.VideoWriter_fourcc(*fourcc)\n",
    "        self.temp_video_path = tempfile.mktemp(suffix='.mp4')\n",
    "        self.video_writer = cv2.VideoWriter(self.temp_video_path, self.fourcc, self.fps, self.frame_size)\n",
    "        self.current_time = 0  # in seconds\n",
    "        self.audio_clips = []\n",
    "\n",
    "    def _resize_frame(self, frame):\n",
    "        return cv2.resize(frame, self.frame_size)\n",
    "\n",
    "    def _convert_to_cv2(self, image):\n",
    "        if isinstance(image, str):\n",
    "            img = cv2.imread(image)\n",
    "        elif isinstance(image, Image.Image):\n",
    "            img = cv2.cvtColor(np.array(image), cv2.COLOR_RGB2BGR)\n",
    "        elif isinstance(image, np.ndarray):\n",
    "            img = image\n",
    "        else:\n",
    "            raise ValueError(\"Unsupported image type.\")\n",
    "        return self._resize_frame(img)\n",
    "    \n",
    "    def add_images_from_list(self, images, duration_sec):\n",
    "        \"\"\"\n",
    "        Adds several images to the video.\n",
    "\n",
    "        Args:\n",
    "            images: Can be a string (directory path), a list of strings (image file paths),\n",
    "                    a list of OpenCV images (numpy arrays), or a list of Pillow images.\n",
    "            duration_sec: The total duration (in seconds) that these images should occupy in the video.\n",
    "        \"\"\"\n",
    "        image_list = []\n",
    "\n",
    "        if isinstance(images, str) and os.path.isdir(images):\n",
    "            for filename in sorted(os.listdir(images)):\n",
    "                if filename.lower().endswith(('.png', '.jpg', '.jpeg', '.gif', '.bmp')):\n",
    "                    image_list.append(os.path.join(images, filename))\n",
    "        elif isinstance(images, list):\n",
    "            if all(isinstance(img, str) for img in images):\n",
    "                image_list = images\n",
    "            elif all(isinstance(img, (np.ndarray, Image.Image)) for img in images):\n",
    "                image_list = images\n",
    "            else:\n",
    "                raise ValueError(\"List must contain only strings (paths), OpenCV images, or Pillow images.\")\n",
    "        else:\n",
    "            raise ValueError(\"Unsupported 'images' type. Must be a directory path (string), a list of paths, a list of OpenCV images, or a list of Pillow images.\")\n",
    "\n",
    "        if not image_list:\n",
    "            print(\"No images found to add.\")\n",
    "            return\n",
    "\n",
    "        single_image_duration = duration_sec / len(image_list)\n",
    "\n",
    "        for img in image_list:\n",
    "            self.add_image(img, single_image_duration)\n",
    "\n",
    "    def add_image(self, image, duration_sec):\n",
    "        \"\"\"\n",
    "        Adds an image for a given duration (in seconds).\n",
    "        \"\"\"\n",
    "        frame = self._convert_to_cv2(image)\n",
    "        frame_count = int(self.fps * duration_sec)\n",
    "        for _ in range(frame_count):\n",
    "            self.video_writer.write(frame)\n",
    "        self.current_time += duration_sec\n",
    "\n",
    "    def add_video(self, video_path):\n",
    "        \"\"\"\n",
    "        Adds another video (with its original duration).\n",
    "        \"\"\"\n",
    "        cap = cv2.VideoCapture(video_path)\n",
    "        video_fps = cap.get(cv2.CAP_PROP_FPS)\n",
    "        while True:\n",
    "            ret, frame = cap.read()\n",
    "            if not ret:\n",
    "                break\n",
    "            frame = self._resize_frame(frame)\n",
    "            self.video_writer.write(frame)\n",
    "        duration = cap.get(cv2.CAP_PROP_FRAME_COUNT) / video_fps\n",
    "        cap.release()\n",
    "        self.current_time += duration\n",
    "\n",
    "    def add_audio(self, audio_path, start_time=None, end_time=None):\n",
    "        \"\"\"\n",
    "        Adds audio from start_time to end_time (both in seconds).\n",
    "        \"\"\"\n",
    "        audio_clip = AudioFileClip(audio_path)\n",
    "        if start_time is not None or end_time is not None:\n",
    "            audio_clip = audio_clip.subclip(start_time or 0, end_time or audio_clip.duration)\n",
    "        self.audio_clips.append((audio_clip, self.current_time))\n",
    "\n",
    "    def save(self, output_path):\n",
    "        \"\"\"\n",
    "        Finalizes the video and merges audio if present.\n",
    "        \"\"\"\n",
    "        self.video_writer.release()\n",
    "\n",
    "        final_clip = VideoFileClip(self.temp_video_path)\n",
    "\n",
    "        if self.audio_clips:\n",
    "            all_audios = []\n",
    "            for audio, offset in self.audio_clips:\n",
    "                all_audios.append(audio.set_start(offset))\n",
    "            composite_audio = CompositeAudioClip(all_audios)\n",
    "            final_clip = final_clip.set_audio(composite_audio)\n",
    "\n",
    "        final_clip.write_videofile(output_path, codec='libx264', audio_codec='aac')\n",
    "        final_clip.close()\n",
    "        os.remove(self.temp_video_path)\n"
   ]
  },
  {
   "cell_type": "code",
   "execution_count": 4,
   "id": "1855aeaa",
   "metadata": {},
   "outputs": [
    {
     "name": "stdout",
     "output_type": "stream",
     "text": [
      "Moviepy - Building video final_output.mp4.\n",
      "Moviepy - Writing video final_output.mp4\n",
      "\n"
     ]
    },
    {
     "name": "stderr",
     "output_type": "stream",
     "text": [
      "                                                                \r"
     ]
    },
    {
     "name": "stdout",
     "output_type": "stream",
     "text": [
      "Moviepy - Done !\n",
      "Moviepy - video ready final_output.mp4\n"
     ]
    }
   ],
   "source": [
    "from PIL import Image\n",
    "\n",
    "editor = VideoEditor(fps=30, frame_size=(512, 512))\n",
    "\n",
    "# Add an image from file for 3 seconds\n",
    "editor.add_images_from_list(\"generated\", duration_sec=30)\n",
    "\n",
    "# Add a Pillow image\n",
    "#editor.add_image(Image.new(\"RGB\", (640, 480), color=\"blue\"), duration_sec=20)\n",
    "\n",
    "# Add an OpenCV image\n",
    "#import numpy as np\n",
    "#opencv_image = np.zeros((480, 640, 3), dtype=np.uint8)\n",
    "#editor.add_image(opencv_image, duration_sec=1)\n",
    "\n",
    "# Add a video\n",
    "#editor.add_video(\"sample_video.mp4\")\n",
    "\n",
    "# Add an audio clip from 0s to 5s, starting at the current video time\n",
    "#editor.add_audio(\"background.mp3\", start_time=0, end_time=5)\n",
    "\n",
    "# Save to file\n",
    "editor.save(\"final_output.mp4\")\n"
   ]
  }
 ],
 "metadata": {
  "kernelspec": {
   "display_name": ".venv",
   "language": "python",
   "name": "python3"
  },
  "language_info": {
   "codemirror_mode": {
    "name": "ipython",
    "version": 3
   },
   "file_extension": ".py",
   "mimetype": "text/x-python",
   "name": "python",
   "nbconvert_exporter": "python",
   "pygments_lexer": "ipython3",
   "version": "3.12.3"
  }
 },
 "nbformat": 4,
 "nbformat_minor": 5
}
