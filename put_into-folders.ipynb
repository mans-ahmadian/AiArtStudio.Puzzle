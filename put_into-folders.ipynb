{
 "cells": [
  {
   "cell_type": "code",
   "execution_count": 9,
   "id": "70344d64",
   "metadata": {},
   "outputs": [],
   "source": [
    "from pathlib import Path\n",
    "import os\n",
    "import sys\n",
    "import math\n",
    "from datetime import datetime, timedelta"
   ]
  },
  {
   "cell_type": "code",
   "execution_count": null,
   "id": "3647deb1",
   "metadata": {},
   "outputs": [],
   "source": [
    "initial_date=\"2025-08-24\"\n",
    "\n",
    "checked_folder=Path(os.getcwd())/'videos'/'checked'\n",
    "file_per_day=5\n"
   ]
  },
  {
   "cell_type": "code",
   "execution_count": 10,
   "id": "39699bb4",
   "metadata": {},
   "outputs": [],
   "source": [
    "def add_days_to_date_string(date_string, days_to_add):\n",
    "    \"\"\"\n",
    "    Adds a specified number of days to a date string.\n",
    "\n",
    "    Args:\n",
    "        date_string (str): The input date string in 'YYYY-MM-DD' format.\n",
    "        days_to_add (int): The number of days to add to the date.\n",
    "\n",
    "    Returns:\n",
    "        str: The new date string in 'YYYY-MM-DD' format after adding the days.\n",
    "    \"\"\"\n",
    "    # Convert the date string to a datetime object\n",
    "    date_object = datetime.strptime(date_string, '%Y-%m-%d')\n",
    "\n",
    "    # Add the specified number of days\n",
    "    new_date_object = date_object + timedelta(days=days_to_add)\n",
    "\n",
    "    # Convert the new datetime object back to a string\n",
    "    new_date_string = new_date_object.strftime('%Y-%m-%d')\n",
    "\n",
    "    return new_date_string"
   ]
  },
  {
   "cell_type": "code",
   "execution_count": 12,
   "id": "995ccb88",
   "metadata": {},
   "outputs": [],
   "source": [
    "all_video_files= list(checked_folder.glob('*.mp4'))\n",
    "mp4_files_count = len(all_video_files)\n",
    "number_of_folders_to_create= math.ceil(mp4_files_count/file_per_day)\n",
    "for i in range(number_of_folders_to_create):\n",
    "    folder_name = add_days_to_date_string(initial_date, i)\n",
    "    new_folder = checked_folder / folder_name\n",
    "    new_folder.mkdir(parents=True, exist_ok=True)\n",
    "    (new_folder/'Done').mkdir(parents=True, exist_ok=True)\n",
    "    (new_folder/'Instagram').mkdir(parents=True, exist_ok=True)\n",
    "    (new_folder/'TikTok').mkdir(parents=True, exist_ok=True)\n",
    "    for file in all_video_files[:file_per_day]:\n",
    "        destination = new_folder / file.name\n",
    "        file.rename(destination)\n",
    "        all_video_files.remove(file)\n",
    "    "
   ]
  }
 ],
 "metadata": {
  "kernelspec": {
   "display_name": ".venv",
   "language": "python",
   "name": "python3"
  },
  "language_info": {
   "codemirror_mode": {
    "name": "ipython",
    "version": 3
   },
   "file_extension": ".py",
   "mimetype": "text/x-python",
   "name": "python",
   "nbconvert_exporter": "python",
   "pygments_lexer": "ipython3",
   "version": "3.12.3"
  }
 },
 "nbformat": 4,
 "nbformat_minor": 5
}
